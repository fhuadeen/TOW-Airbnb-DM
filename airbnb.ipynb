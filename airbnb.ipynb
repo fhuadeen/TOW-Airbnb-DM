import numpy as np
import pandas as pd
import matplotlib.pyplot as plt
% matplotlib inline

# import dataset
df = pd.read_excel('airbnb.xlsx')
