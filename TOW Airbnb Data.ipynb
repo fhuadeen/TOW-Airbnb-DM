{
 "cells": [
  {
   "cell_type": "code",
   "execution_count": 266,
   "metadata": {},
   "outputs": [],
   "source": [
    "# import relevant libraries\n",
    "import numpy as np\n",
    "import pandas as pd\n",
    "from matplotlib import pyplot as plt\n",
    "import seaborn as sns\n",
    "%matplotlib inline"
   ]
  },
  {
   "cell_type": "code",
   "execution_count": 267,
   "metadata": {},
   "outputs": [
    {
     "data": {
      "text/html": [
       "<div>\n",
       "<style scoped>\n",
       "    .dataframe tbody tr th:only-of-type {\n",
       "        vertical-align: middle;\n",
       "    }\n",
       "\n",
       "    .dataframe tbody tr th {\n",
       "        vertical-align: top;\n",
       "    }\n",
       "\n",
       "    .dataframe thead th {\n",
       "        text-align: right;\n",
       "    }\n",
       "</style>\n",
       "<table border=\"1\" class=\"dataframe\">\n",
       "  <thead>\n",
       "    <tr style=\"text-align: right;\">\n",
       "      <th></th>\n",
       "      <th>Host Id</th>\n",
       "      <th>Host Since</th>\n",
       "      <th>Name</th>\n",
       "      <th>Borough</th>\n",
       "      <th>Property Type</th>\n",
       "      <th>Review Scores Rating (bin)</th>\n",
       "      <th>Room Type</th>\n",
       "      <th>Zipcode</th>\n",
       "      <th>Beds</th>\n",
       "      <th>Number of Records</th>\n",
       "      <th>Number Of Reviews</th>\n",
       "      <th>Price</th>\n",
       "      <th>Review Scores Rating</th>\n",
       "    </tr>\n",
       "  </thead>\n",
       "  <tbody>\n",
       "    <tr>\n",
       "      <th>0</th>\n",
       "      <td>5162530</td>\n",
       "      <td>NaT</td>\n",
       "      <td>1 Bedroom in Prime Williamsburg</td>\n",
       "      <td>Brooklyn</td>\n",
       "      <td>Apartment</td>\n",
       "      <td>NaN</td>\n",
       "      <td>Entire home/apt</td>\n",
       "      <td>11249.0</td>\n",
       "      <td>1.0</td>\n",
       "      <td>1</td>\n",
       "      <td>0</td>\n",
       "      <td>145</td>\n",
       "      <td>NaN</td>\n",
       "    </tr>\n",
       "    <tr>\n",
       "      <th>1</th>\n",
       "      <td>33134899</td>\n",
       "      <td>NaT</td>\n",
       "      <td>Sunny, Private room in Bushwick</td>\n",
       "      <td>Brooklyn</td>\n",
       "      <td>Apartment</td>\n",
       "      <td>NaN</td>\n",
       "      <td>Private room</td>\n",
       "      <td>11206.0</td>\n",
       "      <td>1.0</td>\n",
       "      <td>1</td>\n",
       "      <td>1</td>\n",
       "      <td>37</td>\n",
       "      <td>NaN</td>\n",
       "    </tr>\n",
       "    <tr>\n",
       "      <th>2</th>\n",
       "      <td>39608626</td>\n",
       "      <td>NaT</td>\n",
       "      <td>Sunny Room in Harlem</td>\n",
       "      <td>Manhattan</td>\n",
       "      <td>Apartment</td>\n",
       "      <td>NaN</td>\n",
       "      <td>Private room</td>\n",
       "      <td>10032.0</td>\n",
       "      <td>1.0</td>\n",
       "      <td>1</td>\n",
       "      <td>1</td>\n",
       "      <td>28</td>\n",
       "      <td>NaN</td>\n",
       "    </tr>\n",
       "    <tr>\n",
       "      <th>3</th>\n",
       "      <td>500</td>\n",
       "      <td>2008-06-26</td>\n",
       "      <td>Gorgeous 1 BR with Private Balcony</td>\n",
       "      <td>Manhattan</td>\n",
       "      <td>Apartment</td>\n",
       "      <td>NaN</td>\n",
       "      <td>Entire home/apt</td>\n",
       "      <td>10024.0</td>\n",
       "      <td>3.0</td>\n",
       "      <td>1</td>\n",
       "      <td>0</td>\n",
       "      <td>199</td>\n",
       "      <td>NaN</td>\n",
       "    </tr>\n",
       "    <tr>\n",
       "      <th>4</th>\n",
       "      <td>500</td>\n",
       "      <td>2008-06-26</td>\n",
       "      <td>Trendy Times Square Loft</td>\n",
       "      <td>Manhattan</td>\n",
       "      <td>Apartment</td>\n",
       "      <td>95.0</td>\n",
       "      <td>Private room</td>\n",
       "      <td>10036.0</td>\n",
       "      <td>3.0</td>\n",
       "      <td>1</td>\n",
       "      <td>39</td>\n",
       "      <td>549</td>\n",
       "      <td>96.0</td>\n",
       "    </tr>\n",
       "    <tr>\n",
       "      <th>5</th>\n",
       "      <td>1039</td>\n",
       "      <td>2008-07-25</td>\n",
       "      <td>Big Greenpoint 1BD w/ Skyline View</td>\n",
       "      <td>Brooklyn</td>\n",
       "      <td>Apartment</td>\n",
       "      <td>100.0</td>\n",
       "      <td>Entire home/apt</td>\n",
       "      <td>11222.0</td>\n",
       "      <td>1.0</td>\n",
       "      <td>1</td>\n",
       "      <td>4</td>\n",
       "      <td>149</td>\n",
       "      <td>100.0</td>\n",
       "    </tr>\n",
       "    <tr>\n",
       "      <th>6</th>\n",
       "      <td>1783</td>\n",
       "      <td>2008-08-12</td>\n",
       "      <td>Amazing Also</td>\n",
       "      <td>Manhattan</td>\n",
       "      <td>Apartment</td>\n",
       "      <td>100.0</td>\n",
       "      <td>Entire home/apt</td>\n",
       "      <td>10004.0</td>\n",
       "      <td>1.0</td>\n",
       "      <td>1</td>\n",
       "      <td>9</td>\n",
       "      <td>250</td>\n",
       "      <td>100.0</td>\n",
       "    </tr>\n",
       "    <tr>\n",
       "      <th>7</th>\n",
       "      <td>2078</td>\n",
       "      <td>2008-08-15</td>\n",
       "      <td>Colorful, quiet, &amp; near the subway!</td>\n",
       "      <td>Brooklyn</td>\n",
       "      <td>Apartment</td>\n",
       "      <td>90.0</td>\n",
       "      <td>Private room</td>\n",
       "      <td>11201.0</td>\n",
       "      <td>1.0</td>\n",
       "      <td>1</td>\n",
       "      <td>80</td>\n",
       "      <td>90</td>\n",
       "      <td>94.0</td>\n",
       "    </tr>\n",
       "    <tr>\n",
       "      <th>8</th>\n",
       "      <td>2339</td>\n",
       "      <td>2008-08-20</td>\n",
       "      <td>East Village Cocoon: 2 Bedroom Flat</td>\n",
       "      <td>Manhattan</td>\n",
       "      <td>Apartment</td>\n",
       "      <td>90.0</td>\n",
       "      <td>Entire home/apt</td>\n",
       "      <td>10009.0</td>\n",
       "      <td>2.0</td>\n",
       "      <td>1</td>\n",
       "      <td>95</td>\n",
       "      <td>270</td>\n",
       "      <td>90.0</td>\n",
       "    </tr>\n",
       "    <tr>\n",
       "      <th>9</th>\n",
       "      <td>2339</td>\n",
       "      <td>2008-08-20</td>\n",
       "      <td>Lovely 2 Bedroom East Village Nest</td>\n",
       "      <td>Manhattan</td>\n",
       "      <td>Apartment</td>\n",
       "      <td>95.0</td>\n",
       "      <td>Entire home/apt</td>\n",
       "      <td>10009.0</td>\n",
       "      <td>2.0</td>\n",
       "      <td>1</td>\n",
       "      <td>23</td>\n",
       "      <td>290</td>\n",
       "      <td>96.0</td>\n",
       "    </tr>\n",
       "    <tr>\n",
       "      <th>10</th>\n",
       "      <td>2571</td>\n",
       "      <td>2008-08-27</td>\n",
       "      <td>THE PUTNAM</td>\n",
       "      <td>Brooklyn</td>\n",
       "      <td>Apartment</td>\n",
       "      <td>95.0</td>\n",
       "      <td>Entire home/apt</td>\n",
       "      <td>11221.0</td>\n",
       "      <td>2.0</td>\n",
       "      <td>1</td>\n",
       "      <td>14</td>\n",
       "      <td>170</td>\n",
       "      <td>98.0</td>\n",
       "    </tr>\n",
       "    <tr>\n",
       "      <th>11</th>\n",
       "      <td>2758</td>\n",
       "      <td>2008-09-06</td>\n",
       "      <td>Stay at Chez Chic budget room #1</td>\n",
       "      <td>Manhattan</td>\n",
       "      <td>Apartment</td>\n",
       "      <td>90.0</td>\n",
       "      <td>Private room</td>\n",
       "      <td>10026.0</td>\n",
       "      <td>2.0</td>\n",
       "      <td>1</td>\n",
       "      <td>120</td>\n",
       "      <td>59</td>\n",
       "      <td>93.0</td>\n",
       "    </tr>\n",
       "    <tr>\n",
       "      <th>12</th>\n",
       "      <td>2758</td>\n",
       "      <td>2008-09-06</td>\n",
       "      <td>Stay at Chez Chic budget Room #2</td>\n",
       "      <td>Manhattan</td>\n",
       "      <td>Apartment</td>\n",
       "      <td>90.0</td>\n",
       "      <td>Private room</td>\n",
       "      <td>10026.0</td>\n",
       "      <td>2.0</td>\n",
       "      <td>1</td>\n",
       "      <td>81</td>\n",
       "      <td>49</td>\n",
       "      <td>91.0</td>\n",
       "    </tr>\n",
       "    <tr>\n",
       "      <th>13</th>\n",
       "      <td>2787</td>\n",
       "      <td>2008-09-07</td>\n",
       "      <td>Renovated and spacious townhome</td>\n",
       "      <td>Brooklyn</td>\n",
       "      <td>House</td>\n",
       "      <td>NaN</td>\n",
       "      <td>Private room</td>\n",
       "      <td>11223.0</td>\n",
       "      <td>1.0</td>\n",
       "      <td>1</td>\n",
       "      <td>0</td>\n",
       "      <td>68</td>\n",
       "      <td>NaN</td>\n",
       "    </tr>\n",
       "    <tr>\n",
       "      <th>14</th>\n",
       "      <td>2845</td>\n",
       "      <td>2008-09-09</td>\n",
       "      <td>Midtown Castle</td>\n",
       "      <td>Manhattan</td>\n",
       "      <td>Apartment</td>\n",
       "      <td>95.0</td>\n",
       "      <td>Entire home/apt</td>\n",
       "      <td>10018.0</td>\n",
       "      <td>1.0</td>\n",
       "      <td>1</td>\n",
       "      <td>17</td>\n",
       "      <td>285</td>\n",
       "      <td>97.0</td>\n",
       "    </tr>\n",
       "    <tr>\n",
       "      <th>15</th>\n",
       "      <td>2881</td>\n",
       "      <td>2008-09-10</td>\n",
       "      <td>Newly renovated historic brownstone</td>\n",
       "      <td>Brooklyn</td>\n",
       "      <td>Apartment</td>\n",
       "      <td>95.0</td>\n",
       "      <td>Private room</td>\n",
       "      <td>11216.0</td>\n",
       "      <td>1.0</td>\n",
       "      <td>1</td>\n",
       "      <td>32</td>\n",
       "      <td>75</td>\n",
       "      <td>95.0</td>\n",
       "    </tr>\n",
       "    <tr>\n",
       "      <th>16</th>\n",
       "      <td>2965</td>\n",
       "      <td>2008-09-14</td>\n",
       "      <td>Large Bedroom in 3-bedroom Apt.</td>\n",
       "      <td>Manhattan</td>\n",
       "      <td>Apartment</td>\n",
       "      <td>95.0</td>\n",
       "      <td>Private room</td>\n",
       "      <td>10025.0</td>\n",
       "      <td>1.0</td>\n",
       "      <td>1</td>\n",
       "      <td>52</td>\n",
       "      <td>145</td>\n",
       "      <td>99.0</td>\n",
       "    </tr>\n",
       "    <tr>\n",
       "      <th>17</th>\n",
       "      <td>3211</td>\n",
       "      <td>2008-09-25</td>\n",
       "      <td>Elegant NYC, 10mins to Manhattan!</td>\n",
       "      <td>Queens</td>\n",
       "      <td>Apartment</td>\n",
       "      <td>90.0</td>\n",
       "      <td>Private room</td>\n",
       "      <td>11106.0</td>\n",
       "      <td>1.0</td>\n",
       "      <td>1</td>\n",
       "      <td>3</td>\n",
       "      <td>100</td>\n",
       "      <td>93.0</td>\n",
       "    </tr>\n",
       "    <tr>\n",
       "      <th>18</th>\n",
       "      <td>3227</td>\n",
       "      <td>2008-09-26</td>\n",
       "      <td>Priv Apt,Garden,BBQ,A/C,BigTV,for 4</td>\n",
       "      <td>Manhattan</td>\n",
       "      <td>Apartment</td>\n",
       "      <td>85.0</td>\n",
       "      <td>Entire home/apt</td>\n",
       "      <td>10001.0</td>\n",
       "      <td>3.0</td>\n",
       "      <td>1</td>\n",
       "      <td>171</td>\n",
       "      <td>150</td>\n",
       "      <td>85.0</td>\n",
       "    </tr>\n",
       "    <tr>\n",
       "      <th>19</th>\n",
       "      <td>3226</td>\n",
       "      <td>2008-09-26</td>\n",
       "      <td>Great 3 Bed Apt Tribeca / Soho</td>\n",
       "      <td>Manhattan</td>\n",
       "      <td>Apartment</td>\n",
       "      <td>NaN</td>\n",
       "      <td>Entire home/apt</td>\n",
       "      <td>10013.0</td>\n",
       "      <td>3.0</td>\n",
       "      <td>1</td>\n",
       "      <td>0</td>\n",
       "      <td>700</td>\n",
       "      <td>NaN</td>\n",
       "    </tr>\n",
       "  </tbody>\n",
       "</table>\n",
       "</div>"
      ],
      "text/plain": [
       "     Host Id Host Since                                 Name    Borough  \\\n",
       "0    5162530        NaT      1 Bedroom in Prime Williamsburg   Brooklyn   \n",
       "1   33134899        NaT      Sunny, Private room in Bushwick   Brooklyn   \n",
       "2   39608626        NaT                 Sunny Room in Harlem  Manhattan   \n",
       "3        500 2008-06-26   Gorgeous 1 BR with Private Balcony  Manhattan   \n",
       "4        500 2008-06-26             Trendy Times Square Loft  Manhattan   \n",
       "5       1039 2008-07-25   Big Greenpoint 1BD w/ Skyline View   Brooklyn   \n",
       "6       1783 2008-08-12                         Amazing Also  Manhattan   \n",
       "7       2078 2008-08-15  Colorful, quiet, & near the subway!   Brooklyn   \n",
       "8       2339 2008-08-20  East Village Cocoon: 2 Bedroom Flat  Manhattan   \n",
       "9       2339 2008-08-20   Lovely 2 Bedroom East Village Nest  Manhattan   \n",
       "10      2571 2008-08-27                           THE PUTNAM   Brooklyn   \n",
       "11      2758 2008-09-06     Stay at Chez Chic budget room #1  Manhattan   \n",
       "12      2758 2008-09-06     Stay at Chez Chic budget Room #2  Manhattan   \n",
       "13      2787 2008-09-07      Renovated and spacious townhome   Brooklyn   \n",
       "14      2845 2008-09-09                       Midtown Castle  Manhattan   \n",
       "15      2881 2008-09-10  Newly renovated historic brownstone   Brooklyn   \n",
       "16      2965 2008-09-14      Large Bedroom in 3-bedroom Apt.  Manhattan   \n",
       "17      3211 2008-09-25    Elegant NYC, 10mins to Manhattan!     Queens   \n",
       "18      3227 2008-09-26  Priv Apt,Garden,BBQ,A/C,BigTV,for 4  Manhattan   \n",
       "19      3226 2008-09-26       Great 3 Bed Apt Tribeca / Soho  Manhattan   \n",
       "\n",
       "   Property Type  Review Scores Rating (bin)        Room Type  Zipcode  Beds  \\\n",
       "0      Apartment                         NaN  Entire home/apt  11249.0   1.0   \n",
       "1      Apartment                         NaN     Private room  11206.0   1.0   \n",
       "2      Apartment                         NaN     Private room  10032.0   1.0   \n",
       "3      Apartment                         NaN  Entire home/apt  10024.0   3.0   \n",
       "4      Apartment                        95.0     Private room  10036.0   3.0   \n",
       "5      Apartment                       100.0  Entire home/apt  11222.0   1.0   \n",
       "6      Apartment                       100.0  Entire home/apt  10004.0   1.0   \n",
       "7      Apartment                        90.0     Private room  11201.0   1.0   \n",
       "8      Apartment                        90.0  Entire home/apt  10009.0   2.0   \n",
       "9      Apartment                        95.0  Entire home/apt  10009.0   2.0   \n",
       "10     Apartment                        95.0  Entire home/apt  11221.0   2.0   \n",
       "11     Apartment                        90.0     Private room  10026.0   2.0   \n",
       "12     Apartment                        90.0     Private room  10026.0   2.0   \n",
       "13         House                         NaN     Private room  11223.0   1.0   \n",
       "14     Apartment                        95.0  Entire home/apt  10018.0   1.0   \n",
       "15     Apartment                        95.0     Private room  11216.0   1.0   \n",
       "16     Apartment                        95.0     Private room  10025.0   1.0   \n",
       "17     Apartment                        90.0     Private room  11106.0   1.0   \n",
       "18     Apartment                        85.0  Entire home/apt  10001.0   3.0   \n",
       "19     Apartment                         NaN  Entire home/apt  10013.0   3.0   \n",
       "\n",
       "    Number of Records  Number Of Reviews  Price  Review Scores Rating  \n",
       "0                   1                  0    145                   NaN  \n",
       "1                   1                  1     37                   NaN  \n",
       "2                   1                  1     28                   NaN  \n",
       "3                   1                  0    199                   NaN  \n",
       "4                   1                 39    549                  96.0  \n",
       "5                   1                  4    149                 100.0  \n",
       "6                   1                  9    250                 100.0  \n",
       "7                   1                 80     90                  94.0  \n",
       "8                   1                 95    270                  90.0  \n",
       "9                   1                 23    290                  96.0  \n",
       "10                  1                 14    170                  98.0  \n",
       "11                  1                120     59                  93.0  \n",
       "12                  1                 81     49                  91.0  \n",
       "13                  1                  0     68                   NaN  \n",
       "14                  1                 17    285                  97.0  \n",
       "15                  1                 32     75                  95.0  \n",
       "16                  1                 52    145                  99.0  \n",
       "17                  1                  3    100                  93.0  \n",
       "18                  1                171    150                  85.0  \n",
       "19                  1                  0    700                   NaN  "
      ]
     },
     "execution_count": 267,
     "metadata": {},
     "output_type": "execute_result"
    }
   ],
   "source": [
    "# import dataset\n",
    "file = 'airbnb.xlsx'\n",
    "\n",
    "# assign dataset to a variable\n",
    "pd.set_option('display.max_columns', 100)\n",
    "df = pd.read_excel(file)\n",
    "\n",
    "# view first 20 rows of the dataset\n",
    "df.head(20)"
   ]
  },
  {
   "cell_type": "markdown",
   "metadata": {},
   "source": [
    "#### sampling out test set from the data set to reduce risk of data leakage"
   ]
  },
  {
   "cell_type": "code",
   "execution_count": 268,
   "metadata": {},
   "outputs": [],
   "source": [
    "# import relevant library\n",
    "from sklearn.model_selection import train_test_split\n",
    "\n",
    "# set random seed\n",
    "seed = 234\n",
    "\n",
    "# split out the test and train sets from the data\n",
    "Train, Test = train_test_split(df, test_size=.33, random_state=seed)"
   ]
  },
  {
   "cell_type": "code",
   "execution_count": 102,
   "metadata": {},
   "outputs": [],
   "source": [
    "# save Test set to local machine\n",
    "#Test.to_csv('airbnbTest.csv')"
   ]
  },
  {
   "cell_type": "code",
   "execution_count": 50,
   "metadata": {},
   "outputs": [],
   "source": [
    "# save Train set to local machine\n",
    "#Train.to_csv('airbnbTrain.csv')"
   ]
  },
  {
   "cell_type": "markdown",
   "metadata": {},
   "source": [
    "### EDA the original dataset - df"
   ]
  },
  {
   "cell_type": "code",
   "execution_count": 269,
   "metadata": {},
   "outputs": [
    {
     "data": {
      "text/plain": [
       "Host Id                       0.000000\n",
       "Host Since                    0.000098\n",
       "Name                          0.000000\n",
       "Borough                       0.000000\n",
       "Property Type                 0.000098\n",
       "Review Scores Rating (bin)    0.273082\n",
       "Room Type                     0.000000\n",
       "Zipcode                       0.004397\n",
       "Beds                          0.002789\n",
       "Number of Records             0.000000\n",
       "Number Of Reviews             0.000000\n",
       "Price                         0.000000\n",
       "Review Scores Rating          0.273082\n",
       "dtype: float64"
      ]
     },
     "execution_count": 269,
     "metadata": {},
     "output_type": "execute_result"
    }
   ],
   "source": [
    "# analyse the percentage missing values of each variable from the original datasets\n",
    "df.isnull().mean()"
   ]
  },
  {
   "cell_type": "code",
   "execution_count": 270,
   "metadata": {},
   "outputs": [
    {
     "data": {
      "text/plain": [
       "30478"
      ]
     },
     "execution_count": 270,
     "metadata": {},
     "output_type": "execute_result"
    }
   ],
   "source": [
    "len(df)"
   ]
  },
  {
   "cell_type": "code",
   "execution_count": 271,
   "metadata": {},
   "outputs": [
    {
     "data": {
      "text/html": [
       "<div>\n",
       "<style scoped>\n",
       "    .dataframe tbody tr th:only-of-type {\n",
       "        vertical-align: middle;\n",
       "    }\n",
       "\n",
       "    .dataframe tbody tr th {\n",
       "        vertical-align: top;\n",
       "    }\n",
       "\n",
       "    .dataframe thead th {\n",
       "        text-align: right;\n",
       "    }\n",
       "</style>\n",
       "<table border=\"1\" class=\"dataframe\">\n",
       "  <thead>\n",
       "    <tr style=\"text-align: right;\">\n",
       "      <th></th>\n",
       "      <th>Host Id</th>\n",
       "      <th>Review Scores Rating (bin)</th>\n",
       "      <th>Zipcode</th>\n",
       "      <th>Beds</th>\n",
       "      <th>Number of Records</th>\n",
       "      <th>Number Of Reviews</th>\n",
       "      <th>Price</th>\n",
       "      <th>Review Scores Rating</th>\n",
       "    </tr>\n",
       "  </thead>\n",
       "  <tbody>\n",
       "    <tr>\n",
       "      <th>count</th>\n",
       "      <td>3.047800e+04</td>\n",
       "      <td>22155.000000</td>\n",
       "      <td>30344.000000</td>\n",
       "      <td>30393.000000</td>\n",
       "      <td>30478.0</td>\n",
       "      <td>30478.000000</td>\n",
       "      <td>30478.000000</td>\n",
       "      <td>22155.000000</td>\n",
       "    </tr>\n",
       "    <tr>\n",
       "      <th>mean</th>\n",
       "      <td>1.273171e+07</td>\n",
       "      <td>90.738659</td>\n",
       "      <td>10584.854831</td>\n",
       "      <td>1.530089</td>\n",
       "      <td>1.0</td>\n",
       "      <td>12.018735</td>\n",
       "      <td>163.589737</td>\n",
       "      <td>91.993230</td>\n",
       "    </tr>\n",
       "    <tr>\n",
       "      <th>std</th>\n",
       "      <td>1.190270e+07</td>\n",
       "      <td>9.059519</td>\n",
       "      <td>921.299397</td>\n",
       "      <td>1.015359</td>\n",
       "      <td>0.0</td>\n",
       "      <td>21.980703</td>\n",
       "      <td>197.785454</td>\n",
       "      <td>8.850373</td>\n",
       "    </tr>\n",
       "    <tr>\n",
       "      <th>min</th>\n",
       "      <td>5.000000e+02</td>\n",
       "      <td>20.000000</td>\n",
       "      <td>1003.000000</td>\n",
       "      <td>0.000000</td>\n",
       "      <td>1.0</td>\n",
       "      <td>0.000000</td>\n",
       "      <td>10.000000</td>\n",
       "      <td>20.000000</td>\n",
       "    </tr>\n",
       "    <tr>\n",
       "      <th>25%</th>\n",
       "      <td>2.701298e+06</td>\n",
       "      <td>85.000000</td>\n",
       "      <td>10017.000000</td>\n",
       "      <td>1.000000</td>\n",
       "      <td>1.0</td>\n",
       "      <td>0.000000</td>\n",
       "      <td>80.000000</td>\n",
       "      <td>89.000000</td>\n",
       "    </tr>\n",
       "    <tr>\n",
       "      <th>50%</th>\n",
       "      <td>8.551693e+06</td>\n",
       "      <td>90.000000</td>\n",
       "      <td>10065.000000</td>\n",
       "      <td>1.000000</td>\n",
       "      <td>1.0</td>\n",
       "      <td>3.000000</td>\n",
       "      <td>125.000000</td>\n",
       "      <td>94.000000</td>\n",
       "    </tr>\n",
       "    <tr>\n",
       "      <th>75%</th>\n",
       "      <td>2.120617e+07</td>\n",
       "      <td>100.000000</td>\n",
       "      <td>11216.000000</td>\n",
       "      <td>2.000000</td>\n",
       "      <td>1.0</td>\n",
       "      <td>13.000000</td>\n",
       "      <td>195.000000</td>\n",
       "      <td>100.000000</td>\n",
       "    </tr>\n",
       "    <tr>\n",
       "      <th>max</th>\n",
       "      <td>4.303307e+07</td>\n",
       "      <td>100.000000</td>\n",
       "      <td>99135.000000</td>\n",
       "      <td>16.000000</td>\n",
       "      <td>1.0</td>\n",
       "      <td>257.000000</td>\n",
       "      <td>10000.000000</td>\n",
       "      <td>100.000000</td>\n",
       "    </tr>\n",
       "  </tbody>\n",
       "</table>\n",
       "</div>"
      ],
      "text/plain": [
       "            Host Id  Review Scores Rating (bin)       Zipcode          Beds  \\\n",
       "count  3.047800e+04                22155.000000  30344.000000  30393.000000   \n",
       "mean   1.273171e+07                   90.738659  10584.854831      1.530089   \n",
       "std    1.190270e+07                    9.059519    921.299397      1.015359   \n",
       "min    5.000000e+02                   20.000000   1003.000000      0.000000   \n",
       "25%    2.701298e+06                   85.000000  10017.000000      1.000000   \n",
       "50%    8.551693e+06                   90.000000  10065.000000      1.000000   \n",
       "75%    2.120617e+07                  100.000000  11216.000000      2.000000   \n",
       "max    4.303307e+07                  100.000000  99135.000000     16.000000   \n",
       "\n",
       "       Number of Records  Number Of Reviews         Price  \\\n",
       "count            30478.0       30478.000000  30478.000000   \n",
       "mean                 1.0          12.018735    163.589737   \n",
       "std                  0.0          21.980703    197.785454   \n",
       "min                  1.0           0.000000     10.000000   \n",
       "25%                  1.0           0.000000     80.000000   \n",
       "50%                  1.0           3.000000    125.000000   \n",
       "75%                  1.0          13.000000    195.000000   \n",
       "max                  1.0         257.000000  10000.000000   \n",
       "\n",
       "       Review Scores Rating  \n",
       "count          22155.000000  \n",
       "mean              91.993230  \n",
       "std                8.850373  \n",
       "min               20.000000  \n",
       "25%               89.000000  \n",
       "50%               94.000000  \n",
       "75%              100.000000  \n",
       "max              100.000000  "
      ]
     },
     "execution_count": 271,
     "metadata": {},
     "output_type": "execute_result"
    }
   ],
   "source": [
    "# Analyse descriptive stats of numerical variables\n",
    "df.describe()"
   ]
  },
  {
   "cell_type": "markdown",
   "metadata": {},
   "source": [
    "#### visualise distribution of each numerical variable using histogram"
   ]
  },
  {
   "cell_type": "code",
   "execution_count": 113,
   "metadata": {},
   "outputs": [
    {
     "data": {
      "image/png": "[encoded data removed]",
      "text/plain": [
       "<Figure size 432x288 with 9 Axes>"
      ]
     },
     "metadata": {
      "needs_background": "light"
     },
     "output_type": "display_data"
    }
   ],
   "source": [
    "df.hist()\n",
    "plt.show()"
   ]
  },
  {
   "cell_type": "code",
   "execution_count": 117,
   "metadata": {},
   "outputs": [
    {
     "data": {
      "image/png": "[encoded data removed]",
      "text/plain": [
       "<Figure size 432x288 with 1 Axes>"
      ]
     },
     "metadata": {
      "needs_background": "light"
     },
     "output_type": "display_data"
    }
   ],
   "source": [
    "# the distribution of beds. Plotted with plt so as not to tamper with the missing values yet\n",
    "plt.hist(df['Beds'])\n",
    "plt.show()"
   ]
  },
  {
   "cell_type": "code",
   "execution_count": 116,
   "metadata": {},
   "outputs": [
    {
     "data": {
      "image/png": "[encoded data removed]",
      "text/plain": [
       "<Figure size 432x288 with 1 Axes>"
      ]
     },
     "metadata": {
      "needs_background": "light"
     },
     "output_type": "display_data"
    }
   ],
   "source": [
    "# the distribution of Number Of Reviews\n",
    "sns.distplot(df['Number Of Reviews'], kde=True).set_title('Distribution of Number of Review')\n",
    "plt.show()"
   ]
  },
  {
   "cell_type": "code",
   "execution_count": 118,
   "metadata": {},
   "outputs": [
    {
     "data": {
      "image/png": "[encoded data removed]",
      "text/plain": [
       "<Figure size 432x288 with 1 Axes>"
      ]
     },
     "metadata": {
      "needs_background": "light"
     },
     "output_type": "display_data"
    }
   ],
   "source": [
    "# the distribution of Price\n",
    "#plt.hist(df['Price'])\n",
    "sns.distplot(df['Price'], kde=True).set_title('Distribution of Price')\n",
    "plt.show()"
   ]
  },
  {
   "cell_type": "code",
   "execution_count": 119,
   "metadata": {},
   "outputs": [
    {
     "data": {
      "image/png": "[encoded data removed]",
      "text/plain": [
       "<Figure size 432x288 with 1 Axes>"
      ]
     },
     "metadata": {
      "needs_background": "light"
     },
     "output_type": "display_data"
    }
   ],
   "source": [
    "# the distribution of Review Scores Rating\n",
    "plt.hist(df['Review Scores Rating'])\n",
    "plt.show()"
   ]
  },
  {
   "cell_type": "markdown",
   "metadata": {},
   "source": [
    "##### Let's Use Boxplot"
   ]
  },
  {
   "cell_type": "code",
   "execution_count": 120,
   "metadata": {},
   "outputs": [
    {
     "data": {
      "image/png": "[encoded data removed]",
      "text/plain": [
       "<Figure size 432x288 with 1 Axes>"
      ]
     },
     "metadata": {
      "needs_background": "light"
     },
     "output_type": "display_data"
    }
   ],
   "source": [
    "# the distribution of Price\n",
    "sns.boxplot(df['Beds']).set_title('Boxplot of Beds')\n",
    "plt.show()"
   ]
  },
  {
   "cell_type": "code",
   "execution_count": 121,
   "metadata": {},
   "outputs": [
    {
     "data": {
      "image/png": "[encoded data removed]",
      "text/plain": [
       "<Figure size 432x288 with 1 Axes>"
      ]
     },
     "metadata": {
      "needs_background": "light"
     },
     "output_type": "display_data"
    }
   ],
   "source": [
    "# the distribution of Number Of Reviews\n",
    "sns.boxplot(df['Number Of Reviews']).set_title('Boxplot of Number of Review')\n",
    "plt.show()"
   ]
  },
  {
   "cell_type": "code",
   "execution_count": 122,
   "metadata": {},
   "outputs": [
    {
     "data": {
      "image/png": "[encoded data removed]",
      "text/plain": [
       "<Figure size 432x288 with 1 Axes>"
      ]
     },
     "metadata": {
      "needs_background": "light"
     },
     "output_type": "display_data"
    }
   ],
   "source": [
    "# the distribution of Price\n",
    "sns.boxplot(df['Price']).set_title('Boxplot of Price')\n",
    "plt.show()"
   ]
  },
  {
   "cell_type": "code",
   "execution_count": 123,
   "metadata": {},
   "outputs": [
    {
     "data": {
      "image/png": "[encoded data removed]",
      "text/plain": [
       "<Figure size 432x288 with 1 Axes>"
      ]
     },
     "metadata": {
      "needs_background": "light"
     },
     "output_type": "display_data"
    }
   ],
   "source": [
    "# the distribution of Review Scores Rating\n",
    "sns.boxplot(df['Review Scores Rating']).set_title('Boxplot of Review Scores Rating')\n",
    "plt.show()"
   ]
  },
  {
   "cell_type": "markdown",
   "metadata": {},
   "source": [
    "#### Faceting Price with some categorical variables."
   ]
  },
  {
   "cell_type": "code",
   "execution_count": 124,
   "metadata": {
    "scrolled": true
   },
   "outputs": [
    {
     "data": {
      "image/png": "[encoded data removed]",
      "text/plain": [
       "<Figure size 432x288 with 1 Axes>"
      ]
     },
     "metadata": {
      "needs_background": "light"
     },
     "output_type": "display_data"
    }
   ],
   "source": [
    "# Faceting Price and Room Type\n",
    "sns.boxplot(df['Price'], df['Room Type'])\n",
    "plt.show()"
   ]
  },
  {
   "cell_type": "code",
   "execution_count": 125,
   "metadata": {},
   "outputs": [
    {
     "data": {
      "image/png": "[encoded data removed]",
      "text/plain": [
       "<Figure size 432x288 with 1 Axes>"
      ]
     },
     "metadata": {
      "needs_background": "light"
     },
     "output_type": "display_data"
    }
   ],
   "source": [
    "# Faceting Price and Neighbourhood (for some reason, yet unknown, Seaborn is unable to plot this graph)\n",
    "sns.boxplot(df['Price'], df['Borough'])\n",
    "plt.show()"
   ]
  },
  {
   "cell_type": "markdown",
   "metadata": {},
   "source": [
    "#### Analyse association of numerical variables to Price"
   ]
  },
  {
   "cell_type": "code",
   "execution_count": 126,
   "metadata": {},
   "outputs": [
    {
     "data": {
      "image/png": "[encoded data removed]",
      "text/plain": [
       "<Figure size 432x288 with 1 Axes>"
      ]
     },
     "metadata": {
      "needs_background": "light"
     },
     "output_type": "display_data"
    }
   ],
   "source": [
    "# Association between Beds and Price\n",
    "sns.scatterplot('Beds', 'Price', data=df)\n",
    "plt.show()"
   ]
  },
  {
   "cell_type": "code",
   "execution_count": 127,
   "metadata": {},
   "outputs": [
    {
     "data": {
      "image/png": "[encoded data removed]",
      "text/plain": [
       "<Figure size 432x288 with 1 Axes>"
      ]
     },
     "metadata": {
      "needs_background": "light"
     },
     "output_type": "display_data"
    }
   ],
   "source": [
    "# Association between Number Of Reviews and Price\n",
    "sns.scatterplot('Number Of Reviews', 'Price', data=df)\n",
    "plt.show()"
   ]
  },
  {
   "cell_type": "code",
   "execution_count": 128,
   "metadata": {},
   "outputs": [
    {
     "data": {
      "image/png": "[encoded data removed]",
      "text/plain": [
       "<Figure size 432x288 with 1 Axes>"
      ]
     },
     "metadata": {
      "needs_background": "light"
     },
     "output_type": "display_data"
    }
   ],
   "source": [
    "# Association between Review Scores Rating and Price\n",
    "sns.scatterplot('Review Scores Rating', 'Price', data=df)\n",
    "plt.show()"
   ]
  },
  {
   "cell_type": "code",
   "execution_count": 129,
   "metadata": {},
   "outputs": [
    {
     "data": {
      "text/html": [
       "<div>\n",
       "<style scoped>\n",
       "    .dataframe tbody tr th:only-of-type {\n",
       "        vertical-align: middle;\n",
       "    }\n",
       "\n",
       "    .dataframe tbody tr th {\n",
       "        vertical-align: top;\n",
       "    }\n",
       "\n",
       "    .dataframe thead th {\n",
       "        text-align: right;\n",
       "    }\n",
       "</style>\n",
       "<table border=\"1\" class=\"dataframe\">\n",
       "  <thead>\n",
       "    <tr style=\"text-align: right;\">\n",
       "      <th></th>\n",
       "      <th>Host Id</th>\n",
       "      <th>Review Scores Rating (bin)</th>\n",
       "      <th>Zipcode</th>\n",
       "      <th>Beds</th>\n",
       "      <th>Number of Records</th>\n",
       "      <th>Number Of Reviews</th>\n",
       "      <th>Price</th>\n",
       "      <th>Review Scores Rating</th>\n",
       "    </tr>\n",
       "  </thead>\n",
       "  <tbody>\n",
       "    <tr>\n",
       "      <th>Host Id</th>\n",
       "      <td>1.000000</td>\n",
       "      <td>-0.027060</td>\n",
       "      <td>-0.010191</td>\n",
       "      <td>-0.003232</td>\n",
       "      <td>NaN</td>\n",
       "      <td>-0.273226</td>\n",
       "      <td>-0.041046</td>\n",
       "      <td>-0.053590</td>\n",
       "    </tr>\n",
       "    <tr>\n",
       "      <th>Review Scores Rating (bin)</th>\n",
       "      <td>-0.027060</td>\n",
       "      <td>1.000000</td>\n",
       "      <td>0.023669</td>\n",
       "      <td>-0.075283</td>\n",
       "      <td>NaN</td>\n",
       "      <td>-0.062684</td>\n",
       "      <td>0.059740</td>\n",
       "      <td>0.987201</td>\n",
       "    </tr>\n",
       "    <tr>\n",
       "      <th>Zipcode</th>\n",
       "      <td>-0.010191</td>\n",
       "      <td>0.023669</td>\n",
       "      <td>1.000000</td>\n",
       "      <td>0.015414</td>\n",
       "      <td>NaN</td>\n",
       "      <td>-0.018328</td>\n",
       "      <td>-0.118857</td>\n",
       "      <td>0.022110</td>\n",
       "    </tr>\n",
       "    <tr>\n",
       "      <th>Beds</th>\n",
       "      <td>-0.003232</td>\n",
       "      <td>-0.075283</td>\n",
       "      <td>0.015414</td>\n",
       "      <td>1.000000</td>\n",
       "      <td>NaN</td>\n",
       "      <td>0.045795</td>\n",
       "      <td>0.316313</td>\n",
       "      <td>-0.070923</td>\n",
       "    </tr>\n",
       "    <tr>\n",
       "      <th>Number of Records</th>\n",
       "      <td>NaN</td>\n",
       "      <td>NaN</td>\n",
       "      <td>NaN</td>\n",
       "      <td>NaN</td>\n",
       "      <td>NaN</td>\n",
       "      <td>NaN</td>\n",
       "      <td>NaN</td>\n",
       "      <td>NaN</td>\n",
       "    </tr>\n",
       "    <tr>\n",
       "      <th>Number Of Reviews</th>\n",
       "      <td>-0.273226</td>\n",
       "      <td>-0.062684</td>\n",
       "      <td>-0.018328</td>\n",
       "      <td>0.045795</td>\n",
       "      <td>NaN</td>\n",
       "      <td>1.000000</td>\n",
       "      <td>-0.040600</td>\n",
       "      <td>-0.015185</td>\n",
       "    </tr>\n",
       "    <tr>\n",
       "      <th>Price</th>\n",
       "      <td>-0.041046</td>\n",
       "      <td>0.059740</td>\n",
       "      <td>-0.118857</td>\n",
       "      <td>0.316313</td>\n",
       "      <td>NaN</td>\n",
       "      <td>-0.040600</td>\n",
       "      <td>1.000000</td>\n",
       "      <td>0.060703</td>\n",
       "    </tr>\n",
       "    <tr>\n",
       "      <th>Review Scores Rating</th>\n",
       "      <td>-0.053590</td>\n",
       "      <td>0.987201</td>\n",
       "      <td>0.022110</td>\n",
       "      <td>-0.070923</td>\n",
       "      <td>NaN</td>\n",
       "      <td>-0.015185</td>\n",
       "      <td>0.060703</td>\n",
       "      <td>1.000000</td>\n",
       "    </tr>\n",
       "  </tbody>\n",
       "</table>\n",
       "</div>"
      ],
      "text/plain": [
       "                             Host Id  Review Scores Rating (bin)   Zipcode  \\\n",
       "Host Id                     1.000000                   -0.027060 -0.010191   \n",
       "Review Scores Rating (bin) -0.027060                    1.000000  0.023669   \n",
       "Zipcode                    -0.010191                    0.023669  1.000000   \n",
       "Beds                       -0.003232                   -0.075283  0.015414   \n",
       "Number of Records                NaN                         NaN       NaN   \n",
       "Number Of Reviews          -0.273226                   -0.062684 -0.018328   \n",
       "Price                      -0.041046                    0.059740 -0.118857   \n",
       "Review Scores Rating       -0.053590                    0.987201  0.022110   \n",
       "\n",
       "                                Beds  Number of Records  Number Of Reviews  \\\n",
       "Host Id                    -0.003232                NaN          -0.273226   \n",
       "Review Scores Rating (bin) -0.075283                NaN          -0.062684   \n",
       "Zipcode                     0.015414                NaN          -0.018328   \n",
       "Beds                        1.000000                NaN           0.045795   \n",
       "Number of Records                NaN                NaN                NaN   \n",
       "Number Of Reviews           0.045795                NaN           1.000000   \n",
       "Price                       0.316313                NaN          -0.040600   \n",
       "Review Scores Rating       -0.070923                NaN          -0.015185   \n",
       "\n",
       "                               Price  Review Scores Rating  \n",
       "Host Id                    -0.041046             -0.053590  \n",
       "Review Scores Rating (bin)  0.059740              0.987201  \n",
       "Zipcode                    -0.118857              0.022110  \n",
       "Beds                        0.316313             -0.070923  \n",
       "Number of Records                NaN                   NaN  \n",
       "Number Of Reviews          -0.040600             -0.015185  \n",
       "Price                       1.000000              0.060703  \n",
       "Review Scores Rating        0.060703              1.000000  "
      ]
     },
     "execution_count": 129,
     "metadata": {},
     "output_type": "execute_result"
    }
   ],
   "source": [
    "df.corr(method='pearson')"
   ]
  },
  {
   "cell_type": "code",
   "execution_count": 130,
   "metadata": {},
   "outputs": [
    {
     "data": {
      "image/png": "[encoded data removed]",
      "text/plain": [
       "<Figure size 432x288 with 2 Axes>"
      ]
     },
     "metadata": {
      "needs_background": "light"
     },
     "output_type": "display_data"
    }
   ],
   "source": [
    "fig = plt.figure()\n",
    "ax = fig.add_subplot(111)\n",
    "cax = ax.matshow(df.corr(), vmin=-1, vmax=1)\n",
    "fig.colorbar(cax)\n",
    "ticks = np.arange(0,9,1)\n",
    "ax.set_xticks(ticks)\n",
    "ax.set_yticks(ticks)\n",
    "ax.set_xticklabels(df.columns)\n",
    "ax.set_yticklabels(df.columns)\n",
    "plt.show()"
   ]
  },
  {
   "cell_type": "markdown",
   "metadata": {},
   "source": [
    "### Data Preparation - performed only on the Train set"
   ]
  },
  {
   "cell_type": "code",
   "execution_count": 272,
   "metadata": {},
   "outputs": [
    {
     "data": {
      "text/plain": [
       "['Apartment',\n",
       " 'Loft',\n",
       " 'House',\n",
       " 'Condominium',\n",
       " 'Townhouse',\n",
       " 'Bed & Breakfast',\n",
       " 'Tent',\n",
       " 'Other',\n",
       " 'Dorm',\n",
       " 'Treehouse',\n",
       " 'Camper/RV',\n",
       " 'Boat',\n",
       " 'Chalet',\n",
       " 'Villa',\n",
       " 'Bungalow',\n",
       " 'Cabin',\n",
       " 'Hut',\n",
       " nan]"
      ]
     },
     "execution_count": 272,
     "metadata": {},
     "output_type": "execute_result"
    }
   ],
   "source": [
    "# Property Type\n",
    "# House, Condominium, Townhouse, Villa, Bungalow, Chalet, Castle will be converted to House.\n",
    "# Dorm, Camper/RV, Treehouse, Tent, Hut and Lighthouse will be converted to Mini_house.\n",
    "# Apartment, Bed & Breakfast, Other, Loft will be converted to Apartment.\n",
    "# Boat, Cabin will be converted to Conveyance\n",
    "Train['Property Type'].unique().tolist()"
   ]
  },
  {
   "cell_type": "code",
   "execution_count": 273,
   "metadata": {},
   "outputs": [
    {
     "data": {
      "text/plain": [
       "['Entire home/apt', 'Private room', 'Shared room']"
      ]
     },
     "execution_count": 273,
     "metadata": {},
     "output_type": "execute_result"
    }
   ],
   "source": [
    "# Room Type\n",
    "# all Entire home/apt will be converted to Private room\n",
    "Train['Room Type'].unique().tolist()"
   ]
  },
  {
   "cell_type": "code",
   "execution_count": 274,
   "metadata": {
    "collapsed": true
   },
   "outputs": [
    {
     "data": {
      "text/plain": [
       "[87.0,\n",
       " 85.0,\n",
       " 90.0,\n",
       " nan,\n",
       " 100.0,\n",
       " 93.0,\n",
       " 80.0,\n",
       " 95.0,\n",
       " 91.0,\n",
       " 86.0,\n",
       " 96.0,\n",
       " 94.0,\n",
       " 98.0,\n",
       " 89.0,\n",
       " 40.0,\n",
       " 82.0,\n",
       " 88.0,\n",
       " 76.0,\n",
       " 97.0,\n",
       " 77.0,\n",
       " 84.0,\n",
       " 92.0,\n",
       " 70.0,\n",
       " 81.0,\n",
       " 72.0,\n",
       " 99.0,\n",
       " 65.0,\n",
       " 83.0,\n",
       " 73.0,\n",
       " 74.0,\n",
       " 79.0,\n",
       " 60.0,\n",
       " 75.0,\n",
       " 53.0,\n",
       " 30.0,\n",
       " 67.0,\n",
       " 78.0,\n",
       " 71.0,\n",
       " 69.0,\n",
       " 20.0,\n",
       " 50.0,\n",
       " 68.0,\n",
       " 43.0,\n",
       " 58.0,\n",
       " 64.0,\n",
       " 62.0,\n",
       " 57.0,\n",
       " 66.0,\n",
       " 47.0,\n",
       " 55.0,\n",
       " 49.0]"
      ]
     },
     "execution_count": 274,
     "metadata": {},
     "output_type": "execute_result"
    }
   ],
   "source": [
    "# I will like to make prediction with the review scores rating being in continuous form so as to see the effect of 1 change in \n",
    "# reviews scores rating on price\n",
    "Train['Review Scores Rating'].unique().tolist()"
   ]
  },
  {
   "cell_type": "code",
   "execution_count": 275,
   "metadata": {},
   "outputs": [],
   "source": [
    "# Use the year values of 'Host Since' and convert it to age of Host to see if there's an effect in the number of years an\n",
    "# host has been on airbnb in determining price of a home.\n",
    "# Assumes it's year 2015 and so the oldest host will have an age of 8 and so on"
   ]
  },
  {
   "cell_type": "code",
   "execution_count": 276,
   "metadata": {},
   "outputs": [
    {
     "data": {
      "text/html": [
       "<div>\n",
       "<style scoped>\n",
       "    .dataframe tbody tr th:only-of-type {\n",
       "        vertical-align: middle;\n",
       "    }\n",
       "\n",
       "    .dataframe tbody tr th {\n",
       "        vertical-align: top;\n",
       "    }\n",
       "\n",
       "    .dataframe thead th {\n",
       "        text-align: right;\n",
       "    }\n",
       "</style>\n",
       "<table border=\"1\" class=\"dataframe\">\n",
       "  <thead>\n",
       "    <tr style=\"text-align: right;\">\n",
       "      <th></th>\n",
       "      <th>Host Id</th>\n",
       "      <th>Host Since</th>\n",
       "      <th>Name</th>\n",
       "      <th>Borough</th>\n",
       "      <th>Property Type</th>\n",
       "      <th>Review Scores Rating (bin)</th>\n",
       "      <th>Room Type</th>\n",
       "      <th>Zipcode</th>\n",
       "      <th>Beds</th>\n",
       "      <th>Number of Records</th>\n",
       "      <th>Number Of Reviews</th>\n",
       "      <th>Price</th>\n",
       "      <th>Review Scores Rating</th>\n",
       "    </tr>\n",
       "  </thead>\n",
       "  <tbody>\n",
       "    <tr>\n",
       "      <th>14983</th>\n",
       "      <td>8235445</td>\n",
       "      <td>2013-08-18</td>\n",
       "      <td>Downtown Brooklyn Living</td>\n",
       "      <td>Brooklyn</td>\n",
       "      <td>Apartment</td>\n",
       "      <td>85.0</td>\n",
       "      <td>Entire home/apt</td>\n",
       "      <td>11201.0</td>\n",
       "      <td>4.0</td>\n",
       "      <td>1</td>\n",
       "      <td>28</td>\n",
       "      <td>163</td>\n",
       "      <td>87.0</td>\n",
       "    </tr>\n",
       "  </tbody>\n",
       "</table>\n",
       "</div>"
      ],
      "text/plain": [
       "       Host Id Host Since                      Name   Borough Property Type  \\\n",
       "14983  8235445 2013-08-18  Downtown Brooklyn Living  Brooklyn     Apartment   \n",
       "\n",
       "       Review Scores Rating (bin)        Room Type  Zipcode  Beds  \\\n",
       "14983                        85.0  Entire home/apt  11201.0   4.0   \n",
       "\n",
       "       Number of Records  Number Of Reviews  Price  Review Scores Rating  \n",
       "14983                  1                 28    163                  87.0  "
      ]
     },
     "execution_count": 276,
     "metadata": {},
     "output_type": "execute_result"
    }
   ],
   "source": [
    "Train.head(1)"
   ]
  },
  {
   "cell_type": "code",
   "execution_count": 277,
   "metadata": {},
   "outputs": [
    {
     "name": "stderr",
     "output_type": "stream",
     "text": [
      "C:\\Users\\USER\\AppData\\Local\\Continuum\\anaconda3\\lib\\site-packages\\pandas\\core\\frame.py:3697: SettingWithCopyWarning: \n",
      "A value is trying to be set on a copy of a slice from a DataFrame\n",
      "\n",
      "See the caveats in the documentation: http://pandas.pydata.org/pandas-docs/stable/indexing.html#indexing-view-versus-copy\n",
      "  errors=errors)\n"
     ]
    },
    {
     "data": {
      "text/html": [
       "<div>\n",
       "<style scoped>\n",
       "    .dataframe tbody tr th:only-of-type {\n",
       "        vertical-align: middle;\n",
       "    }\n",
       "\n",
       "    .dataframe tbody tr th {\n",
       "        vertical-align: top;\n",
       "    }\n",
       "\n",
       "    .dataframe thead th {\n",
       "        text-align: right;\n",
       "    }\n",
       "</style>\n",
       "<table border=\"1\" class=\"dataframe\">\n",
       "  <thead>\n",
       "    <tr style=\"text-align: right;\">\n",
       "      <th></th>\n",
       "      <th>Host Since</th>\n",
       "      <th>Borough</th>\n",
       "      <th>Property Type</th>\n",
       "      <th>Room Type</th>\n",
       "      <th>Beds</th>\n",
       "      <th>Number Of Reviews</th>\n",
       "      <th>Price</th>\n",
       "      <th>Review Scores Rating</th>\n",
       "    </tr>\n",
       "  </thead>\n",
       "  <tbody>\n",
       "    <tr>\n",
       "      <th>14983</th>\n",
       "      <td>2013-08-18</td>\n",
       "      <td>Brooklyn</td>\n",
       "      <td>Apartment</td>\n",
       "      <td>Entire home/apt</td>\n",
       "      <td>4.0</td>\n",
       "      <td>28</td>\n",
       "      <td>163</td>\n",
       "      <td>87.0</td>\n",
       "    </tr>\n",
       "    <tr>\n",
       "      <th>14303</th>\n",
       "      <td>2013-07-13</td>\n",
       "      <td>Manhattan</td>\n",
       "      <td>Apartment</td>\n",
       "      <td>Entire home/apt</td>\n",
       "      <td>3.0</td>\n",
       "      <td>32</td>\n",
       "      <td>206</td>\n",
       "      <td>85.0</td>\n",
       "    </tr>\n",
       "    <tr>\n",
       "      <th>5560</th>\n",
       "      <td>2012-02-02</td>\n",
       "      <td>Manhattan</td>\n",
       "      <td>Apartment</td>\n",
       "      <td>Private room</td>\n",
       "      <td>1.0</td>\n",
       "      <td>4</td>\n",
       "      <td>90</td>\n",
       "      <td>90.0</td>\n",
       "    </tr>\n",
       "    <tr>\n",
       "      <th>6603</th>\n",
       "      <td>2012-04-23</td>\n",
       "      <td>Brooklyn</td>\n",
       "      <td>Apartment</td>\n",
       "      <td>Entire home/apt</td>\n",
       "      <td>1.0</td>\n",
       "      <td>0</td>\n",
       "      <td>110</td>\n",
       "      <td>NaN</td>\n",
       "    </tr>\n",
       "  </tbody>\n",
       "</table>\n",
       "</div>"
      ],
      "text/plain": [
       "      Host Since    Borough Property Type        Room Type  Beds  \\\n",
       "14983 2013-08-18   Brooklyn     Apartment  Entire home/apt   4.0   \n",
       "14303 2013-07-13  Manhattan     Apartment  Entire home/apt   3.0   \n",
       "5560  2012-02-02  Manhattan     Apartment     Private room   1.0   \n",
       "6603  2012-04-23   Brooklyn     Apartment  Entire home/apt   1.0   \n",
       "\n",
       "       Number Of Reviews  Price  Review Scores Rating  \n",
       "14983                 28    163                  87.0  \n",
       "14303                 32    206                  85.0  \n",
       "5560                   4     90                  90.0  \n",
       "6603                   0    110                   NaN  "
      ]
     },
     "execution_count": 277,
     "metadata": {},
     "output_type": "execute_result"
    }
   ],
   "source": [
    "# remove irrelevant features\n",
    "Train.drop(['Host Id', 'Name', 'Review Scores Rating (bin)', 'Zipcode', 'Number of Records'], axis=1, inplace=True)\n",
    "Train.head(4)"
   ]
  },
  {
   "cell_type": "markdown",
   "metadata": {},
   "source": [
    "##### Convert Host Since to Years and then age of Host on Airbnb"
   ]
  },
  {
   "cell_type": "code",
   "execution_count": 278,
   "metadata": {},
   "outputs": [
    {
     "name": "stderr",
     "output_type": "stream",
     "text": [
      "C:\\Users\\USER\\AppData\\Local\\Continuum\\anaconda3\\lib\\site-packages\\ipykernel_launcher.py:2: SettingWithCopyWarning: \n",
      "A value is trying to be set on a copy of a slice from a DataFrame.\n",
      "Try using .loc[row_indexer,col_indexer] = value instead\n",
      "\n",
      "See the caveats in the documentation: http://pandas.pydata.org/pandas-docs/stable/indexing.html#indexing-view-versus-copy\n",
      "  \n"
     ]
    },
    {
     "data": {
      "text/html": [
       "<div>\n",
       "<style scoped>\n",
       "    .dataframe tbody tr th:only-of-type {\n",
       "        vertical-align: middle;\n",
       "    }\n",
       "\n",
       "    .dataframe tbody tr th {\n",
       "        vertical-align: top;\n",
       "    }\n",
       "\n",
       "    .dataframe thead th {\n",
       "        text-align: right;\n",
       "    }\n",
       "</style>\n",
       "<table border=\"1\" class=\"dataframe\">\n",
       "  <thead>\n",
       "    <tr style=\"text-align: right;\">\n",
       "      <th></th>\n",
       "      <th>Host Since</th>\n",
       "      <th>Borough</th>\n",
       "      <th>Property Type</th>\n",
       "      <th>Room Type</th>\n",
       "      <th>Beds</th>\n",
       "      <th>Number Of Reviews</th>\n",
       "      <th>Price</th>\n",
       "      <th>Review Scores Rating</th>\n",
       "      <th>Age</th>\n",
       "    </tr>\n",
       "  </thead>\n",
       "  <tbody>\n",
       "    <tr>\n",
       "      <th>14983</th>\n",
       "      <td>2013-08-18</td>\n",
       "      <td>Brooklyn</td>\n",
       "      <td>Apartment</td>\n",
       "      <td>Entire home/apt</td>\n",
       "      <td>4.0</td>\n",
       "      <td>28</td>\n",
       "      <td>163</td>\n",
       "      <td>87.0</td>\n",
       "      <td>2013.0</td>\n",
       "    </tr>\n",
       "    <tr>\n",
       "      <th>14303</th>\n",
       "      <td>2013-07-13</td>\n",
       "      <td>Manhattan</td>\n",
       "      <td>Apartment</td>\n",
       "      <td>Entire home/apt</td>\n",
       "      <td>3.0</td>\n",
       "      <td>32</td>\n",
       "      <td>206</td>\n",
       "      <td>85.0</td>\n",
       "      <td>2013.0</td>\n",
       "    </tr>\n",
       "    <tr>\n",
       "      <th>5560</th>\n",
       "      <td>2012-02-02</td>\n",
       "      <td>Manhattan</td>\n",
       "      <td>Apartment</td>\n",
       "      <td>Private room</td>\n",
       "      <td>1.0</td>\n",
       "      <td>4</td>\n",
       "      <td>90</td>\n",
       "      <td>90.0</td>\n",
       "      <td>2012.0</td>\n",
       "    </tr>\n",
       "    <tr>\n",
       "      <th>6603</th>\n",
       "      <td>2012-04-23</td>\n",
       "      <td>Brooklyn</td>\n",
       "      <td>Apartment</td>\n",
       "      <td>Entire home/apt</td>\n",
       "      <td>1.0</td>\n",
       "      <td>0</td>\n",
       "      <td>110</td>\n",
       "      <td>NaN</td>\n",
       "      <td>2012.0</td>\n",
       "    </tr>\n",
       "    <tr>\n",
       "      <th>30233</th>\n",
       "      <td>2015-08-19</td>\n",
       "      <td>Brooklyn</td>\n",
       "      <td>Apartment</td>\n",
       "      <td>Private room</td>\n",
       "      <td>1.0</td>\n",
       "      <td>3</td>\n",
       "      <td>70</td>\n",
       "      <td>100.0</td>\n",
       "      <td>2015.0</td>\n",
       "    </tr>\n",
       "  </tbody>\n",
       "</table>\n",
       "</div>"
      ],
      "text/plain": [
       "      Host Since    Borough Property Type        Room Type  Beds  \\\n",
       "14983 2013-08-18   Brooklyn     Apartment  Entire home/apt   4.0   \n",
       "14303 2013-07-13  Manhattan     Apartment  Entire home/apt   3.0   \n",
       "5560  2012-02-02  Manhattan     Apartment     Private room   1.0   \n",
       "6603  2012-04-23   Brooklyn     Apartment  Entire home/apt   1.0   \n",
       "30233 2015-08-19   Brooklyn     Apartment     Private room   1.0   \n",
       "\n",
       "       Number Of Reviews  Price  Review Scores Rating     Age  \n",
       "14983                 28    163                  87.0  2013.0  \n",
       "14303                 32    206                  85.0  2013.0  \n",
       "5560                   4     90                  90.0  2012.0  \n",
       "6603                   0    110                   NaN  2012.0  \n",
       "30233                  3     70                 100.0  2015.0  "
      ]
     },
     "execution_count": 278,
     "metadata": {},
     "output_type": "execute_result"
    }
   ],
   "source": [
    "# Convert Host Since to Years (named it Age already)\n",
    "Train['Age'] = Train['Host Since'].map(lambda x: x.year)\n",
    "Train.head()"
   ]
  },
  {
   "cell_type": "code",
   "execution_count": 279,
   "metadata": {},
   "outputs": [
    {
     "data": {
      "text/html": [
       "<div>\n",
       "<style scoped>\n",
       "    .dataframe tbody tr th:only-of-type {\n",
       "        vertical-align: middle;\n",
       "    }\n",
       "\n",
       "    .dataframe tbody tr th {\n",
       "        vertical-align: top;\n",
       "    }\n",
       "\n",
       "    .dataframe thead th {\n",
       "        text-align: right;\n",
       "    }\n",
       "</style>\n",
       "<table border=\"1\" class=\"dataframe\">\n",
       "  <thead>\n",
       "    <tr style=\"text-align: right;\">\n",
       "      <th></th>\n",
       "      <th>Host Since</th>\n",
       "      <th>Borough</th>\n",
       "      <th>Property Type</th>\n",
       "      <th>Room Type</th>\n",
       "      <th>Beds</th>\n",
       "      <th>Number Of Reviews</th>\n",
       "      <th>Price</th>\n",
       "      <th>Review Scores Rating</th>\n",
       "      <th>Age</th>\n",
       "    </tr>\n",
       "  </thead>\n",
       "  <tbody>\n",
       "    <tr>\n",
       "      <th>14983</th>\n",
       "      <td>2013-08-18</td>\n",
       "      <td>Brooklyn</td>\n",
       "      <td>Apartment</td>\n",
       "      <td>Entire home/apt</td>\n",
       "      <td>4.0</td>\n",
       "      <td>28</td>\n",
       "      <td>163</td>\n",
       "      <td>87.0</td>\n",
       "      <td>2013.0</td>\n",
       "    </tr>\n",
       "    <tr>\n",
       "      <th>14303</th>\n",
       "      <td>2013-07-13</td>\n",
       "      <td>Manhattan</td>\n",
       "      <td>Apartment</td>\n",
       "      <td>Entire home/apt</td>\n",
       "      <td>3.0</td>\n",
       "      <td>32</td>\n",
       "      <td>206</td>\n",
       "      <td>85.0</td>\n",
       "      <td>2013.0</td>\n",
       "    </tr>\n",
       "    <tr>\n",
       "      <th>5560</th>\n",
       "      <td>2012-02-02</td>\n",
       "      <td>Manhattan</td>\n",
       "      <td>Apartment</td>\n",
       "      <td>Private room</td>\n",
       "      <td>1.0</td>\n",
       "      <td>4</td>\n",
       "      <td>90</td>\n",
       "      <td>90.0</td>\n",
       "      <td>2012.0</td>\n",
       "    </tr>\n",
       "    <tr>\n",
       "      <th>6603</th>\n",
       "      <td>2012-04-23</td>\n",
       "      <td>Brooklyn</td>\n",
       "      <td>Apartment</td>\n",
       "      <td>Entire home/apt</td>\n",
       "      <td>1.0</td>\n",
       "      <td>0</td>\n",
       "      <td>110</td>\n",
       "      <td>NaN</td>\n",
       "      <td>2012.0</td>\n",
       "    </tr>\n",
       "    <tr>\n",
       "      <th>30233</th>\n",
       "      <td>2015-08-19</td>\n",
       "      <td>Brooklyn</td>\n",
       "      <td>Apartment</td>\n",
       "      <td>Private room</td>\n",
       "      <td>1.0</td>\n",
       "      <td>3</td>\n",
       "      <td>70</td>\n",
       "      <td>100.0</td>\n",
       "      <td>2015.0</td>\n",
       "    </tr>\n",
       "  </tbody>\n",
       "</table>\n",
       "</div>"
      ],
      "text/plain": [
       "      Host Since    Borough Property Type        Room Type  Beds  \\\n",
       "14983 2013-08-18   Brooklyn     Apartment  Entire home/apt   4.0   \n",
       "14303 2013-07-13  Manhattan     Apartment  Entire home/apt   3.0   \n",
       "5560  2012-02-02  Manhattan     Apartment     Private room   1.0   \n",
       "6603  2012-04-23   Brooklyn     Apartment  Entire home/apt   1.0   \n",
       "30233 2015-08-19   Brooklyn     Apartment     Private room   1.0   \n",
       "\n",
       "       Number Of Reviews  Price  Review Scores Rating     Age  \n",
       "14983                 28    163                  87.0  2013.0  \n",
       "14303                 32    206                  85.0  2013.0  \n",
       "5560                   4     90                  90.0  2012.0  \n",
       "6603                   0    110                   NaN  2012.0  \n",
       "30233                  3     70                 100.0  2015.0  "
      ]
     },
     "execution_count": 279,
     "metadata": {},
     "output_type": "execute_result"
    }
   ],
   "source": [
    "# fill up Age attribute NAs with the mode value 2015 to allow for easier calculation later\n",
    "Train.Age.fillna(Train.Age.mode()[0], inplace=True)\n",
    "Train.head()"
   ]
  },
  {
   "cell_type": "code",
   "execution_count": 280,
   "metadata": {},
   "outputs": [
    {
     "name": "stderr",
     "output_type": "stream",
     "text": [
      "C:\\Users\\USER\\AppData\\Local\\Continuum\\anaconda3\\lib\\site-packages\\pandas\\core\\generic.py:4405: SettingWithCopyWarning: \n",
      "A value is trying to be set on a copy of a slice from a DataFrame.\n",
      "Try using .loc[row_indexer,col_indexer] = value instead\n",
      "\n",
      "See the caveats in the documentation: http://pandas.pydata.org/pandas-docs/stable/indexing.html#indexing-view-versus-copy\n",
      "  self[name] = value\n"
     ]
    },
    {
     "data": {
      "text/html": [
       "<div>\n",
       "<style scoped>\n",
       "    .dataframe tbody tr th:only-of-type {\n",
       "        vertical-align: middle;\n",
       "    }\n",
       "\n",
       "    .dataframe tbody tr th {\n",
       "        vertical-align: top;\n",
       "    }\n",
       "\n",
       "    .dataframe thead th {\n",
       "        text-align: right;\n",
       "    }\n",
       "</style>\n",
       "<table border=\"1\" class=\"dataframe\">\n",
       "  <thead>\n",
       "    <tr style=\"text-align: right;\">\n",
       "      <th></th>\n",
       "      <th>Host Since</th>\n",
       "      <th>Borough</th>\n",
       "      <th>Property Type</th>\n",
       "      <th>Room Type</th>\n",
       "      <th>Beds</th>\n",
       "      <th>Number Of Reviews</th>\n",
       "      <th>Price</th>\n",
       "      <th>Review Scores Rating</th>\n",
       "      <th>Age</th>\n",
       "    </tr>\n",
       "  </thead>\n",
       "  <tbody>\n",
       "    <tr>\n",
       "      <th>14983</th>\n",
       "      <td>2013-08-18</td>\n",
       "      <td>Brooklyn</td>\n",
       "      <td>Apartment</td>\n",
       "      <td>Entire home/apt</td>\n",
       "      <td>4.0</td>\n",
       "      <td>28</td>\n",
       "      <td>163</td>\n",
       "      <td>87.0</td>\n",
       "      <td>2013</td>\n",
       "    </tr>\n",
       "    <tr>\n",
       "      <th>14303</th>\n",
       "      <td>2013-07-13</td>\n",
       "      <td>Manhattan</td>\n",
       "      <td>Apartment</td>\n",
       "      <td>Entire home/apt</td>\n",
       "      <td>3.0</td>\n",
       "      <td>32</td>\n",
       "      <td>206</td>\n",
       "      <td>85.0</td>\n",
       "      <td>2013</td>\n",
       "    </tr>\n",
       "    <tr>\n",
       "      <th>5560</th>\n",
       "      <td>2012-02-02</td>\n",
       "      <td>Manhattan</td>\n",
       "      <td>Apartment</td>\n",
       "      <td>Private room</td>\n",
       "      <td>1.0</td>\n",
       "      <td>4</td>\n",
       "      <td>90</td>\n",
       "      <td>90.0</td>\n",
       "      <td>2012</td>\n",
       "    </tr>\n",
       "  </tbody>\n",
       "</table>\n",
       "</div>"
      ],
      "text/plain": [
       "      Host Since    Borough Property Type        Room Type  Beds  \\\n",
       "14983 2013-08-18   Brooklyn     Apartment  Entire home/apt   4.0   \n",
       "14303 2013-07-13  Manhattan     Apartment  Entire home/apt   3.0   \n",
       "5560  2012-02-02  Manhattan     Apartment     Private room   1.0   \n",
       "\n",
       "       Number Of Reviews  Price  Review Scores Rating   Age  \n",
       "14983                 28    163                  87.0  2013  \n",
       "14303                 32    206                  85.0  2013  \n",
       "5560                   4     90                  90.0  2012  "
      ]
     },
     "execution_count": 280,
     "metadata": {},
     "output_type": "execute_result"
    }
   ],
   "source": [
    "# convert values in Age attribute to integer\n",
    "Train.Age = Train.Age.fillna(0.0).astype(int)\n",
    "Train.head(3)"
   ]
  },
  {
   "cell_type": "code",
   "execution_count": 281,
   "metadata": {},
   "outputs": [
    {
     "data": {
      "text/html": [
       "<div>\n",
       "<style scoped>\n",
       "    .dataframe tbody tr th:only-of-type {\n",
       "        vertical-align: middle;\n",
       "    }\n",
       "\n",
       "    .dataframe tbody tr th {\n",
       "        vertical-align: top;\n",
       "    }\n",
       "\n",
       "    .dataframe thead th {\n",
       "        text-align: right;\n",
       "    }\n",
       "</style>\n",
       "<table border=\"1\" class=\"dataframe\">\n",
       "  <thead>\n",
       "    <tr style=\"text-align: right;\">\n",
       "      <th></th>\n",
       "      <th>Host Since</th>\n",
       "      <th>Borough</th>\n",
       "      <th>Property Type</th>\n",
       "      <th>Room Type</th>\n",
       "      <th>Beds</th>\n",
       "      <th>Number Of Reviews</th>\n",
       "      <th>Price</th>\n",
       "      <th>Review Scores Rating</th>\n",
       "      <th>Age</th>\n",
       "    </tr>\n",
       "  </thead>\n",
       "  <tbody>\n",
       "    <tr>\n",
       "      <th>14983</th>\n",
       "      <td>2013-08-18</td>\n",
       "      <td>Brooklyn</td>\n",
       "      <td>Apartment</td>\n",
       "      <td>Entire home/apt</td>\n",
       "      <td>4.0</td>\n",
       "      <td>28</td>\n",
       "      <td>163</td>\n",
       "      <td>87.0</td>\n",
       "      <td>2</td>\n",
       "    </tr>\n",
       "    <tr>\n",
       "      <th>14303</th>\n",
       "      <td>2013-07-13</td>\n",
       "      <td>Manhattan</td>\n",
       "      <td>Apartment</td>\n",
       "      <td>Entire home/apt</td>\n",
       "      <td>3.0</td>\n",
       "      <td>32</td>\n",
       "      <td>206</td>\n",
       "      <td>85.0</td>\n",
       "      <td>2</td>\n",
       "    </tr>\n",
       "    <tr>\n",
       "      <th>5560</th>\n",
       "      <td>2012-02-02</td>\n",
       "      <td>Manhattan</td>\n",
       "      <td>Apartment</td>\n",
       "      <td>Private room</td>\n",
       "      <td>1.0</td>\n",
       "      <td>4</td>\n",
       "      <td>90</td>\n",
       "      <td>90.0</td>\n",
       "      <td>3</td>\n",
       "    </tr>\n",
       "  </tbody>\n",
       "</table>\n",
       "</div>"
      ],
      "text/plain": [
       "      Host Since    Borough Property Type        Room Type  Beds  \\\n",
       "14983 2013-08-18   Brooklyn     Apartment  Entire home/apt   4.0   \n",
       "14303 2013-07-13  Manhattan     Apartment  Entire home/apt   3.0   \n",
       "5560  2012-02-02  Manhattan     Apartment     Private room   1.0   \n",
       "\n",
       "       Number Of Reviews  Price  Review Scores Rating  Age  \n",
       "14983                 28    163                  87.0    2  \n",
       "14303                 32    206                  85.0    2  \n",
       "5560                   4     90                  90.0    3  "
      ]
     },
     "execution_count": 281,
     "metadata": {},
     "output_type": "execute_result"
    }
   ],
   "source": [
    "# convert the years to age in number of years\n",
    "Train.Age = 2015 - Train.Age\n",
    "Train.head(3)"
   ]
  },
  {
   "cell_type": "code",
   "execution_count": 282,
   "metadata": {},
   "outputs": [
    {
     "data": {
      "text/html": [
       "<div>\n",
       "<style scoped>\n",
       "    .dataframe tbody tr th:only-of-type {\n",
       "        vertical-align: middle;\n",
       "    }\n",
       "\n",
       "    .dataframe tbody tr th {\n",
       "        vertical-align: top;\n",
       "    }\n",
       "\n",
       "    .dataframe thead th {\n",
       "        text-align: right;\n",
       "    }\n",
       "</style>\n",
       "<table border=\"1\" class=\"dataframe\">\n",
       "  <thead>\n",
       "    <tr style=\"text-align: right;\">\n",
       "      <th></th>\n",
       "      <th>Borough</th>\n",
       "      <th>Property Type</th>\n",
       "      <th>Room Type</th>\n",
       "      <th>Beds</th>\n",
       "      <th>Number Of Reviews</th>\n",
       "      <th>Price</th>\n",
       "      <th>Review Scores Rating</th>\n",
       "      <th>Age</th>\n",
       "    </tr>\n",
       "  </thead>\n",
       "  <tbody>\n",
       "    <tr>\n",
       "      <th>14983</th>\n",
       "      <td>Brooklyn</td>\n",
       "      <td>Apartment</td>\n",
       "      <td>Entire home/apt</td>\n",
       "      <td>4.0</td>\n",
       "      <td>28</td>\n",
       "      <td>163</td>\n",
       "      <td>87.0</td>\n",
       "      <td>2</td>\n",
       "    </tr>\n",
       "    <tr>\n",
       "      <th>14303</th>\n",
       "      <td>Manhattan</td>\n",
       "      <td>Apartment</td>\n",
       "      <td>Entire home/apt</td>\n",
       "      <td>3.0</td>\n",
       "      <td>32</td>\n",
       "      <td>206</td>\n",
       "      <td>85.0</td>\n",
       "      <td>2</td>\n",
       "    </tr>\n",
       "  </tbody>\n",
       "</table>\n",
       "</div>"
      ],
      "text/plain": [
       "         Borough Property Type        Room Type  Beds  Number Of Reviews  \\\n",
       "14983   Brooklyn     Apartment  Entire home/apt   4.0                 28   \n",
       "14303  Manhattan     Apartment  Entire home/apt   3.0                 32   \n",
       "\n",
       "       Price  Review Scores Rating  Age  \n",
       "14983    163                  87.0    2  \n",
       "14303    206                  85.0    2  "
      ]
     },
     "execution_count": 282,
     "metadata": {},
     "output_type": "execute_result"
    }
   ],
   "source": [
    "# drop the 'Host Since' variable\n",
    "Train.drop('Host Since', axis=1, inplace=True)\n",
    "Train.head(2)"
   ]
  },
  {
   "cell_type": "code",
   "execution_count": 283,
   "metadata": {},
   "outputs": [
    {
     "data": {
      "text/plain": [
       "Borough                    0\n",
       "Property Type              2\n",
       "Room Type                  0\n",
       "Beds                      55\n",
       "Number Of Reviews          0\n",
       "Price                      0\n",
       "Review Scores Rating    5603\n",
       "Age                        0\n",
       "dtype: int64"
      ]
     },
     "execution_count": 283,
     "metadata": {},
     "output_type": "execute_result"
    }
   ],
   "source": [
    "Train.isnull().sum()"
   ]
  },
  {
   "cell_type": "markdown",
   "metadata": {},
   "source": [
    "##### Merging values of some attributes to one. This will reduce noise and also for easy modelling."
   ]
  },
  {
   "cell_type": "code",
   "execution_count": 284,
   "metadata": {},
   "outputs": [
    {
     "data": {
      "text/html": [
       "<div>\n",
       "<style scoped>\n",
       "    .dataframe tbody tr th:only-of-type {\n",
       "        vertical-align: middle;\n",
       "    }\n",
       "\n",
       "    .dataframe tbody tr th {\n",
       "        vertical-align: top;\n",
       "    }\n",
       "\n",
       "    .dataframe thead th {\n",
       "        text-align: right;\n",
       "    }\n",
       "</style>\n",
       "<table border=\"1\" class=\"dataframe\">\n",
       "  <thead>\n",
       "    <tr style=\"text-align: right;\">\n",
       "      <th></th>\n",
       "      <th>Borough</th>\n",
       "      <th>Property Type</th>\n",
       "      <th>Room Type</th>\n",
       "      <th>Beds</th>\n",
       "      <th>Number Of Reviews</th>\n",
       "      <th>Price</th>\n",
       "      <th>Review Scores Rating</th>\n",
       "      <th>Age</th>\n",
       "    </tr>\n",
       "  </thead>\n",
       "  <tbody>\n",
       "    <tr>\n",
       "      <th>14983</th>\n",
       "      <td>Brooklyn</td>\n",
       "      <td>Apartment</td>\n",
       "      <td>Entire home/apt</td>\n",
       "      <td>4.0</td>\n",
       "      <td>28</td>\n",
       "      <td>163</td>\n",
       "      <td>87.0</td>\n",
       "      <td>2</td>\n",
       "    </tr>\n",
       "    <tr>\n",
       "      <th>14303</th>\n",
       "      <td>Manhattan</td>\n",
       "      <td>Apartment</td>\n",
       "      <td>Entire home/apt</td>\n",
       "      <td>3.0</td>\n",
       "      <td>32</td>\n",
       "      <td>206</td>\n",
       "      <td>85.0</td>\n",
       "      <td>2</td>\n",
       "    </tr>\n",
       "  </tbody>\n",
       "</table>\n",
       "</div>"
      ],
      "text/plain": [
       "         Borough Property Type        Room Type  Beds  Number Of Reviews  \\\n",
       "14983   Brooklyn     Apartment  Entire home/apt   4.0                 28   \n",
       "14303  Manhattan     Apartment  Entire home/apt   3.0                 32   \n",
       "\n",
       "       Price  Review Scores Rating  Age  \n",
       "14983    163                  87.0    2  \n",
       "14303    206                  85.0    2  "
      ]
     },
     "execution_count": 284,
     "metadata": {},
     "output_type": "execute_result"
    }
   ],
   "source": [
    "# For Property Type\n",
    "# House, Condominium, Townhouse, Villa, Bungalow, Chalet, Castle will be converted to House (They are all similar to being just a house). \n",
    "# Dorm, Camper/RV, Treehouse, Tent, Hut and Lighthouse will be converted to Mini_house.\n",
    "# Apartment, Bed & Breakfast, Other, Loft will be converted to Apartment.\n",
    "# Boat, Cabin will be converted to Conveyance\n",
    "#df['Propety_Type'] = \n",
    "Train['Property Type'].replace({'Condominium' : 'House', 'Townhouse' : 'House', 'Villa' : 'House', 'Bungalow' : 'House', 'Chalet' : 'House', 'Castle' : 'House',\n",
    "                                               'Dorm' : 'Mini_house', 'Camper/RV' : 'Mini_house', 'Treehouse' : 'Mini_house', 'Tent' : 'Mini_house', 'Hut' : 'Mini_house', 'Lighthouse' : 'Mini_house',\n",
    "                                               'Bed' : 'Apartment', 'Bed &Breakfast' : 'Apartment', 'Other' : 'Apartment', 'Loft': 'Apartment',\n",
    "                                               'Boat' : 'Conveyance', 'Cabin' : 'Conveyance'}, inplace=True)\n",
    "Train.head(2)"
   ]
  },
  {
   "cell_type": "code",
   "execution_count": 285,
   "metadata": {},
   "outputs": [
    {
     "data": {
      "text/plain": [
       "['Apartment', 'House', 'Mini_house', 'Conveyance', nan]"
      ]
     },
     "execution_count": 285,
     "metadata": {},
     "output_type": "execute_result"
    }
   ],
   "source": [
    "# There was a mistake in the first code in converting 'Bed & Breakfast' to 'Apartment'\n",
    "Train['Property Type'].replace({'Bed & Breakfast' : 'Apartment'}, inplace=True)\n",
    "Train['Property Type'].unique().tolist()"
   ]
  },
  {
   "cell_type": "code",
   "execution_count": 286,
   "metadata": {},
   "outputs": [
    {
     "data": {
      "text/plain": [
       "['Private room', 'Shared room']"
      ]
     },
     "execution_count": 286,
     "metadata": {},
     "output_type": "execute_result"
    }
   ],
   "source": [
    "# For Room Type\n",
    "# all Entire home/apt will be converted to Private room\n",
    "Train['Room Type'].replace({'Entire home/apt' : 'Private room'}, inplace=True)\n",
    "Train['Room Type'].unique().tolist()"
   ]
  },
  {
   "cell_type": "code",
   "execution_count": 287,
   "metadata": {
    "scrolled": false
   },
   "outputs": [
    {
     "data": {
      "text/plain": [
       "Price                   1.000000\n",
       "Beds                    0.311338\n",
       "Review Scores Rating    0.055657\n",
       "Age                     0.022829\n",
       "Number Of Reviews      -0.036072\n",
       "Name: Price, dtype: float64"
      ]
     },
     "execution_count": 287,
     "metadata": {},
     "output_type": "execute_result"
    }
   ],
   "source": [
    "# Checking correlation between predictors and the target (train set)\n",
    "trainCorr = Train.corr()\n",
    "trainCorr.Price.sort_values(ascending=False)"
   ]
  },
  {
   "cell_type": "code",
   "execution_count": 288,
   "metadata": {},
   "outputs": [
    {
     "name": "stderr",
     "output_type": "stream",
     "text": [
      "C:\\Users\\USER\\AppData\\Local\\Continuum\\anaconda3\\lib\\site-packages\\ipykernel_launcher.py:6: FutureWarning: pandas.scatter_matrix is deprecated, use pandas.plotting.scatter_matrix instead\n",
      "  \n"
     ]
    },
    {
     "data": {
      "image/png": "[encoded data removed]",
      "text/plain": [
       "<Figure size 864x576 with 25 Axes>"
      ]
     },
     "metadata": {
      "needs_background": "light"
     },
     "output_type": "display_data"
    }
   ],
   "source": [
    "# scatter matrix on the train set\n",
    "from pandas import scatter_matrix\n",
    "\n",
    "attributes = ['Price', 'Beds', 'Review Scores Rating', 'Age', 'Number Of Reviews']\n",
    "\n",
    "scatter_matrix(Train[attributes], figsize=(12,8))\n",
    "plt.show()"
   ]
  },
  {
   "cell_type": "code",
   "execution_count": 149,
   "metadata": {},
   "outputs": [
    {
     "data": {
      "image/png": "[encoded data removed]",
      "text/plain": [
       "<Figure size 432x288 with 1 Axes>"
      ]
     },
     "metadata": {
      "needs_background": "light"
     },
     "output_type": "display_data"
    }
   ],
   "source": [
    "# look deeper into Beds (train set)\n",
    "Train.plot(kind='scatter', x='Beds', y='Price', alpha=.1)\n",
    "plt.show()"
   ]
  },
  {
   "cell_type": "markdown",
   "metadata": {},
   "source": [
    "##### Impute Missing Values"
   ]
  },
  {
   "cell_type": "code",
   "execution_count": 289,
   "metadata": {},
   "outputs": [
    {
     "data": {
      "text/html": [
       "<div>\n",
       "<style scoped>\n",
       "    .dataframe tbody tr th:only-of-type {\n",
       "        vertical-align: middle;\n",
       "    }\n",
       "\n",
       "    .dataframe tbody tr th {\n",
       "        vertical-align: top;\n",
       "    }\n",
       "\n",
       "    .dataframe thead th {\n",
       "        text-align: right;\n",
       "    }\n",
       "</style>\n",
       "<table border=\"1\" class=\"dataframe\">\n",
       "  <thead>\n",
       "    <tr style=\"text-align: right;\">\n",
       "      <th></th>\n",
       "      <th>Borough</th>\n",
       "      <th>Property Type</th>\n",
       "      <th>Room Type</th>\n",
       "      <th>Beds</th>\n",
       "      <th>Number Of Reviews</th>\n",
       "      <th>Price</th>\n",
       "      <th>Review Scores Rating</th>\n",
       "      <th>Age</th>\n",
       "    </tr>\n",
       "  </thead>\n",
       "  <tbody>\n",
       "    <tr>\n",
       "      <th>14983</th>\n",
       "      <td>1</td>\n",
       "      <td>1.0</td>\n",
       "      <td>1</td>\n",
       "      <td>4.0</td>\n",
       "      <td>28</td>\n",
       "      <td>163</td>\n",
       "      <td>87.0</td>\n",
       "      <td>2</td>\n",
       "    </tr>\n",
       "    <tr>\n",
       "      <th>14303</th>\n",
       "      <td>2</td>\n",
       "      <td>1.0</td>\n",
       "      <td>1</td>\n",
       "      <td>3.0</td>\n",
       "      <td>32</td>\n",
       "      <td>206</td>\n",
       "      <td>85.0</td>\n",
       "      <td>2</td>\n",
       "    </tr>\n",
       "    <tr>\n",
       "      <th>5560</th>\n",
       "      <td>2</td>\n",
       "      <td>1.0</td>\n",
       "      <td>1</td>\n",
       "      <td>1.0</td>\n",
       "      <td>4</td>\n",
       "      <td>90</td>\n",
       "      <td>90.0</td>\n",
       "      <td>3</td>\n",
       "    </tr>\n",
       "    <tr>\n",
       "      <th>6603</th>\n",
       "      <td>1</td>\n",
       "      <td>1.0</td>\n",
       "      <td>1</td>\n",
       "      <td>1.0</td>\n",
       "      <td>0</td>\n",
       "      <td>110</td>\n",
       "      <td>NaN</td>\n",
       "      <td>3</td>\n",
       "    </tr>\n",
       "    <tr>\n",
       "      <th>30233</th>\n",
       "      <td>1</td>\n",
       "      <td>1.0</td>\n",
       "      <td>1</td>\n",
       "      <td>1.0</td>\n",
       "      <td>3</td>\n",
       "      <td>70</td>\n",
       "      <td>100.0</td>\n",
       "      <td>0</td>\n",
       "    </tr>\n",
       "  </tbody>\n",
       "</table>\n",
       "</div>"
      ],
      "text/plain": [
       "       Borough  Property Type  Room Type  Beds  Number Of Reviews  Price  \\\n",
       "14983        1            1.0          1   4.0                 28    163   \n",
       "14303        2            1.0          1   3.0                 32    206   \n",
       "5560         2            1.0          1   1.0                  4     90   \n",
       "6603         1            1.0          1   1.0                  0    110   \n",
       "30233        1            1.0          1   1.0                  3     70   \n",
       "\n",
       "       Review Scores Rating  Age  \n",
       "14983                  87.0    2  \n",
       "14303                  85.0    2  \n",
       "5560                   90.0    3  \n",
       "6603                    NaN    3  \n",
       "30233                 100.0    0  "
      ]
     },
     "execution_count": 289,
     "metadata": {},
     "output_type": "execute_result"
    }
   ],
   "source": [
    "# Label encode all categorical variables to prepare for estimating missing values\n",
    "Train['Borough'].replace({'Brooklyn' : 1, 'Manhattan' : 2, 'Queens' : 3, 'Bronx' : 4, 'Staten Island' : 5}, inplace=True)\n",
    "Train['Room Type'].replace({'Private room' : 1, 'Shared room' : 2}, inplace=True)\n",
    "Train['Property Type'].replace({'Apartment' : 1, 'House' : 2, 'Mini_house' : 3, 'Conveyance' : 4}, inplace=True)\n",
    "Train.head()"
   ]
  },
  {
   "cell_type": "code",
   "execution_count": 290,
   "metadata": {},
   "outputs": [],
   "source": [
    "# Fill up missing values with mode and median.\n",
    "# Mode for Property Type as it is a categorical variable\n",
    "# Mode for Beds (it's the same value as the median)\n",
    "# Median for Review Scores Rating. Due to the high amount of outliers, median is better for central tendency.\n",
    "Train['Property Type'].fillna(Train['Property Type'].mode()[0], inplace=True)\n",
    "Train['Beds'].fillna(Train['Beds'].mode()[0], inplace=True)\n",
    "Train['Review Scores Rating'].fillna(Train['Review Scores Rating'].median(), inplace=True)"
   ]
  },
  {
   "cell_type": "code",
   "execution_count": 291,
   "metadata": {},
   "outputs": [
    {
     "data": {
      "text/plain": [
       "Borough                 0\n",
       "Property Type           0\n",
       "Room Type               0\n",
       "Beds                    0\n",
       "Number Of Reviews       0\n",
       "Price                   0\n",
       "Review Scores Rating    0\n",
       "Age                     0\n",
       "dtype: int64"
      ]
     },
     "execution_count": 291,
     "metadata": {},
     "output_type": "execute_result"
    }
   ],
   "source": [
    "# check for null values in the data set\n",
    "Train.isnull().sum()"
   ]
  },
  {
   "cell_type": "markdown",
   "metadata": {},
   "source": [
    "##### Identifying and removing outliers"
   ]
  },
  {
   "cell_type": "code",
   "execution_count": 292,
   "metadata": {},
   "outputs": [
    {
     "name": "stderr",
     "output_type": "stream",
     "text": [
      "C:\\Users\\USER\\AppData\\Local\\Continuum\\anaconda3\\lib\\site-packages\\sklearn\\neighbors\\lof.py:236: FutureWarning: default contamination parameter 0.1 will change in version 0.22 to \"auto\". This will change the predict method behavior.\n",
      "  FutureWarning)\n"
     ]
    },
    {
     "name": "stdout",
     "output_type": "stream",
     "text": [
      "(18378, 8)\n"
     ]
    }
   ],
   "source": [
    "# Identify and remove possible outliers from the data\n",
    "# converting Train set to arrays\n",
    "trainA = Train.values # trainA means train set arrays\n",
    "\n",
    "# import relevant library\n",
    "from sklearn.neighbors import LocalOutlierFactor\n",
    "\n",
    "# instantiate function\n",
    "lof = LocalOutlierFactor()\n",
    "ohat = lof.fit_predict(trainA)\n",
    "\n",
    "# select non outliers\n",
    "mask = ohat != -1\n",
    "trainNO = trainA[mask, :] #trainNO means train set with no outliers\n",
    "\n",
    "print(trainNO.shape)"
   ]
  },
  {
   "cell_type": "code",
   "execution_count": 293,
   "metadata": {},
   "outputs": [
    {
     "data": {
      "text/html": [
       "<div>\n",
       "<style scoped>\n",
       "    .dataframe tbody tr th:only-of-type {\n",
       "        vertical-align: middle;\n",
       "    }\n",
       "\n",
       "    .dataframe tbody tr th {\n",
       "        vertical-align: top;\n",
       "    }\n",
       "\n",
       "    .dataframe thead th {\n",
       "        text-align: right;\n",
       "    }\n",
       "</style>\n",
       "<table border=\"1\" class=\"dataframe\">\n",
       "  <thead>\n",
       "    <tr style=\"text-align: right;\">\n",
       "      <th></th>\n",
       "      <th>Borough</th>\n",
       "      <th>Property Type</th>\n",
       "      <th>Room Type</th>\n",
       "      <th>Beds</th>\n",
       "      <th>Number Of Reviews</th>\n",
       "      <th>Price</th>\n",
       "      <th>Review Scores Rating</th>\n",
       "      <th>Age</th>\n",
       "    </tr>\n",
       "  </thead>\n",
       "  <tbody>\n",
       "    <tr>\n",
       "      <th>0</th>\n",
       "      <td>1.0</td>\n",
       "      <td>1.0</td>\n",
       "      <td>1.0</td>\n",
       "      <td>4.0</td>\n",
       "      <td>28.0</td>\n",
       "      <td>163.0</td>\n",
       "      <td>87.0</td>\n",
       "      <td>2.0</td>\n",
       "    </tr>\n",
       "    <tr>\n",
       "      <th>1</th>\n",
       "      <td>2.0</td>\n",
       "      <td>1.0</td>\n",
       "      <td>1.0</td>\n",
       "      <td>3.0</td>\n",
       "      <td>32.0</td>\n",
       "      <td>206.0</td>\n",
       "      <td>85.0</td>\n",
       "      <td>2.0</td>\n",
       "    </tr>\n",
       "    <tr>\n",
       "      <th>2</th>\n",
       "      <td>2.0</td>\n",
       "      <td>1.0</td>\n",
       "      <td>1.0</td>\n",
       "      <td>1.0</td>\n",
       "      <td>4.0</td>\n",
       "      <td>90.0</td>\n",
       "      <td>90.0</td>\n",
       "      <td>3.0</td>\n",
       "    </tr>\n",
       "    <tr>\n",
       "      <th>3</th>\n",
       "      <td>1.0</td>\n",
       "      <td>1.0</td>\n",
       "      <td>1.0</td>\n",
       "      <td>1.0</td>\n",
       "      <td>0.0</td>\n",
       "      <td>110.0</td>\n",
       "      <td>94.0</td>\n",
       "      <td>3.0</td>\n",
       "    </tr>\n",
       "  </tbody>\n",
       "</table>\n",
       "</div>"
      ],
      "text/plain": [
       "   Borough  Property Type  Room Type  Beds  Number Of Reviews  Price  \\\n",
       "0      1.0            1.0        1.0   4.0               28.0  163.0   \n",
       "1      2.0            1.0        1.0   3.0               32.0  206.0   \n",
       "2      2.0            1.0        1.0   1.0                4.0   90.0   \n",
       "3      1.0            1.0        1.0   1.0                0.0  110.0   \n",
       "\n",
       "   Review Scores Rating  Age  \n",
       "0                  87.0  2.0  \n",
       "1                  85.0  2.0  \n",
       "2                  90.0  3.0  \n",
       "3                  94.0  3.0  "
      ]
     },
     "execution_count": 293,
     "metadata": {},
     "output_type": "execute_result"
    }
   ],
   "source": [
    "# we can convert it back to pandas dataframe\n",
    "trainNO = pd.DataFrame(trainNO, columns=list(Train.columns))\n",
    "trainNO.head(4)"
   ]
  },
  {
   "cell_type": "code",
   "execution_count": 294,
   "metadata": {},
   "outputs": [
    {
     "data": {
      "text/plain": [
       "0    163.0\n",
       "1    206.0\n",
       "2     90.0\n",
       "3    110.0\n",
       "4     70.0\n",
       "Name: Price, dtype: float64"
      ]
     },
     "execution_count": 294,
     "metadata": {},
     "output_type": "execute_result"
    }
   ],
   "source": [
    "# Split out predictors from target variable\n",
    "trainX = trainNO.drop(['Price'], axis=1)\n",
    "trainY = trainNO['Price']\n",
    "trainY.head()"
   ]
  },
  {
   "cell_type": "markdown",
   "metadata": {},
   "source": [
    "### CREATE PIPELINE FOR DIFFERENT TRANSFORMATONS ON TRAIN DATASET"
   ]
  },
  {
   "cell_type": "markdown",
   "metadata": {},
   "source": [
    "##### Pipeline for Numerical Variables\n",
    "1. simpleImputer for misssing values (median)\n",
    "2. StandardScaler for feature scaling\n",
    "\n",
    "##### Pipeline for Categorical Variables\n",
    "1. simpleImputer for misssing values (mode)\n",
    "2. OneHotEncoder for creating dummy variables"
   ]
  },
  {
   "cell_type": "code",
   "execution_count": 295,
   "metadata": {},
   "outputs": [
    {
     "data": {
      "text/html": [
       "<div>\n",
       "<style scoped>\n",
       "    .dataframe tbody tr th:only-of-type {\n",
       "        vertical-align: middle;\n",
       "    }\n",
       "\n",
       "    .dataframe tbody tr th {\n",
       "        vertical-align: top;\n",
       "    }\n",
       "\n",
       "    .dataframe thead th {\n",
       "        text-align: right;\n",
       "    }\n",
       "</style>\n",
       "<table border=\"1\" class=\"dataframe\">\n",
       "  <thead>\n",
       "    <tr style=\"text-align: right;\">\n",
       "      <th></th>\n",
       "      <th>Beds</th>\n",
       "      <th>Number Of Reviews</th>\n",
       "      <th>Review Scores Rating</th>\n",
       "      <th>Age</th>\n",
       "    </tr>\n",
       "  </thead>\n",
       "  <tbody>\n",
       "    <tr>\n",
       "      <th>0</th>\n",
       "      <td>4.0</td>\n",
       "      <td>28.0</td>\n",
       "      <td>87.0</td>\n",
       "      <td>2.0</td>\n",
       "    </tr>\n",
       "    <tr>\n",
       "      <th>1</th>\n",
       "      <td>3.0</td>\n",
       "      <td>32.0</td>\n",
       "      <td>85.0</td>\n",
       "      <td>2.0</td>\n",
       "    </tr>\n",
       "    <tr>\n",
       "      <th>2</th>\n",
       "      <td>1.0</td>\n",
       "      <td>4.0</td>\n",
       "      <td>90.0</td>\n",
       "      <td>3.0</td>\n",
       "    </tr>\n",
       "    <tr>\n",
       "      <th>3</th>\n",
       "      <td>1.0</td>\n",
       "      <td>0.0</td>\n",
       "      <td>94.0</td>\n",
       "      <td>3.0</td>\n",
       "    </tr>\n",
       "    <tr>\n",
       "      <th>4</th>\n",
       "      <td>1.0</td>\n",
       "      <td>3.0</td>\n",
       "      <td>100.0</td>\n",
       "      <td>0.0</td>\n",
       "    </tr>\n",
       "  </tbody>\n",
       "</table>\n",
       "</div>"
      ],
      "text/plain": [
       "   Beds  Number Of Reviews  Review Scores Rating  Age\n",
       "0   4.0               28.0                  87.0  2.0\n",
       "1   3.0               32.0                  85.0  2.0\n",
       "2   1.0                4.0                  90.0  3.0\n",
       "3   1.0                0.0                  94.0  3.0\n",
       "4   1.0                3.0                 100.0  0.0"
      ]
     },
     "execution_count": 295,
     "metadata": {},
     "output_type": "execute_result"
    }
   ],
   "source": [
    "# split out numerical predictors from trainX\n",
    "numFeats = ['Beds', 'Number Of Reviews', 'Review Scores Rating', 'Age'] #numFeats means numerical feature columns\n",
    "trainNum = trainX.loc[:, numFeats]\n",
    "trainNum.head() # trainNum means trainset numerical predictors"
   ]
  },
  {
   "cell_type": "code",
   "execution_count": 296,
   "metadata": {},
   "outputs": [
    {
     "data": {
      "text/html": [
       "<div>\n",
       "<style scoped>\n",
       "    .dataframe tbody tr th:only-of-type {\n",
       "        vertical-align: middle;\n",
       "    }\n",
       "\n",
       "    .dataframe tbody tr th {\n",
       "        vertical-align: top;\n",
       "    }\n",
       "\n",
       "    .dataframe thead th {\n",
       "        text-align: right;\n",
       "    }\n",
       "</style>\n",
       "<table border=\"1\" class=\"dataframe\">\n",
       "  <thead>\n",
       "    <tr style=\"text-align: right;\">\n",
       "      <th></th>\n",
       "      <th>Borough</th>\n",
       "      <th>Property Type</th>\n",
       "      <th>Room Type</th>\n",
       "    </tr>\n",
       "  </thead>\n",
       "  <tbody>\n",
       "    <tr>\n",
       "      <th>0</th>\n",
       "      <td>1.0</td>\n",
       "      <td>1.0</td>\n",
       "      <td>1.0</td>\n",
       "    </tr>\n",
       "    <tr>\n",
       "      <th>1</th>\n",
       "      <td>2.0</td>\n",
       "      <td>1.0</td>\n",
       "      <td>1.0</td>\n",
       "    </tr>\n",
       "    <tr>\n",
       "      <th>2</th>\n",
       "      <td>2.0</td>\n",
       "      <td>1.0</td>\n",
       "      <td>1.0</td>\n",
       "    </tr>\n",
       "    <tr>\n",
       "      <th>3</th>\n",
       "      <td>1.0</td>\n",
       "      <td>1.0</td>\n",
       "      <td>1.0</td>\n",
       "    </tr>\n",
       "    <tr>\n",
       "      <th>4</th>\n",
       "      <td>1.0</td>\n",
       "      <td>1.0</td>\n",
       "      <td>1.0</td>\n",
       "    </tr>\n",
       "  </tbody>\n",
       "</table>\n",
       "</div>"
      ],
      "text/plain": [
       "   Borough  Property Type  Room Type\n",
       "0      1.0            1.0        1.0\n",
       "1      2.0            1.0        1.0\n",
       "2      2.0            1.0        1.0\n",
       "3      1.0            1.0        1.0\n",
       "4      1.0            1.0        1.0"
      ]
     },
     "execution_count": 296,
     "metadata": {},
     "output_type": "execute_result"
    }
   ],
   "source": [
    "# split out categorical predictors from trainX\n",
    "catFeats = trainX.columns.drop(numFeats) # catFeats means categorical f\n",
    "trainCat = trainX.loc[:, catFeats]\n",
    "trainCat.head() # trainCat means train set's categorical predictors"
   ]
  },
  {
   "cell_type": "markdown",
   "metadata": {},
   "source": [
    "#### numpipe > catpipe > columntransformer > pipeline w/ model"
   ]
  },
  {
   "cell_type": "code",
   "execution_count": 309,
   "metadata": {},
   "outputs": [],
   "source": [
    "# Pipeline for numerical predictors\n",
    "\n",
    "# import relevant libraries\n",
    "from sklearn.pipeline import Pipeline\n",
    "from sklearn.preprocessing import StandardScaler\n",
    "from sklearn.impute import SimpleImputer\n",
    "\n",
    "# instantiate Pipeline\n",
    "numPipe = Pipeline([('ImputeNum', SimpleImputer(strategy='median')), ('Scaler', StandardScaler())])"
   ]
  },
  {
   "cell_type": "code",
   "execution_count": 310,
   "metadata": {},
   "outputs": [],
   "source": [
    "# Pipeline for categorical predictors\n",
    "\n",
    "# import relevant library\n",
    "from sklearn.preprocessing import OneHotEncoder\n",
    "\n",
    "# instantiate Pipeline\n",
    "catPipe = Pipeline([('ImputeCat', SimpleImputer(strategy='most_frequent')), ('OneHot', OneHotEncoder())])"
   ]
  },
  {
   "cell_type": "code",
   "execution_count": 311,
   "metadata": {},
   "outputs": [],
   "source": [
    "# Combine the two pipelines using Sklearn's ColumnTransformer\n",
    "\n",
    "from sklearn.compose import ColumnTransformer\n",
    "\n",
    "fullPipe = ColumnTransformer([('Nums', numPipe, numFeats), ('Cats', catPipe, catFeats)])"
   ]
  },
  {
   "cell_type": "code",
   "execution_count": 312,
   "metadata": {},
   "outputs": [
    {
     "name": "stderr",
     "output_type": "stream",
     "text": [
      "C:\\Users\\USER\\AppData\\Local\\Continuum\\anaconda3\\lib\\site-packages\\sklearn\\preprocessing\\_encoders.py:368: FutureWarning: The handling of integer data will change in version 0.22. Currently, the categories are determined based on the range [0, max(values)], while in the future they will be determined based on the unique values.\n",
      "If you want the future behaviour and silence this warning, you can specify \"categories='auto'\".\n",
      "In case you used a LabelEncoder before this OneHotEncoder to convert the categories to integers, then you can now use the OneHotEncoder directly.\n",
      "  warnings.warn(msg, FutureWarning)\n"
     ]
    },
    {
     "data": {
      "text/plain": [
       "array([[ 2.80607248,  0.68701377, -0.77757634, ...,  0.        ,\n",
       "         1.        ,  0.        ],\n",
       "       [ 1.69400295,  0.86797569, -1.05427344, ...,  0.        ,\n",
       "         1.        ,  0.        ],\n",
       "       [-0.53013609, -0.39875773, -0.36253071, ...,  0.        ,\n",
       "         1.        ,  0.        ],\n",
       "       ...,\n",
       "       [-0.53013609, -0.48923868,  1.02095476, ...,  0.        ,\n",
       "         1.        ,  0.        ],\n",
       "       [-0.53013609, -0.57971964,  0.19086348, ...,  0.        ,\n",
       "         1.        ,  0.        ],\n",
       "       [-0.53013609, -0.57971964,  0.19086348, ...,  0.        ,\n",
       "         1.        ,  0.        ]])"
      ]
     },
     "execution_count": 312,
     "metadata": {},
     "output_type": "execute_result"
    }
   ],
   "source": [
    "# run pipeline on trainX set\n",
    "fullPipe.fit(trainX, trainY)\n",
    "trainXPrep = fullPipe.transform(trainX) # trainXPrep means prepared train predictors\n",
    "trainXPrep"
   ]
  },
  {
   "cell_type": "markdown",
   "metadata": {},
   "source": [
    "### SPOT CHECK ALGORITHMS"
   ]
  },
  {
   "cell_type": "code",
   "execution_count": 202,
   "metadata": {
    "collapsed": true
   },
   "outputs": [
    {
     "name": "stderr",
     "output_type": "stream",
     "text": [
      "C:\\Users\\USER\\AppData\\Local\\Continuum\\anaconda3\\lib\\site-packages\\sklearn\\model_selection\\_split.py:652: Warning: The least populated class in y has only 1 members, which is too few. The minimum number of members in any class cannot be less than n_splits=10.\n",
      "  % (min_groups, self.n_splits)), Warning)\n",
      "C:\\Users\\USER\\AppData\\Local\\Continuum\\anaconda3\\lib\\site-packages\\sklearn\\model_selection\\_split.py:652: Warning: The least populated class in y has only 1 members, which is too few. The minimum number of members in any class cannot be less than n_splits=10.\n",
      "  % (min_groups, self.n_splits)), Warning)\n",
      "C:\\Users\\USER\\AppData\\Local\\Continuum\\anaconda3\\lib\\site-packages\\sklearn\\model_selection\\_split.py:652: Warning: The least populated class in y has only 1 members, which is too few. The minimum number of members in any class cannot be less than n_splits=10.\n",
      "  % (min_groups, self.n_splits)), Warning)\n"
     ]
    },
    {
     "name": "stdout",
     "output_type": "stream",
     "text": [
      "LR: 124.746546 (12.923675)\n"
     ]
    },
    {
     "name": "stderr",
     "output_type": "stream",
     "text": [
      "C:\\Users\\USER\\AppData\\Local\\Continuum\\anaconda3\\lib\\site-packages\\sklearn\\model_selection\\_split.py:652: Warning: The least populated class in y has only 1 members, which is too few. The minimum number of members in any class cannot be less than n_splits=10.\n",
      "  % (min_groups, self.n_splits)), Warning)\n",
      "C:\\Users\\USER\\AppData\\Local\\Continuum\\anaconda3\\lib\\site-packages\\sklearn\\model_selection\\_split.py:652: Warning: The least populated class in y has only 1 members, which is too few. The minimum number of members in any class cannot be less than n_splits=10.\n",
      "  % (min_groups, self.n_splits)), Warning)\n",
      "C:\\Users\\USER\\AppData\\Local\\Continuum\\anaconda3\\lib\\site-packages\\sklearn\\model_selection\\_split.py:652: Warning: The least populated class in y has only 1 members, which is too few. The minimum number of members in any class cannot be less than n_splits=10.\n",
      "  % (min_groups, self.n_splits)), Warning)\n"
     ]
    },
    {
     "name": "stdout",
     "output_type": "stream",
     "text": [
      "Lasso: 125.043897 (13.023372)\n"
     ]
    },
    {
     "name": "stderr",
     "output_type": "stream",
     "text": [
      "C:\\Users\\USER\\AppData\\Local\\Continuum\\anaconda3\\lib\\site-packages\\sklearn\\model_selection\\_split.py:652: Warning: The least populated class in y has only 1 members, which is too few. The minimum number of members in any class cannot be less than n_splits=10.\n",
      "  % (min_groups, self.n_splits)), Warning)\n",
      "C:\\Users\\USER\\AppData\\Local\\Continuum\\anaconda3\\lib\\site-packages\\sklearn\\model_selection\\_split.py:652: Warning: The least populated class in y has only 1 members, which is too few. The minimum number of members in any class cannot be less than n_splits=10.\n",
      "  % (min_groups, self.n_splits)), Warning)\n",
      "C:\\Users\\USER\\AppData\\Local\\Continuum\\anaconda3\\lib\\site-packages\\sklearn\\model_selection\\_split.py:652: Warning: The least populated class in y has only 1 members, which is too few. The minimum number of members in any class cannot be less than n_splits=10.\n",
      "  % (min_groups, self.n_splits)), Warning)\n"
     ]
    },
    {
     "name": "stdout",
     "output_type": "stream",
     "text": [
      "EN: 128.672239 (13.476849)\n"
     ]
    },
    {
     "name": "stderr",
     "output_type": "stream",
     "text": [
      "C:\\Users\\USER\\AppData\\Local\\Continuum\\anaconda3\\lib\\site-packages\\sklearn\\model_selection\\_split.py:652: Warning: The least populated class in y has only 1 members, which is too few. The minimum number of members in any class cannot be less than n_splits=10.\n",
      "  % (min_groups, self.n_splits)), Warning)\n",
      "C:\\Users\\USER\\AppData\\Local\\Continuum\\anaconda3\\lib\\site-packages\\sklearn\\model_selection\\_split.py:652: Warning: The least populated class in y has only 1 members, which is too few. The minimum number of members in any class cannot be less than n_splits=10.\n",
      "  % (min_groups, self.n_splits)), Warning)\n",
      "C:\\Users\\USER\\AppData\\Local\\Continuum\\anaconda3\\lib\\site-packages\\sklearn\\model_selection\\_split.py:652: Warning: The least populated class in y has only 1 members, which is too few. The minimum number of members in any class cannot be less than n_splits=10.\n",
      "  % (min_groups, self.n_splits)), Warning)\n"
     ]
    },
    {
     "name": "stdout",
     "output_type": "stream",
     "text": [
      "KNN: 130.477919 (10.617437)\n"
     ]
    },
    {
     "name": "stderr",
     "output_type": "stream",
     "text": [
      "C:\\Users\\USER\\AppData\\Local\\Continuum\\anaconda3\\lib\\site-packages\\sklearn\\model_selection\\_split.py:652: Warning: The least populated class in y has only 1 members, which is too few. The minimum number of members in any class cannot be less than n_splits=10.\n",
      "  % (min_groups, self.n_splits)), Warning)\n",
      "C:\\Users\\USER\\AppData\\Local\\Continuum\\anaconda3\\lib\\site-packages\\sklearn\\model_selection\\_split.py:652: Warning: The least populated class in y has only 1 members, which is too few. The minimum number of members in any class cannot be less than n_splits=10.\n",
      "  % (min_groups, self.n_splits)), Warning)\n",
      "C:\\Users\\USER\\AppData\\Local\\Continuum\\anaconda3\\lib\\site-packages\\sklearn\\model_selection\\_split.py:652: Warning: The least populated class in y has only 1 members, which is too few. The minimum number of members in any class cannot be less than n_splits=10.\n",
      "  % (min_groups, self.n_splits)), Warning)\n"
     ]
    },
    {
     "name": "stdout",
     "output_type": "stream",
     "text": [
      "SVR: 130.087778 (13.685678)\n"
     ]
    },
    {
     "name": "stderr",
     "output_type": "stream",
     "text": [
      "C:\\Users\\USER\\AppData\\Local\\Continuum\\anaconda3\\lib\\site-packages\\sklearn\\model_selection\\_split.py:652: Warning: The least populated class in y has only 1 members, which is too few. The minimum number of members in any class cannot be less than n_splits=10.\n",
      "  % (min_groups, self.n_splits)), Warning)\n",
      "C:\\Users\\USER\\AppData\\Local\\Continuum\\anaconda3\\lib\\site-packages\\sklearn\\model_selection\\_split.py:652: Warning: The least populated class in y has only 1 members, which is too few. The minimum number of members in any class cannot be less than n_splits=10.\n",
      "  % (min_groups, self.n_splits)), Warning)\n",
      "C:\\Users\\USER\\AppData\\Local\\Continuum\\anaconda3\\lib\\site-packages\\sklearn\\model_selection\\_split.py:652: Warning: The least populated class in y has only 1 members, which is too few. The minimum number of members in any class cannot be less than n_splits=10.\n",
      "  % (min_groups, self.n_splits)), Warning)\n"
     ]
    },
    {
     "name": "stdout",
     "output_type": "stream",
     "text": [
      "CART: 142.746835 (13.142532)\n"
     ]
    }
   ],
   "source": [
    "# import relevant libraries\n",
    "from sklearn.model_selection import RepeatedStratifiedKFold\n",
    "from sklearn.model_selection import cross_val_score\n",
    "from sklearn.linear_model import LinearRegression\n",
    "from sklearn.linear_model import Lasso\n",
    "from sklearn.linear_model import ElasticNet\n",
    "from sklearn.tree import DecisionTreeRegressor\n",
    "from sklearn.svm import SVR\n",
    "from sklearn.neighbors import KNeighborsRegressor\n",
    "from sklearn.metrics import r2_score, mean_squared_error, mean_absolute_error\n",
    "\n",
    "# define the pipeline\n",
    "models = []\n",
    "\n",
    "models.append(('LR', LinearRegression()))\n",
    "models.append(('Lasso', Lasso()))\n",
    "models.append(('EN', ElasticNet()))\n",
    "models.append(('KNN', KNeighborsRegressor()))\n",
    "models.append(('SVR', SVR()))\n",
    "models.append(('CART', DecisionTreeRegressor()))\n",
    "\n",
    "# empty lists to store model names and results\n",
    "results = []\n",
    "names = []\n",
    "\n",
    "# Kfold and cross validation parameters\n",
    "seed = 234\n",
    "num_fold = 10\n",
    "num_repeat = 3\n",
    "scoring = 'neg_mean_squared_error'\n",
    "\n",
    "for name, model in models:\n",
    "    kfold = RepeatedStratifiedKFold(n_splits=num_fold, n_repeats=num_repeat, random_state=seed)\n",
    "    cv_results = cross_val_score(model, trainXPrep, trainY, cv=kfold, scoring=scoring, n_jobs=-1)\n",
    "    \n",
    "    # append each model results into empty lists created\n",
    "    results.append(cv_results)\n",
    "    names.append(name)\n",
    "    \n",
    "    # output to evaluate results\n",
    "    rmse = np.sqrt(-cv_results)\n",
    "    see_results = '%s: %f (%f)' % (name, rmse.mean(), rmse.std())\n",
    "    print(see_results)"
   ]
  },
  {
   "cell_type": "code",
   "execution_count": 201,
   "metadata": {
    "collapsed": true
   },
   "outputs": [
    {
     "name": "stdout",
     "output_type": "stream",
     "text": [
      "LR: 125.136828 (8.560998)\n",
      "Lasso: 125.446618 (8.509555)\n",
      "EN: 129.153734 (8.148078)\n",
      "KNN: 132.153857 (10.282442)\n"
     ]
    },
    {
     "name": "stderr",
     "output_type": "stream",
     "text": [
      "C:\\Users\\USER\\AppData\\Local\\Continuum\\anaconda3\\lib\\site-packages\\sklearn\\svm\\base.py:196: FutureWarning: The default value of gamma will change from 'auto' to 'scale' in version 0.22 to account better for unscaled features. Set gamma explicitly to 'auto' or 'scale' to avoid this warning.\n",
      "  \"avoid this warning.\", FutureWarning)\n",
      "C:\\Users\\USER\\AppData\\Local\\Continuum\\anaconda3\\lib\\site-packages\\sklearn\\svm\\base.py:196: FutureWarning: The default value of gamma will change from 'auto' to 'scale' in version 0.22 to account better for unscaled features. Set gamma explicitly to 'auto' or 'scale' to avoid this warning.\n",
      "  \"avoid this warning.\", FutureWarning)\n",
      "C:\\Users\\USER\\AppData\\Local\\Continuum\\anaconda3\\lib\\site-packages\\sklearn\\svm\\base.py:196: FutureWarning: The default value of gamma will change from 'auto' to 'scale' in version 0.22 to account better for unscaled features. Set gamma explicitly to 'auto' or 'scale' to avoid this warning.\n",
      "  \"avoid this warning.\", FutureWarning)\n",
      "C:\\Users\\USER\\AppData\\Local\\Continuum\\anaconda3\\lib\\site-packages\\sklearn\\svm\\base.py:196: FutureWarning: The default value of gamma will change from 'auto' to 'scale' in version 0.22 to account better for unscaled features. Set gamma explicitly to 'auto' or 'scale' to avoid this warning.\n",
      "  \"avoid this warning.\", FutureWarning)\n",
      "C:\\Users\\USER\\AppData\\Local\\Continuum\\anaconda3\\lib\\site-packages\\sklearn\\svm\\base.py:196: FutureWarning: The default value of gamma will change from 'auto' to 'scale' in version 0.22 to account better for unscaled features. Set gamma explicitly to 'auto' or 'scale' to avoid this warning.\n",
      "  \"avoid this warning.\", FutureWarning)\n",
      "C:\\Users\\USER\\AppData\\Local\\Continuum\\anaconda3\\lib\\site-packages\\sklearn\\svm\\base.py:196: FutureWarning: The default value of gamma will change from 'auto' to 'scale' in version 0.22 to account better for unscaled features. Set gamma explicitly to 'auto' or 'scale' to avoid this warning.\n",
      "  \"avoid this warning.\", FutureWarning)\n",
      "C:\\Users\\USER\\AppData\\Local\\Continuum\\anaconda3\\lib\\site-packages\\sklearn\\svm\\base.py:196: FutureWarning: The default value of gamma will change from 'auto' to 'scale' in version 0.22 to account better for unscaled features. Set gamma explicitly to 'auto' or 'scale' to avoid this warning.\n",
      "  \"avoid this warning.\", FutureWarning)\n",
      "C:\\Users\\USER\\AppData\\Local\\Continuum\\anaconda3\\lib\\site-packages\\sklearn\\svm\\base.py:196: FutureWarning: The default value of gamma will change from 'auto' to 'scale' in version 0.22 to account better for unscaled features. Set gamma explicitly to 'auto' or 'scale' to avoid this warning.\n",
      "  \"avoid this warning.\", FutureWarning)\n",
      "C:\\Users\\USER\\AppData\\Local\\Continuum\\anaconda3\\lib\\site-packages\\sklearn\\svm\\base.py:196: FutureWarning: The default value of gamma will change from 'auto' to 'scale' in version 0.22 to account better for unscaled features. Set gamma explicitly to 'auto' or 'scale' to avoid this warning.\n",
      "  \"avoid this warning.\", FutureWarning)\n",
      "C:\\Users\\USER\\AppData\\Local\\Continuum\\anaconda3\\lib\\site-packages\\sklearn\\svm\\base.py:196: FutureWarning: The default value of gamma will change from 'auto' to 'scale' in version 0.22 to account better for unscaled features. Set gamma explicitly to 'auto' or 'scale' to avoid this warning.\n",
      "  \"avoid this warning.\", FutureWarning)\n"
     ]
    },
    {
     "name": "stdout",
     "output_type": "stream",
     "text": [
      "SVR: 130.638548 (7.536578)\n",
      "CART: 140.570193 (14.052407)\n"
     ]
    }
   ],
   "source": [
    "# To use KFold instead of RepeatedStratifiedKFold\n",
    "from sklearn.model_selection import KFold\n",
    "\n",
    "# define models\n",
    "kmodels = []\n",
    "\n",
    "kmodels.append(('LR', LinearRegression()))\n",
    "kmodels.append(('Lasso', Lasso()))\n",
    "kmodels.append(('EN', ElasticNet()))\n",
    "kmodels.append(('KNN', KNeighborsRegressor()))\n",
    "kmodels.append(('SVR', SVR()))\n",
    "kmodels.append(('CART', DecisionTreeRegressor()))\n",
    "\n",
    "# empty lists to store model names and results\n",
    "kresults = []\n",
    "knames = []\n",
    "\n",
    "# Kfold and cross validation parameters\n",
    "seed = 234\n",
    "num_fold = 10\n",
    "scoring = 'neg_mean_squared_error'\n",
    "\n",
    "for kname, kmodel in kmodels:\n",
    "    kfold_cv = KFold(n_splits=num_fold, random_state=seed)\n",
    "    kcv_results = cross_val_score(kmodel, trainXPrep, trainY, cv=kfold_cv, scoring=scoring)\n",
    "    \n",
    "    # append each model results into empty lists created\n",
    "    kresults.append(kcv_results)\n",
    "    knames.append(kname)\n",
    "    \n",
    "    # output to evaluate results\n",
    "    rmse = np.sqrt(-kcv_results)\n",
    "    see_kresults = '%s: %f (%f)' % (kname, rmse.mean(), rmse.std())\n",
    "    print(see_kresults)"
   ]
  },
  {
   "cell_type": "markdown",
   "metadata": {},
   "source": [
    "###### Decision tree regressor seem to be overfitting the data, which seemed to have been exposed by using cross validation technique"
   ]
  },
  {
   "cell_type": "code",
   "execution_count": 207,
   "metadata": {
    "collapsed": true
   },
   "outputs": [
    {
     "name": "stderr",
     "output_type": "stream",
     "text": [
      "C:\\Users\\USER\\AppData\\Local\\Continuum\\anaconda3\\lib\\site-packages\\sklearn\\ensemble\\forest.py:246: FutureWarning: The default value of n_estimators will change from 10 in version 0.20 to 100 in 0.22.\n",
      "  \"10 in version 0.20 to 100 in 0.22.\", FutureWarning)\n",
      "C:\\Users\\USER\\AppData\\Local\\Continuum\\anaconda3\\lib\\site-packages\\sklearn\\ensemble\\forest.py:246: FutureWarning: The default value of n_estimators will change from 10 in version 0.20 to 100 in 0.22.\n",
      "  \"10 in version 0.20 to 100 in 0.22.\", FutureWarning)\n",
      "C:\\Users\\USER\\AppData\\Local\\Continuum\\anaconda3\\lib\\site-packages\\sklearn\\ensemble\\forest.py:246: FutureWarning: The default value of n_estimators will change from 10 in version 0.20 to 100 in 0.22.\n",
      "  \"10 in version 0.20 to 100 in 0.22.\", FutureWarning)\n",
      "C:\\Users\\USER\\AppData\\Local\\Continuum\\anaconda3\\lib\\site-packages\\sklearn\\ensemble\\forest.py:246: FutureWarning: The default value of n_estimators will change from 10 in version 0.20 to 100 in 0.22.\n",
      "  \"10 in version 0.20 to 100 in 0.22.\", FutureWarning)\n",
      "C:\\Users\\USER\\AppData\\Local\\Continuum\\anaconda3\\lib\\site-packages\\sklearn\\ensemble\\forest.py:246: FutureWarning: The default value of n_estimators will change from 10 in version 0.20 to 100 in 0.22.\n",
      "  \"10 in version 0.20 to 100 in 0.22.\", FutureWarning)\n",
      "C:\\Users\\USER\\AppData\\Local\\Continuum\\anaconda3\\lib\\site-packages\\sklearn\\ensemble\\forest.py:246: FutureWarning: The default value of n_estimators will change from 10 in version 0.20 to 100 in 0.22.\n",
      "  \"10 in version 0.20 to 100 in 0.22.\", FutureWarning)\n",
      "C:\\Users\\USER\\AppData\\Local\\Continuum\\anaconda3\\lib\\site-packages\\sklearn\\ensemble\\forest.py:246: FutureWarning: The default value of n_estimators will change from 10 in version 0.20 to 100 in 0.22.\n",
      "  \"10 in version 0.20 to 100 in 0.22.\", FutureWarning)\n",
      "C:\\Users\\USER\\AppData\\Local\\Continuum\\anaconda3\\lib\\site-packages\\sklearn\\ensemble\\forest.py:246: FutureWarning: The default value of n_estimators will change from 10 in version 0.20 to 100 in 0.22.\n",
      "  \"10 in version 0.20 to 100 in 0.22.\", FutureWarning)\n",
      "C:\\Users\\USER\\AppData\\Local\\Continuum\\anaconda3\\lib\\site-packages\\sklearn\\ensemble\\forest.py:246: FutureWarning: The default value of n_estimators will change from 10 in version 0.20 to 100 in 0.22.\n",
      "  \"10 in version 0.20 to 100 in 0.22.\", FutureWarning)\n",
      "C:\\Users\\USER\\AppData\\Local\\Continuum\\anaconda3\\lib\\site-packages\\sklearn\\ensemble\\forest.py:246: FutureWarning: The default value of n_estimators will change from 10 in version 0.20 to 100 in 0.22.\n",
      "  \"10 in version 0.20 to 100 in 0.22.\", FutureWarning)\n"
     ]
    },
    {
     "name": "stdout",
     "output_type": "stream",
     "text": [
      "RF: 128.000795 (9.147645)\n",
      "GB: 121.424598 (8.900492)\n"
     ]
    }
   ],
   "source": [
    "# Try some Ensemble Techniques\n",
    "from sklearn.ensemble import RandomForestRegressor\n",
    "from sklearn.ensemble import GradientBoostingRegressor\n",
    "\n",
    "\n",
    "emodels = []\n",
    "\n",
    "emodels.append(('RF', RandomForestRegressor()))\n",
    "emodels.append(('GB', GradientBoostingRegressor()))\n",
    "\n",
    "# empty lists to store model names and results\n",
    "eresults = []\n",
    "enames = []\n",
    "\n",
    "# Kfold and cross validation parameters\n",
    "seed = 234\n",
    "num_fold = 10\n",
    "scoring = 'neg_mean_squared_error'\n",
    "\n",
    "for ename, emodel in emodels:\n",
    "    ekfold = KFold(n_splits=num_fold, random_state=seed)\n",
    "    ecv_results = cross_val_score(emodel, trainXPrep, trainY, cv=kfold_cv, scoring=scoring)\n",
    "    \n",
    "    # append each model results into empty lists created\n",
    "    eresults.append(ecv_results)\n",
    "    enames.append(ename)\n",
    "    \n",
    "    # output to evaluate results\n",
    "    ermse = np.sqrt(-ecv_results)\n",
    "    see_eresults = '%s: %f (%f)' % (ename, ermse.mean(), ermse.std())\n",
    "    print(see_eresults)"
   ]
  },
  {
   "cell_type": "markdown",
   "metadata": {},
   "source": [
    "### Fine Tune promising Model with GridSeearchCV"
   ]
  },
  {
   "cell_type": "code",
   "execution_count": 301,
   "metadata": {
    "collapsed": true
   },
   "outputs": [
    {
     "name": "stdout",
     "output_type": "stream",
     "text": [
      "Best: -14738.000733 using {'loss': 'ls', 'max_features': 'log2', 'n_estimators': 300}\n",
      "-14896.763071 (2146.680327) with: {'loss': 'ls', 'max_features': 'sqrt', 'n_estimators': 100}\n",
      "-14812.885988 (2140.983108) with: {'loss': 'ls', 'max_features': 'sqrt', 'n_estimators': 150}\n",
      "-14795.934292 (2157.425637) with: {'loss': 'ls', 'max_features': 'sqrt', 'n_estimators': 200}\n",
      "-14779.086956 (2158.716712) with: {'loss': 'ls', 'max_features': 'sqrt', 'n_estimators': 250}\n",
      "-14772.319140 (2154.774155) with: {'loss': 'ls', 'max_features': 'sqrt', 'n_estimators': 300}\n",
      "-14919.537272 (2089.570259) with: {'loss': 'ls', 'max_features': 'log2', 'n_estimators': 100}\n",
      "-14820.340415 (2122.330385) with: {'loss': 'ls', 'max_features': 'log2', 'n_estimators': 150}\n",
      "-14799.399338 (2195.218719) with: {'loss': 'ls', 'max_features': 'log2', 'n_estimators': 200}\n",
      "-14822.519303 (2133.304825) with: {'loss': 'ls', 'max_features': 'log2', 'n_estimators': 250}\n",
      "-14738.000733 (2168.544998) with: {'loss': 'ls', 'max_features': 'log2', 'n_estimators': 300}\n",
      "-22902.697998 (2496.913680) with: {'loss': 'quantile', 'max_features': 'sqrt', 'n_estimators': 100}\n",
      "-23096.632839 (2381.555288) with: {'loss': 'quantile', 'max_features': 'sqrt', 'n_estimators': 150}\n",
      "-23149.981517 (2462.772847) with: {'loss': 'quantile', 'max_features': 'sqrt', 'n_estimators': 200}\n",
      "-23353.379256 (2457.904786) with: {'loss': 'quantile', 'max_features': 'sqrt', 'n_estimators': 250}\n",
      "-23469.067869 (2542.178426) with: {'loss': 'quantile', 'max_features': 'sqrt', 'n_estimators': 300}\n",
      "-22822.981005 (2423.652718) with: {'loss': 'quantile', 'max_features': 'log2', 'n_estimators': 100}\n",
      "-23062.928616 (2626.478892) with: {'loss': 'quantile', 'max_features': 'log2', 'n_estimators': 150}\n",
      "-23169.656757 (2609.290263) with: {'loss': 'quantile', 'max_features': 'log2', 'n_estimators': 200}\n",
      "-23340.820398 (2526.048661) with: {'loss': 'quantile', 'max_features': 'log2', 'n_estimators': 250}\n",
      "-23269.364523 (2460.870592) with: {'loss': 'quantile', 'max_features': 'log2', 'n_estimators': 300}\n",
      "-15798.076559 (2051.722823) with: {'loss': 'huber', 'max_features': 'sqrt', 'n_estimators': 100}\n",
      "-15593.775134 (2025.733534) with: {'loss': 'huber', 'max_features': 'sqrt', 'n_estimators': 150}\n",
      "-15535.164932 (2072.631449) with: {'loss': 'huber', 'max_features': 'sqrt', 'n_estimators': 200}\n",
      "-15463.294437 (2039.216627) with: {'loss': 'huber', 'max_features': 'sqrt', 'n_estimators': 250}\n",
      "-15455.248502 (2048.995587) with: {'loss': 'huber', 'max_features': 'sqrt', 'n_estimators': 300}\n",
      "-15785.858831 (2024.713266) with: {'loss': 'huber', 'max_features': 'log2', 'n_estimators': 100}\n",
      "-15601.208693 (2022.296223) with: {'loss': 'huber', 'max_features': 'log2', 'n_estimators': 150}\n",
      "-15541.019306 (2052.058238) with: {'loss': 'huber', 'max_features': 'log2', 'n_estimators': 200}\n",
      "-15445.458271 (2056.451901) with: {'loss': 'huber', 'max_features': 'log2', 'n_estimators': 250}\n",
      "-15419.741785 (2099.839288) with: {'loss': 'huber', 'max_features': 'log2', 'n_estimators': 300}\n"
     ]
    }
   ],
   "source": [
    "# import relevant libraries\n",
    "from sklearn.model_selection import GridSearchCV\n",
    "\n",
    "# set parameters\n",
    "estimators = [100, 150, 200, 250, 300]\n",
    "loss = ['ls', 'quantile', 'huber']\n",
    "max_feat = ['sqrt', 'log2']\n",
    "param_grid = dict(loss=loss, n_estimators=estimators, max_features=max_feat)\n",
    "\n",
    "# instantiate model\n",
    "model = GradientBoostingRegressor()\n",
    "\n",
    "# Kfold and cross validation parameters\n",
    "seed = 234\n",
    "num_fold = 10\n",
    "scoring = 'neg_mean_squared_error'\n",
    "\n",
    "# gridsearchCV\n",
    "kfold = KFold(n_splits=num_fold, random_state=seed)\n",
    "grid = GridSearchCV(estimator=model, param_grid=param_grid, scoring=scoring, cv=kfold)\n",
    "grid_result = grid.fit(trainXPrep, trainY)\n",
    "\n",
    "# print result\n",
    "print(\"Best: %f using %s\" % (grid_result.best_score_, grid_result.best_params_))\n",
    "means = grid_result.cv_results_['mean_test_score']\n",
    "stds = grid_result.cv_results_['std_test_score']\n",
    "params = grid_result.cv_results_['params']\n",
    "for mean, stdev, param in zip(means, stds, params):\n",
    "    print(\"%f (%f) with: %r\" % (mean, stdev, param))"
   ]
  },
  {
   "cell_type": "markdown",
   "metadata": {},
   "source": [
    "### Prepare and transform the test set"
   ]
  },
  {
   "cell_type": "code",
   "execution_count": 306,
   "metadata": {},
   "outputs": [
    {
     "name": "stderr",
     "output_type": "stream",
     "text": [
      "C:\\Users\\USER\\AppData\\Local\\Continuum\\anaconda3\\lib\\site-packages\\pandas\\core\\frame.py:3697: SettingWithCopyWarning: \n",
      "A value is trying to be set on a copy of a slice from a DataFrame\n",
      "\n",
      "See the caveats in the documentation: http://pandas.pydata.org/pandas-docs/stable/indexing.html#indexing-view-versus-copy\n",
      "  errors=errors)\n"
     ]
    },
    {
     "data": {
      "text/html": [
       "<div>\n",
       "<style scoped>\n",
       "    .dataframe tbody tr th:only-of-type {\n",
       "        vertical-align: middle;\n",
       "    }\n",
       "\n",
       "    .dataframe tbody tr th {\n",
       "        vertical-align: top;\n",
       "    }\n",
       "\n",
       "    .dataframe thead th {\n",
       "        text-align: right;\n",
       "    }\n",
       "</style>\n",
       "<table border=\"1\" class=\"dataframe\">\n",
       "  <thead>\n",
       "    <tr style=\"text-align: right;\">\n",
       "      <th></th>\n",
       "      <th>Borough</th>\n",
       "      <th>Property Type</th>\n",
       "      <th>Room Type</th>\n",
       "      <th>Beds</th>\n",
       "      <th>Number Of Reviews</th>\n",
       "      <th>Price</th>\n",
       "      <th>Review Scores Rating</th>\n",
       "      <th>Age</th>\n",
       "    </tr>\n",
       "  </thead>\n",
       "  <tbody>\n",
       "    <tr>\n",
       "      <th>20546</th>\n",
       "      <td>3</td>\n",
       "      <td>1.0</td>\n",
       "      <td>1</td>\n",
       "      <td>2.0</td>\n",
       "      <td>0</td>\n",
       "      <td>59</td>\n",
       "      <td>NaN</td>\n",
       "      <td>1</td>\n",
       "    </tr>\n",
       "    <tr>\n",
       "      <th>5032</th>\n",
       "      <td>2</td>\n",
       "      <td>1.0</td>\n",
       "      <td>1</td>\n",
       "      <td>1.0</td>\n",
       "      <td>10</td>\n",
       "      <td>350</td>\n",
       "      <td>98.0</td>\n",
       "      <td>4</td>\n",
       "    </tr>\n",
       "    <tr>\n",
       "      <th>2600</th>\n",
       "      <td>2</td>\n",
       "      <td>1.0</td>\n",
       "      <td>1</td>\n",
       "      <td>1.0</td>\n",
       "      <td>13</td>\n",
       "      <td>110</td>\n",
       "      <td>95.0</td>\n",
       "      <td>4</td>\n",
       "    </tr>\n",
       "    <tr>\n",
       "      <th>13703</th>\n",
       "      <td>1</td>\n",
       "      <td>1.0</td>\n",
       "      <td>1</td>\n",
       "      <td>1.0</td>\n",
       "      <td>26</td>\n",
       "      <td>80</td>\n",
       "      <td>83.0</td>\n",
       "      <td>2</td>\n",
       "    </tr>\n",
       "  </tbody>\n",
       "</table>\n",
       "</div>"
      ],
      "text/plain": [
       "       Borough  Property Type  Room Type  Beds  Number Of Reviews  Price  \\\n",
       "20546        3            1.0          1   2.0                  0     59   \n",
       "5032         2            1.0          1   1.0                 10    350   \n",
       "2600         2            1.0          1   1.0                 13    110   \n",
       "13703        1            1.0          1   1.0                 26     80   \n",
       "\n",
       "       Review Scores Rating  Age  \n",
       "20546                   NaN    1  \n",
       "5032                   98.0    4  \n",
       "2600                   95.0    4  \n",
       "13703                  83.0    2  "
      ]
     },
     "execution_count": 306,
     "metadata": {},
     "output_type": "execute_result"
    }
   ],
   "source": [
    "# Create Age variable from Host Since\n",
    "Test['Age'] = Test['Host Since'].map(lambda x: x.year) # create variable with age and populate with year of Host Since\n",
    "Test['Age'].fillna(Test['Age'].mode()[0], inplace=True) # fill up missing values with mode if any\n",
    "Test['Age'] = Test['Age'].fillna(0.0).astype(int) # convert values to integers\n",
    "Test['Age'] = 2015 - Test['Age']\n",
    "\n",
    "# Reduce/merge categories of Property Type and Room Type\n",
    "Test['Property Type'].replace({'Condominium' : 'House', 'Townhouse' : 'House', 'Villa' : 'House', 'Bungalow' : 'House', 'Chalet' : 'House', 'Castle' : 'House',\n",
    "                                               'Dorm' : 'Mini_house', 'Camper/RV' : 'Mini_house', 'Treehouse' : 'Mini_house', 'Tent' : 'Mini_house', 'Hut' : 'Mini_house', 'Lighthouse' : 'Mini_house',\n",
    "                                               'Bed' : 'Apartment', 'Bed & Breakfast' : 'Apartment', 'Other' : 'Apartment', 'Loft': 'Apartment',\n",
    "                                               'Boat' : 'Conveyance', 'Cabin' : 'Conveyance'}, inplace=True)\n",
    "Test['Room Type'].replace({'Entire home/apt' : 'Private room'}, inplace=True)\n",
    "\n",
    "# Replace categories in Borough, Property Type and Room Type with numbers\n",
    "Test['Borough'].replace({'Brooklyn' : 1, 'Manhattan' : 2, 'Queens' : 3, 'Bronx' : 4, 'Staten Island' : 5}, inplace=True)\n",
    "Test['Room Type'].replace({'Private room' : 1, 'Shared room' : 2}, inplace=True)\n",
    "Test['Property Type'].replace({'Apartment' : 1, 'House' : 2, 'Mini_house' : 3, 'Conveyance' : 4}, inplace=True)\n",
    "\n",
    "# Drop irrelevant variables - 'Host Id', 'Host Since', 'Name', 'Review Scores Rating (bin)', 'Zipcode', 'Number of Records'\n",
    "Test.drop(['Host Id', 'Host Since', 'Name', 'Review Scores Rating (bin)', 'Zipcode', 'Number of Records'], axis=1, inplace=True)\n",
    "Test.head(4)"
   ]
  },
  {
   "cell_type": "code",
   "execution_count": 307,
   "metadata": {},
   "outputs": [
    {
     "data": {
      "text/html": [
       "<div>\n",
       "<style scoped>\n",
       "    .dataframe tbody tr th:only-of-type {\n",
       "        vertical-align: middle;\n",
       "    }\n",
       "\n",
       "    .dataframe tbody tr th {\n",
       "        vertical-align: top;\n",
       "    }\n",
       "\n",
       "    .dataframe thead th {\n",
       "        text-align: right;\n",
       "    }\n",
       "</style>\n",
       "<table border=\"1\" class=\"dataframe\">\n",
       "  <thead>\n",
       "    <tr style=\"text-align: right;\">\n",
       "      <th></th>\n",
       "      <th>Borough</th>\n",
       "      <th>Property Type</th>\n",
       "      <th>Room Type</th>\n",
       "      <th>Beds</th>\n",
       "      <th>Number Of Reviews</th>\n",
       "      <th>Review Scores Rating</th>\n",
       "      <th>Age</th>\n",
       "    </tr>\n",
       "  </thead>\n",
       "  <tbody>\n",
       "    <tr>\n",
       "      <th>20546</th>\n",
       "      <td>3</td>\n",
       "      <td>1.0</td>\n",
       "      <td>1</td>\n",
       "      <td>2.0</td>\n",
       "      <td>0</td>\n",
       "      <td>NaN</td>\n",
       "      <td>1</td>\n",
       "    </tr>\n",
       "    <tr>\n",
       "      <th>5032</th>\n",
       "      <td>2</td>\n",
       "      <td>1.0</td>\n",
       "      <td>1</td>\n",
       "      <td>1.0</td>\n",
       "      <td>10</td>\n",
       "      <td>98.0</td>\n",
       "      <td>4</td>\n",
       "    </tr>\n",
       "    <tr>\n",
       "      <th>2600</th>\n",
       "      <td>2</td>\n",
       "      <td>1.0</td>\n",
       "      <td>1</td>\n",
       "      <td>1.0</td>\n",
       "      <td>13</td>\n",
       "      <td>95.0</td>\n",
       "      <td>4</td>\n",
       "    </tr>\n",
       "    <tr>\n",
       "      <th>13703</th>\n",
       "      <td>1</td>\n",
       "      <td>1.0</td>\n",
       "      <td>1</td>\n",
       "      <td>1.0</td>\n",
       "      <td>26</td>\n",
       "      <td>83.0</td>\n",
       "      <td>2</td>\n",
       "    </tr>\n",
       "    <tr>\n",
       "      <th>6681</th>\n",
       "      <td>1</td>\n",
       "      <td>1.0</td>\n",
       "      <td>1</td>\n",
       "      <td>2.0</td>\n",
       "      <td>3</td>\n",
       "      <td>99.0</td>\n",
       "      <td>3</td>\n",
       "    </tr>\n",
       "  </tbody>\n",
       "</table>\n",
       "</div>"
      ],
      "text/plain": [
       "       Borough  Property Type  Room Type  Beds  Number Of Reviews  \\\n",
       "20546        3            1.0          1   2.0                  0   \n",
       "5032         2            1.0          1   1.0                 10   \n",
       "2600         2            1.0          1   1.0                 13   \n",
       "13703        1            1.0          1   1.0                 26   \n",
       "6681         1            1.0          1   2.0                  3   \n",
       "\n",
       "       Review Scores Rating  Age  \n",
       "20546                   NaN    1  \n",
       "5032                   98.0    4  \n",
       "2600                   95.0    4  \n",
       "13703                  83.0    2  \n",
       "6681                   99.0    3  "
      ]
     },
     "execution_count": 307,
     "metadata": {},
     "output_type": "execute_result"
    }
   ],
   "source": [
    "# Split out Test predictors from test target\n",
    "testX = Test.drop(['Price'], axis=1)\n",
    "testY = Test['Price']\n",
    "testX.head()"
   ]
  },
  {
   "cell_type": "code",
   "execution_count": 314,
   "metadata": {},
   "outputs": [
    {
     "data": {
      "text/plain": [
       "array([[ 0.58193343, -0.57971964,  0.19086348, ...,  0.        ,\n",
       "         1.        ,  0.        ],\n",
       "       [-0.53013609, -0.12731485,  0.74425767, ...,  0.        ,\n",
       "         1.        ,  0.        ],\n",
       "       [-0.53013609,  0.00840659,  0.32921203, ...,  0.        ,\n",
       "         1.        ,  0.        ],\n",
       "       ...,\n",
       "       [ 0.58193343,  0.32508994, -1.46931908, ...,  0.        ,\n",
       "         1.        ,  0.        ],\n",
       "       [-0.53013609, -0.57971964,  0.19086348, ...,  0.        ,\n",
       "         1.        ,  0.        ],\n",
       "       [-0.53013609,  0.14412802, -1.05427344, ...,  0.        ,\n",
       "         1.        ,  0.        ]])"
      ]
     },
     "execution_count": 314,
     "metadata": {},
     "output_type": "execute_result"
    }
   ],
   "source": [
    "# Transform Test predictors\n",
    "testXPrep = fullPipe.transform(testX) # testXPrep means prepared test predictors\n",
    "testXPrep"
   ]
  },
  {
   "cell_type": "code",
   "execution_count": 316,
   "metadata": {},
   "outputs": [
    {
     "name": "stdout",
     "output_type": "stream",
     "text": [
      " MSE is 25915.827323406313 and RMSE is 160.98393498547088\n"
     ]
    }
   ],
   "source": [
    "from sklearn.metrics import mean_squared_error\n",
    "\n",
    "finalModel = grid_result.best_estimator_\n",
    "\n",
    "\n",
    "predictions = finalModel.predict(testXPrep)\n",
    "\n",
    "finalMSE = mean_squared_error(testY, predictions)\n",
    "finalRMSE = np.sqrt(finalMSE)\n",
    "\n",
    "print(f' MSE is {finalMSE} and RMSE is {finalRMSE}')"
   ]
  },
  {
   "cell_type": "code",
   "execution_count": 317,
   "metadata": {},
   "outputs": [
    {
     "data": {
      "text/plain": [
       "['airbnbModel.sav']"
      ]
     },
     "execution_count": 317,
     "metadata": {},
     "output_type": "execute_result"
    }
   ],
   "source": [
    "from sklearn.externals import joblib\n",
    "\n",
    "joblib.dump([fullPipe, finalModel], 'airbnbModel.sav', compress=1)"
   ]
  }
 ],
 "metadata": {
  "kernelspec": {
   "display_name": "Python 3",
   "language": "python",
   "name": "python3"
  },
  "language_info": {
   "codemirror_mode": {
    "name": "ipython",
    "version": 3
   },
   "file_extension": ".py",
   "mimetype": "text/x-python",
   "name": "python",
   "nbconvert_exporter": "python",
   "pygments_lexer": "ipython3",
   "version": "3.7.1"
  }
 },
 "nbformat": 4,
 "nbformat_minor": 2
}
