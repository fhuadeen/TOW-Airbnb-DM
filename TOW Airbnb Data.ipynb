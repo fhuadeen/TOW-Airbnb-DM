{
 "cells": [
  {
   "cell_type": "code",
   "execution_count": 1,
   "metadata": {},
   "outputs": [],
   "source": [
    "# import relevant libraries\n",
    "import numpy as np\n",
    "import pandas as pd\n",
    "from matplotlib import pyplot as plt\n",
    "import seaborn as sns\n",
    "%matplotlib inline"
   ]
  },
  {
   "cell_type": "code",
   "execution_count": 2,
   "metadata": {},
   "outputs": [
    {
     "data": {
      "text/html": [
       "<div>\n",
       "<style scoped>\n",
       "    .dataframe tbody tr th:only-of-type {\n",
       "        vertical-align: middle;\n",
       "    }\n",
       "\n",
       "    .dataframe tbody tr th {\n",
       "        vertical-align: top;\n",
       "    }\n",
       "\n",
       "    .dataframe thead th {\n",
       "        text-align: right;\n",
       "    }\n",
       "</style>\n",
       "<table border=\"1\" class=\"dataframe\">\n",
       "  <thead>\n",
       "    <tr style=\"text-align: right;\">\n",
       "      <th></th>\n",
       "      <th>Host Id</th>\n",
       "      <th>Host Since</th>\n",
       "      <th>Name</th>\n",
       "      <th>Borough</th>\n",
       "      <th>Property Type</th>\n",
       "      <th>Review Scores Rating (bin)</th>\n",
       "      <th>Room Type</th>\n",
       "      <th>Zipcode</th>\n",
       "      <th>Beds</th>\n",
       "      <th>Number of Records</th>\n",
       "      <th>Number Of Reviews</th>\n",
       "      <th>Price</th>\n",
       "      <th>Review Scores Rating</th>\n",
       "    </tr>\n",
       "  </thead>\n",
       "  <tbody>\n",
       "    <tr>\n",
       "      <th>0</th>\n",
       "      <td>5162530</td>\n",
       "      <td>NaT</td>\n",
       "      <td>1 Bedroom in Prime Williamsburg</td>\n",
       "      <td>Brooklyn</td>\n",
       "      <td>Apartment</td>\n",
       "      <td>NaN</td>\n",
       "      <td>Entire home/apt</td>\n",
       "      <td>11249.0</td>\n",
       "      <td>1.0</td>\n",
       "      <td>1</td>\n",
       "      <td>0</td>\n",
       "      <td>145</td>\n",
       "      <td>NaN</td>\n",
       "    </tr>\n",
       "    <tr>\n",
       "      <th>1</th>\n",
       "      <td>33134899</td>\n",
       "      <td>NaT</td>\n",
       "      <td>Sunny, Private room in Bushwick</td>\n",
       "      <td>Brooklyn</td>\n",
       "      <td>Apartment</td>\n",
       "      <td>NaN</td>\n",
       "      <td>Private room</td>\n",
       "      <td>11206.0</td>\n",
       "      <td>1.0</td>\n",
       "      <td>1</td>\n",
       "      <td>1</td>\n",
       "      <td>37</td>\n",
       "      <td>NaN</td>\n",
       "    </tr>\n",
       "    <tr>\n",
       "      <th>2</th>\n",
       "      <td>39608626</td>\n",
       "      <td>NaT</td>\n",
       "      <td>Sunny Room in Harlem</td>\n",
       "      <td>Manhattan</td>\n",
       "      <td>Apartment</td>\n",
       "      <td>NaN</td>\n",
       "      <td>Private room</td>\n",
       "      <td>10032.0</td>\n",
       "      <td>1.0</td>\n",
       "      <td>1</td>\n",
       "      <td>1</td>\n",
       "      <td>28</td>\n",
       "      <td>NaN</td>\n",
       "    </tr>\n",
       "    <tr>\n",
       "      <th>3</th>\n",
       "      <td>500</td>\n",
       "      <td>2008-06-26</td>\n",
       "      <td>Gorgeous 1 BR with Private Balcony</td>\n",
       "      <td>Manhattan</td>\n",
       "      <td>Apartment</td>\n",
       "      <td>NaN</td>\n",
       "      <td>Entire home/apt</td>\n",
       "      <td>10024.0</td>\n",
       "      <td>3.0</td>\n",
       "      <td>1</td>\n",
       "      <td>0</td>\n",
       "      <td>199</td>\n",
       "      <td>NaN</td>\n",
       "    </tr>\n",
       "    <tr>\n",
       "      <th>4</th>\n",
       "      <td>500</td>\n",
       "      <td>2008-06-26</td>\n",
       "      <td>Trendy Times Square Loft</td>\n",
       "      <td>Manhattan</td>\n",
       "      <td>Apartment</td>\n",
       "      <td>95.0</td>\n",
       "      <td>Private room</td>\n",
       "      <td>10036.0</td>\n",
       "      <td>3.0</td>\n",
       "      <td>1</td>\n",
       "      <td>39</td>\n",
       "      <td>549</td>\n",
       "      <td>96.0</td>\n",
       "    </tr>\n",
       "  </tbody>\n",
       "</table>\n",
       "</div>"
      ],
      "text/plain": [
       "    Host Id Host Since                                Name    Borough  \\\n",
       "0   5162530        NaT     1 Bedroom in Prime Williamsburg   Brooklyn   \n",
       "1  33134899        NaT     Sunny, Private room in Bushwick   Brooklyn   \n",
       "2  39608626        NaT                Sunny Room in Harlem  Manhattan   \n",
       "3       500 2008-06-26  Gorgeous 1 BR with Private Balcony  Manhattan   \n",
       "4       500 2008-06-26            Trendy Times Square Loft  Manhattan   \n",
       "\n",
       "  Property Type  Review Scores Rating (bin)        Room Type  Zipcode  Beds  \\\n",
       "0     Apartment                         NaN  Entire home/apt  11249.0   1.0   \n",
       "1     Apartment                         NaN     Private room  11206.0   1.0   \n",
       "2     Apartment                         NaN     Private room  10032.0   1.0   \n",
       "3     Apartment                         NaN  Entire home/apt  10024.0   3.0   \n",
       "4     Apartment                        95.0     Private room  10036.0   3.0   \n",
       "\n",
       "   Number of Records  Number Of Reviews  Price  Review Scores Rating  \n",
       "0                  1                  0    145                   NaN  \n",
       "1                  1                  1     37                   NaN  \n",
       "2                  1                  1     28                   NaN  \n",
       "3                  1                  0    199                   NaN  \n",
       "4                  1                 39    549                  96.0  "
      ]
     },
     "execution_count": 2,
     "metadata": {},
     "output_type": "execute_result"
    }
   ],
   "source": [
    "# import dataset\n",
    "file = 'airbnb.xlsx'\n",
    "\n",
    "# assign dataset to a variable\n",
    "pd.set_option('display.max_columns', None)\n",
    "df = pd.read_excel(file)\n",
    "\n",
    "# view first 20 rows of the dataset\n",
    "df.head(5)"
   ]
  },
  {
   "cell_type": "markdown",
   "metadata": {},
   "source": [
    "#### sampling out test set from the data set to reduce risk of data leakage"
   ]
  },
  {
   "cell_type": "code",
   "execution_count": 3,
   "metadata": {},
   "outputs": [],
   "source": [
    "# import relevant library\n",
    "from sklearn.model_selection import train_test_split\n",
    "\n",
    "# set random seed\n",
    "seed = 234\n",
    "\n",
    "# split out the test and train sets from the data\n",
    "Train, Test = train_test_split(df, test_size=.33, random_state=seed)"
   ]
  },
  {
   "cell_type": "code",
   "execution_count": 4,
   "metadata": {},
   "outputs": [],
   "source": [
    "# save Test set to local machine\n",
    "Test.to_csv('airbnbTest.csv')"
   ]
  },
  {
   "cell_type": "code",
   "execution_count": 5,
   "metadata": {},
   "outputs": [],
   "source": [
    "# save Train set to local machine\n",
    "Train.to_csv('airbnbTrain.csv')"
   ]
  },
  {
   "cell_type": "markdown",
   "metadata": {},
   "source": [
    "### EDA the original dataset - df"
   ]
  },
  {
   "cell_type": "code",
   "execution_count": 6,
   "metadata": {},
   "outputs": [
    {
     "data": {
      "text/plain": [
       "Host Id                       0.000000\n",
       "Host Since                    0.000098\n",
       "Name                          0.000000\n",
       "Borough                       0.000000\n",
       "Property Type                 0.000098\n",
       "Review Scores Rating (bin)    0.273082\n",
       "Room Type                     0.000000\n",
       "Zipcode                       0.004397\n",
       "Beds                          0.002789\n",
       "Number of Records             0.000000\n",
       "Number Of Reviews             0.000000\n",
       "Price                         0.000000\n",
       "Review Scores Rating          0.273082\n",
       "dtype: float64"
      ]
     },
     "execution_count": 6,
     "metadata": {},
     "output_type": "execute_result"
    }
   ],
   "source": [
    "# analyse the percentage missing values of each variable from the original datasets\n",
    "df.isnull().mean()"
   ]
  },
  {
   "cell_type": "code",
   "execution_count": 7,
   "metadata": {},
   "outputs": [
    {
     "data": {
      "text/plain": [
       "30478"
      ]
     },
     "execution_count": 7,
     "metadata": {},
     "output_type": "execute_result"
    }
   ],
   "source": [
    "len(df)"
   ]
  },
  {
   "cell_type": "code",
   "execution_count": 8,
   "metadata": {},
   "outputs": [
    {
     "data": {
      "text/html": [
       "<div>\n",
       "<style scoped>\n",
       "    .dataframe tbody tr th:only-of-type {\n",
       "        vertical-align: middle;\n",
       "    }\n",
       "\n",
       "    .dataframe tbody tr th {\n",
       "        vertical-align: top;\n",
       "    }\n",
       "\n",
       "    .dataframe thead th {\n",
       "        text-align: right;\n",
       "    }\n",
       "</style>\n",
       "<table border=\"1\" class=\"dataframe\">\n",
       "  <thead>\n",
       "    <tr style=\"text-align: right;\">\n",
       "      <th></th>\n",
       "      <th>Host Id</th>\n",
       "      <th>Review Scores Rating (bin)</th>\n",
       "      <th>Zipcode</th>\n",
       "      <th>Beds</th>\n",
       "      <th>Number of Records</th>\n",
       "      <th>Number Of Reviews</th>\n",
       "      <th>Price</th>\n",
       "      <th>Review Scores Rating</th>\n",
       "    </tr>\n",
       "  </thead>\n",
       "  <tbody>\n",
       "    <tr>\n",
       "      <th>count</th>\n",
       "      <td>3.047800e+04</td>\n",
       "      <td>22155.000000</td>\n",
       "      <td>30344.000000</td>\n",
       "      <td>30393.000000</td>\n",
       "      <td>30478.0</td>\n",
       "      <td>30478.000000</td>\n",
       "      <td>30478.000000</td>\n",
       "      <td>22155.000000</td>\n",
       "    </tr>\n",
       "    <tr>\n",
       "      <th>mean</th>\n",
       "      <td>1.273171e+07</td>\n",
       "      <td>90.738659</td>\n",
       "      <td>10584.854831</td>\n",
       "      <td>1.530089</td>\n",
       "      <td>1.0</td>\n",
       "      <td>12.018735</td>\n",
       "      <td>163.589737</td>\n",
       "      <td>91.993230</td>\n",
       "    </tr>\n",
       "    <tr>\n",
       "      <th>std</th>\n",
       "      <td>1.190270e+07</td>\n",
       "      <td>9.059519</td>\n",
       "      <td>921.299397</td>\n",
       "      <td>1.015359</td>\n",
       "      <td>0.0</td>\n",
       "      <td>21.980703</td>\n",
       "      <td>197.785454</td>\n",
       "      <td>8.850373</td>\n",
       "    </tr>\n",
       "    <tr>\n",
       "      <th>min</th>\n",
       "      <td>5.000000e+02</td>\n",
       "      <td>20.000000</td>\n",
       "      <td>1003.000000</td>\n",
       "      <td>0.000000</td>\n",
       "      <td>1.0</td>\n",
       "      <td>0.000000</td>\n",
       "      <td>10.000000</td>\n",
       "      <td>20.000000</td>\n",
       "    </tr>\n",
       "    <tr>\n",
       "      <th>25%</th>\n",
       "      <td>2.701298e+06</td>\n",
       "      <td>85.000000</td>\n",
       "      <td>10017.000000</td>\n",
       "      <td>1.000000</td>\n",
       "      <td>1.0</td>\n",
       "      <td>0.000000</td>\n",
       "      <td>80.000000</td>\n",
       "      <td>89.000000</td>\n",
       "    </tr>\n",
       "    <tr>\n",
       "      <th>50%</th>\n",
       "      <td>8.551693e+06</td>\n",
       "      <td>90.000000</td>\n",
       "      <td>10065.000000</td>\n",
       "      <td>1.000000</td>\n",
       "      <td>1.0</td>\n",
       "      <td>3.000000</td>\n",
       "      <td>125.000000</td>\n",
       "      <td>94.000000</td>\n",
       "    </tr>\n",
       "    <tr>\n",
       "      <th>75%</th>\n",
       "      <td>2.120617e+07</td>\n",
       "      <td>100.000000</td>\n",
       "      <td>11216.000000</td>\n",
       "      <td>2.000000</td>\n",
       "      <td>1.0</td>\n",
       "      <td>13.000000</td>\n",
       "      <td>195.000000</td>\n",
       "      <td>100.000000</td>\n",
       "    </tr>\n",
       "    <tr>\n",
       "      <th>max</th>\n",
       "      <td>4.303307e+07</td>\n",
       "      <td>100.000000</td>\n",
       "      <td>99135.000000</td>\n",
       "      <td>16.000000</td>\n",
       "      <td>1.0</td>\n",
       "      <td>257.000000</td>\n",
       "      <td>10000.000000</td>\n",
       "      <td>100.000000</td>\n",
       "    </tr>\n",
       "  </tbody>\n",
       "</table>\n",
       "</div>"
      ],
      "text/plain": [
       "            Host Id  Review Scores Rating (bin)       Zipcode          Beds  \\\n",
       "count  3.047800e+04                22155.000000  30344.000000  30393.000000   \n",
       "mean   1.273171e+07                   90.738659  10584.854831      1.530089   \n",
       "std    1.190270e+07                    9.059519    921.299397      1.015359   \n",
       "min    5.000000e+02                   20.000000   1003.000000      0.000000   \n",
       "25%    2.701298e+06                   85.000000  10017.000000      1.000000   \n",
       "50%    8.551693e+06                   90.000000  10065.000000      1.000000   \n",
       "75%    2.120617e+07                  100.000000  11216.000000      2.000000   \n",
       "max    4.303307e+07                  100.000000  99135.000000     16.000000   \n",
       "\n",
       "       Number of Records  Number Of Reviews         Price  \\\n",
       "count            30478.0       30478.000000  30478.000000   \n",
       "mean                 1.0          12.018735    163.589737   \n",
       "std                  0.0          21.980703    197.785454   \n",
       "min                  1.0           0.000000     10.000000   \n",
       "25%                  1.0           0.000000     80.000000   \n",
       "50%                  1.0           3.000000    125.000000   \n",
       "75%                  1.0          13.000000    195.000000   \n",
       "max                  1.0         257.000000  10000.000000   \n",
       "\n",
       "       Review Scores Rating  \n",
       "count          22155.000000  \n",
       "mean              91.993230  \n",
       "std                8.850373  \n",
       "min               20.000000  \n",
       "25%               89.000000  \n",
       "50%               94.000000  \n",
       "75%              100.000000  \n",
       "max              100.000000  "
      ]
     },
     "execution_count": 8,
     "metadata": {},
     "output_type": "execute_result"
    }
   ],
   "source": [
    "# Analyse descriptive stats of numerical variables\n",
    "df.describe()"
   ]
  },
  {
   "cell_type": "markdown",
   "metadata": {},
   "source": [
    "#### visualise distribution of each numerical variable using histogram"
   ]
  },
  {
   "cell_type": "code",
   "execution_count": 9,
   "metadata": {},
   "outputs": [
    {
     "data": {
      "image/png": "[encoded data removed]",
      "text/plain": [
       "<Figure size 432x288 with 9 Axes>"
      ]
     },
     "metadata": {
      "needs_background": "light"
     },
     "output_type": "display_data"
    }
   ],
   "source": [
    "df.hist()\n",
    "plt.show()"
   ]
  },
  {
   "cell_type": "code",
   "execution_count": 10,
   "metadata": {},
   "outputs": [
    {
     "name": "stderr",
     "output_type": "stream",
     "text": [
      "C:\\Users\\USER\\AppData\\Local\\Continuum\\anaconda3\\lib\\site-packages\\numpy\\lib\\histograms.py:754: RuntimeWarning: invalid value encountered in greater_equal\n",
      "  keep = (tmp_a >= first_edge)\n",
      "C:\\Users\\USER\\AppData\\Local\\Continuum\\anaconda3\\lib\\site-packages\\numpy\\lib\\histograms.py:755: RuntimeWarning: invalid value encountered in less_equal\n",
      "  keep &= (tmp_a <= last_edge)\n"
     ]
    },
    {
     "data": {
      "image/png": "[encoded data removed]",
      "text/plain": [
       "<Figure size 432x288 with 1 Axes>"
      ]
     },
     "metadata": {
      "needs_background": "light"
     },
     "output_type": "display_data"
    }
   ],
   "source": [
    "# the distribution of beds. Plotted with plt so as not to tamper with the missing values yet\n",
    "plt.hist(df['Beds'])\n",
    "plt.show()"
   ]
  },
  {
   "cell_type": "code",
   "execution_count": 11,
   "metadata": {},
   "outputs": [
    {
     "name": "stderr",
     "output_type": "stream",
     "text": [
      "C:\\Users\\USER\\AppData\\Local\\Continuum\\anaconda3\\lib\\site-packages\\scipy\\stats\\stats.py:1713: FutureWarning: Using a non-tuple sequence for multidimensional indexing is deprecated; use `arr[tuple(seq)]` instead of `arr[seq]`. In the future this will be interpreted as an array index, `arr[np.array(seq)]`, which will result either in an error or a different result.\n",
      "  return np.add.reduce(sorted[indexer] * weights, axis=axis) / sumval\n"
     ]
    },
    {
     "data": {
      "image/png": "[encoded data removed]",
      "text/plain": [
       "<Figure size 432x288 with 1 Axes>"
      ]
     },
     "metadata": {
      "needs_background": "light"
     },
     "output_type": "display_data"
    }
   ],
   "source": [
    "# the distribution of Number Of Reviews\n",
    "sns.distplot(df['Number Of Reviews'], kde=True).set_title('Distribution of Number of Review')\n",
    "plt.show()"
   ]
  },
  {
   "cell_type": "code",
   "execution_count": 12,
   "metadata": {},
   "outputs": [
    {
     "data": {
      "image/png": "[encoded data removed]",
      "text/plain": [
       "<Figure size 432x288 with 1 Axes>"
      ]
     },
     "metadata": {
      "needs_background": "light"
     },
     "output_type": "display_data"
    }
   ],
   "source": [
    "# the distribution of Price\n",
    "#plt.hist(df['Price'])\n",
    "sns.distplot(df['Price'], kde=True).set_title('Distribution of Price')\n",
    "plt.show()"
   ]
  },
  {
   "cell_type": "code",
   "execution_count": 13,
   "metadata": {},
   "outputs": [
    {
     "data": {
      "image/png": "[encoded data removed]",
      "text/plain": [
       "<Figure size 432x288 with 1 Axes>"
      ]
     },
     "metadata": {
      "needs_background": "light"
     },
     "output_type": "display_data"
    }
   ],
   "source": [
    "# the distribution of Review Scores Rating\n",
    "plt.hist(df['Review Scores Rating'])\n",
    "plt.show()"
   ]
  },
  {
   "cell_type": "markdown",
   "metadata": {},
   "source": [
    "##### Let's See our data on Boxplot"
   ]
  },
  {
   "cell_type": "code",
   "execution_count": 14,
   "metadata": {},
   "outputs": [
    {
     "data": {
      "image/png": "[encoded data removed]",
      "text/plain": [
       "<Figure size 432x288 with 1 Axes>"
      ]
     },
     "metadata": {
      "needs_background": "light"
     },
     "output_type": "display_data"
    }
   ],
   "source": [
    "# the distribution of Price\n",
    "sns.boxplot(df['Beds']).set_title('Boxplot of Beds')\n",
    "plt.show()"
   ]
  },
  {
   "cell_type": "code",
   "execution_count": 15,
   "metadata": {},
   "outputs": [
    {
     "data": {
      "image/png": "[encoded data removed]",
      "text/plain": [
       "<Figure size 432x288 with 1 Axes>"
      ]
     },
     "metadata": {
      "needs_background": "light"
     },
     "output_type": "display_data"
    }
   ],
   "source": [
    "# the distribution of Number Of Reviews\n",
    "sns.boxplot(df['Number Of Reviews']).set_title('Boxplot of Number of Review')\n",
    "plt.show()"
   ]
  },
  {
   "cell_type": "code",
   "execution_count": 16,
   "metadata": {},
   "outputs": [
    {
     "data": {
      "image/png": "[encoded data removed]",
      "text/plain": [
       "<Figure size 432x288 with 1 Axes>"
      ]
     },
     "metadata": {
      "needs_background": "light"
     },
     "output_type": "display_data"
    }
   ],
   "source": [
    "# the distribution of Price\n",
    "sns.boxplot(df['Price']).set_title('Boxplot of Price')\n",
    "plt.show()"
   ]
  },
  {
   "cell_type": "code",
   "execution_count": 17,
   "metadata": {},
   "outputs": [
    {
     "data": {
      "image/png": "[encoded data removed]",
      "text/plain": [
       "<Figure size 432x288 with 1 Axes>"
      ]
     },
     "metadata": {
      "needs_background": "light"
     },
     "output_type": "display_data"
    }
   ],
   "source": [
    "# the distribution of Review Scores Rating\n",
    "sns.boxplot(df['Review Scores Rating']).set_title('Boxplot of Review Scores Rating')\n",
    "plt.show()"
   ]
  },
  {
   "cell_type": "markdown",
   "metadata": {},
   "source": [
    "#### Faceting Price with some categorical variables."
   ]
  },
  {
   "cell_type": "code",
   "execution_count": 18,
   "metadata": {
    "scrolled": true
   },
   "outputs": [
    {
     "data": {
      "image/png": "[encoded data removed]",
      "text/plain": [
       "<Figure size 432x288 with 1 Axes>"
      ]
     },
     "metadata": {
      "needs_background": "light"
     },
     "output_type": "display_data"
    }
   ],
   "source": [
    "# Faceting Price and Room Type\n",
    "sns.boxplot(df['Price'], df['Room Type'])\n",
    "plt.show()"
   ]
  },
  {
   "cell_type": "code",
   "execution_count": 19,
   "metadata": {},
   "outputs": [
    {
     "data": {
      "image/png": "[encoded data removed]",
      "text/plain": [
       "<Figure size 432x288 with 1 Axes>"
      ]
     },
     "metadata": {
      "needs_background": "light"
     },
     "output_type": "display_data"
    }
   ],
   "source": [
    "# Faceting Price and Neighbourhood (for some reason, yet unknown, Seaborn is unable to plot this graph)\n",
    "sns.boxplot(df['Price'], df['Borough'])\n",
    "plt.show()"
   ]
  },
  {
   "cell_type": "markdown",
   "metadata": {},
   "source": [
    "#### Analyse association of numerical variables to Price"
   ]
  },
  {
   "cell_type": "code",
   "execution_count": 20,
   "metadata": {},
   "outputs": [
    {
     "data": {
      "image/png": "[encoded data removed]",
      "text/plain": [
       "<Figure size 432x288 with 1 Axes>"
      ]
     },
     "metadata": {
      "needs_background": "light"
     },
     "output_type": "display_data"
    }
   ],
   "source": [
    "# Association between Beds and Price\n",
    "sns.scatterplot('Beds', 'Price', data=df)\n",
    "plt.show()"
   ]
  },
  {
   "cell_type": "code",
   "execution_count": 21,
   "metadata": {},
   "outputs": [
    {
     "data": {
      "image/png": "[encoded data removed]",
      "text/plain": [
       "<Figure size 432x288 with 1 Axes>"
      ]
     },
     "metadata": {
      "needs_background": "light"
     },
     "output_type": "display_data"
    }
   ],
   "source": [
    "# Association between Number Of Reviews and Price\n",
    "sns.scatterplot('Number Of Reviews', 'Price', data=df)\n",
    "plt.show()"
   ]
  },
  {
   "cell_type": "code",
   "execution_count": 22,
   "metadata": {},
   "outputs": [
    {
     "data": {
      "image/png": "[encoded data removed]",
      "text/plain": [
       "<Figure size 432x288 with 1 Axes>"
      ]
     },
     "metadata": {
      "needs_background": "light"
     },
     "output_type": "display_data"
    }
   ],
   "source": [
    "# Association between Review Scores Rating and Price\n",
    "sns.scatterplot('Review Scores Rating', 'Price', data=df)\n",
    "plt.show()"
   ]
  },
  {
   "cell_type": "code",
   "execution_count": 23,
   "metadata": {},
   "outputs": [
    {
     "data": {
      "text/html": [
       "<div>\n",
       "<style scoped>\n",
       "    .dataframe tbody tr th:only-of-type {\n",
       "        vertical-align: middle;\n",
       "    }\n",
       "\n",
       "    .dataframe tbody tr th {\n",
       "        vertical-align: top;\n",
       "    }\n",
       "\n",
       "    .dataframe thead th {\n",
       "        text-align: right;\n",
       "    }\n",
       "</style>\n",
       "<table border=\"1\" class=\"dataframe\">\n",
       "  <thead>\n",
       "    <tr style=\"text-align: right;\">\n",
       "      <th></th>\n",
       "      <th>Host Id</th>\n",
       "      <th>Review Scores Rating (bin)</th>\n",
       "      <th>Zipcode</th>\n",
       "      <th>Beds</th>\n",
       "      <th>Number of Records</th>\n",
       "      <th>Number Of Reviews</th>\n",
       "      <th>Price</th>\n",
       "      <th>Review Scores Rating</th>\n",
       "    </tr>\n",
       "  </thead>\n",
       "  <tbody>\n",
       "    <tr>\n",
       "      <th>Host Id</th>\n",
       "      <td>1.000000</td>\n",
       "      <td>-0.027060</td>\n",
       "      <td>-0.010191</td>\n",
       "      <td>-0.003232</td>\n",
       "      <td>NaN</td>\n",
       "      <td>-0.273226</td>\n",
       "      <td>-0.041046</td>\n",
       "      <td>-0.053590</td>\n",
       "    </tr>\n",
       "    <tr>\n",
       "      <th>Review Scores Rating (bin)</th>\n",
       "      <td>-0.027060</td>\n",
       "      <td>1.000000</td>\n",
       "      <td>0.023669</td>\n",
       "      <td>-0.075283</td>\n",
       "      <td>NaN</td>\n",
       "      <td>-0.062684</td>\n",
       "      <td>0.059740</td>\n",
       "      <td>0.987201</td>\n",
       "    </tr>\n",
       "    <tr>\n",
       "      <th>Zipcode</th>\n",
       "      <td>-0.010191</td>\n",
       "      <td>0.023669</td>\n",
       "      <td>1.000000</td>\n",
       "      <td>0.015414</td>\n",
       "      <td>NaN</td>\n",
       "      <td>-0.018328</td>\n",
       "      <td>-0.118857</td>\n",
       "      <td>0.022110</td>\n",
       "    </tr>\n",
       "    <tr>\n",
       "      <th>Beds</th>\n",
       "      <td>-0.003232</td>\n",
       "      <td>-0.075283</td>\n",
       "      <td>0.015414</td>\n",
       "      <td>1.000000</td>\n",
       "      <td>NaN</td>\n",
       "      <td>0.045795</td>\n",
       "      <td>0.316313</td>\n",
       "      <td>-0.070923</td>\n",
       "    </tr>\n",
       "    <tr>\n",
       "      <th>Number of Records</th>\n",
       "      <td>NaN</td>\n",
       "      <td>NaN</td>\n",
       "      <td>NaN</td>\n",
       "      <td>NaN</td>\n",
       "      <td>NaN</td>\n",
       "      <td>NaN</td>\n",
       "      <td>NaN</td>\n",
       "      <td>NaN</td>\n",
       "    </tr>\n",
       "    <tr>\n",
       "      <th>Number Of Reviews</th>\n",
       "      <td>-0.273226</td>\n",
       "      <td>-0.062684</td>\n",
       "      <td>-0.018328</td>\n",
       "      <td>0.045795</td>\n",
       "      <td>NaN</td>\n",
       "      <td>1.000000</td>\n",
       "      <td>-0.040600</td>\n",
       "      <td>-0.015185</td>\n",
       "    </tr>\n",
       "    <tr>\n",
       "      <th>Price</th>\n",
       "      <td>-0.041046</td>\n",
       "      <td>0.059740</td>\n",
       "      <td>-0.118857</td>\n",
       "      <td>0.316313</td>\n",
       "      <td>NaN</td>\n",
       "      <td>-0.040600</td>\n",
       "      <td>1.000000</td>\n",
       "      <td>0.060703</td>\n",
       "    </tr>\n",
       "    <tr>\n",
       "      <th>Review Scores Rating</th>\n",
       "      <td>-0.053590</td>\n",
       "      <td>0.987201</td>\n",
       "      <td>0.022110</td>\n",
       "      <td>-0.070923</td>\n",
       "      <td>NaN</td>\n",
       "      <td>-0.015185</td>\n",
       "      <td>0.060703</td>\n",
       "      <td>1.000000</td>\n",
       "    </tr>\n",
       "  </tbody>\n",
       "</table>\n",
       "</div>"
      ],
      "text/plain": [
       "                             Host Id  Review Scores Rating (bin)   Zipcode  \\\n",
       "Host Id                     1.000000                   -0.027060 -0.010191   \n",
       "Review Scores Rating (bin) -0.027060                    1.000000  0.023669   \n",
       "Zipcode                    -0.010191                    0.023669  1.000000   \n",
       "Beds                       -0.003232                   -0.075283  0.015414   \n",
       "Number of Records                NaN                         NaN       NaN   \n",
       "Number Of Reviews          -0.273226                   -0.062684 -0.018328   \n",
       "Price                      -0.041046                    0.059740 -0.118857   \n",
       "Review Scores Rating       -0.053590                    0.987201  0.022110   \n",
       "\n",
       "                                Beds  Number of Records  Number Of Reviews  \\\n",
       "Host Id                    -0.003232                NaN          -0.273226   \n",
       "Review Scores Rating (bin) -0.075283                NaN          -0.062684   \n",
       "Zipcode                     0.015414                NaN          -0.018328   \n",
       "Beds                        1.000000                NaN           0.045795   \n",
       "Number of Records                NaN                NaN                NaN   \n",
       "Number Of Reviews           0.045795                NaN           1.000000   \n",
       "Price                       0.316313                NaN          -0.040600   \n",
       "Review Scores Rating       -0.070923                NaN          -0.015185   \n",
       "\n",
       "                               Price  Review Scores Rating  \n",
       "Host Id                    -0.041046             -0.053590  \n",
       "Review Scores Rating (bin)  0.059740              0.987201  \n",
       "Zipcode                    -0.118857              0.022110  \n",
       "Beds                        0.316313             -0.070923  \n",
       "Number of Records                NaN                   NaN  \n",
       "Number Of Reviews          -0.040600             -0.015185  \n",
       "Price                       1.000000              0.060703  \n",
       "Review Scores Rating        0.060703              1.000000  "
      ]
     },
     "execution_count": 23,
     "metadata": {},
     "output_type": "execute_result"
    }
   ],
   "source": [
    "df.corr(method='pearson')"
   ]
  },
  {
   "cell_type": "code",
   "execution_count": 24,
   "metadata": {},
   "outputs": [
    {
     "data": {
      "image/png": "[encoded data removed]",
      "text/plain": [
       "<Figure size 432x288 with 2 Axes>"
      ]
     },
     "metadata": {
      "needs_background": "light"
     },
     "output_type": "display_data"
    }
   ],
   "source": [
    "fig = plt.figure()\n",
    "ax = fig.add_subplot(111)\n",
    "cax = ax.matshow(df.corr(), vmin=-1, vmax=1)\n",
    "fig.colorbar(cax)\n",
    "ticks = np.arange(0,9,1)\n",
    "ax.set_xticks(ticks)\n",
    "ax.set_yticks(ticks)\n",
    "ax.set_xticklabels(df.columns)\n",
    "ax.set_yticklabels(df.columns)\n",
    "plt.show()"
   ]
  },
  {
   "cell_type": "markdown",
   "metadata": {},
   "source": [
    "### Data Preparation - performed on a copy of the Train set"
   ]
  },
  {
   "cell_type": "code",
   "execution_count": 25,
   "metadata": {},
   "outputs": [
    {
     "data": {
      "text/html": [
       "<div>\n",
       "<style scoped>\n",
       "    .dataframe tbody tr th:only-of-type {\n",
       "        vertical-align: middle;\n",
       "    }\n",
       "\n",
       "    .dataframe tbody tr th {\n",
       "        vertical-align: top;\n",
       "    }\n",
       "\n",
       "    .dataframe thead th {\n",
       "        text-align: right;\n",
       "    }\n",
       "</style>\n",
       "<table border=\"1\" class=\"dataframe\">\n",
       "  <thead>\n",
       "    <tr style=\"text-align: right;\">\n",
       "      <th></th>\n",
       "      <th>Host Id</th>\n",
       "      <th>Host Since</th>\n",
       "      <th>Name</th>\n",
       "      <th>Borough</th>\n",
       "      <th>Property Type</th>\n",
       "      <th>Review Scores Rating (bin)</th>\n",
       "      <th>Room Type</th>\n",
       "      <th>Zipcode</th>\n",
       "      <th>Beds</th>\n",
       "      <th>Number of Records</th>\n",
       "      <th>Number Of Reviews</th>\n",
       "      <th>Price</th>\n",
       "      <th>Review Scores Rating</th>\n",
       "    </tr>\n",
       "  </thead>\n",
       "  <tbody>\n",
       "    <tr>\n",
       "      <th>14983</th>\n",
       "      <td>8235445</td>\n",
       "      <td>2013-08-18</td>\n",
       "      <td>Downtown Brooklyn Living</td>\n",
       "      <td>Brooklyn</td>\n",
       "      <td>Apartment</td>\n",
       "      <td>85.0</td>\n",
       "      <td>Entire home/apt</td>\n",
       "      <td>11201.0</td>\n",
       "      <td>4.0</td>\n",
       "      <td>1</td>\n",
       "      <td>28</td>\n",
       "      <td>163</td>\n",
       "      <td>87.0</td>\n",
       "    </tr>\n",
       "    <tr>\n",
       "      <th>14303</th>\n",
       "      <td>7452455</td>\n",
       "      <td>2013-07-13</td>\n",
       "      <td>MANHATTAN STUDIO 10 MIN TO DOWNTOWN</td>\n",
       "      <td>Manhattan</td>\n",
       "      <td>Apartment</td>\n",
       "      <td>85.0</td>\n",
       "      <td>Entire home/apt</td>\n",
       "      <td>10035.0</td>\n",
       "      <td>3.0</td>\n",
       "      <td>1</td>\n",
       "      <td>32</td>\n",
       "      <td>206</td>\n",
       "      <td>85.0</td>\n",
       "    </tr>\n",
       "    <tr>\n",
       "      <th>5560</th>\n",
       "      <td>1689781</td>\n",
       "      <td>2012-02-02</td>\n",
       "      <td>1 bedroom by Riverbank Park</td>\n",
       "      <td>Manhattan</td>\n",
       "      <td>Apartment</td>\n",
       "      <td>90.0</td>\n",
       "      <td>Private room</td>\n",
       "      <td>10031.0</td>\n",
       "      <td>1.0</td>\n",
       "      <td>1</td>\n",
       "      <td>4</td>\n",
       "      <td>90</td>\n",
       "      <td>90.0</td>\n",
       "    </tr>\n",
       "    <tr>\n",
       "      <th>6603</th>\n",
       "      <td>2202858</td>\n",
       "      <td>2012-04-23</td>\n",
       "      <td>Bright One Bed Apt</td>\n",
       "      <td>Brooklyn</td>\n",
       "      <td>Apartment</td>\n",
       "      <td>NaN</td>\n",
       "      <td>Entire home/apt</td>\n",
       "      <td>11225.0</td>\n",
       "      <td>1.0</td>\n",
       "      <td>1</td>\n",
       "      <td>0</td>\n",
       "      <td>110</td>\n",
       "      <td>NaN</td>\n",
       "    </tr>\n",
       "    <tr>\n",
       "      <th>30233</th>\n",
       "      <td>41938451</td>\n",
       "      <td>2015-08-19</td>\n",
       "      <td>Clean, Modern, Brooklyn Apt</td>\n",
       "      <td>Brooklyn</td>\n",
       "      <td>Apartment</td>\n",
       "      <td>100.0</td>\n",
       "      <td>Private room</td>\n",
       "      <td>11213.0</td>\n",
       "      <td>1.0</td>\n",
       "      <td>1</td>\n",
       "      <td>3</td>\n",
       "      <td>70</td>\n",
       "      <td>100.0</td>\n",
       "    </tr>\n",
       "  </tbody>\n",
       "</table>\n",
       "</div>"
      ],
      "text/plain": [
       "        Host Id Host Since                                 Name    Borough  \\\n",
       "14983   8235445 2013-08-18             Downtown Brooklyn Living   Brooklyn   \n",
       "14303   7452455 2013-07-13  MANHATTAN STUDIO 10 MIN TO DOWNTOWN  Manhattan   \n",
       "5560    1689781 2012-02-02          1 bedroom by Riverbank Park  Manhattan   \n",
       "6603    2202858 2012-04-23                   Bright One Bed Apt   Brooklyn   \n",
       "30233  41938451 2015-08-19          Clean, Modern, Brooklyn Apt   Brooklyn   \n",
       "\n",
       "      Property Type  Review Scores Rating (bin)        Room Type  Zipcode  \\\n",
       "14983     Apartment                        85.0  Entire home/apt  11201.0   \n",
       "14303     Apartment                        85.0  Entire home/apt  10035.0   \n",
       "5560      Apartment                        90.0     Private room  10031.0   \n",
       "6603      Apartment                         NaN  Entire home/apt  11225.0   \n",
       "30233     Apartment                       100.0     Private room  11213.0   \n",
       "\n",
       "       Beds  Number of Records  Number Of Reviews  Price  Review Scores Rating  \n",
       "14983   4.0                  1                 28    163                  87.0  \n",
       "14303   3.0                  1                 32    206                  85.0  \n",
       "5560    1.0                  1                  4     90                  90.0  \n",
       "6603    1.0                  1                  0    110                   NaN  \n",
       "30233   1.0                  1                  3     70                 100.0  "
      ]
     },
     "execution_count": 25,
     "metadata": {},
     "output_type": "execute_result"
    }
   ],
   "source": [
    "train_copy = Train.copy()\n",
    "train_copy.head()"
   ]
  },
  {
   "cell_type": "markdown",
   "metadata": {},
   "source": [
    "### Preparing Property Type variable to improve modeling\n",
    "* House, Condominium, Townhouse, Villa, Bungalow, Chalet, Castle will be converted to House.\n",
    "* Dorm, Camper/RV, Treehouse, Tent, Hut and Lighthouse will be converted to Mini_house.\n",
    "* Apartment, Bed & Breakfast, Other, Loft will be converted to Apartment.\n",
    "* Boat, Cabin will be converted to Conveyance"
   ]
  },
  {
   "cell_type": "code",
   "execution_count": 26,
   "metadata": {},
   "outputs": [
    {
     "data": {
      "text/plain": [
       "['Apartment',\n",
       " 'Loft',\n",
       " 'House',\n",
       " 'Condominium',\n",
       " 'Townhouse',\n",
       " 'Bed & Breakfast',\n",
       " 'Tent',\n",
       " 'Other',\n",
       " 'Dorm',\n",
       " 'Treehouse',\n",
       " 'Camper/RV',\n",
       " 'Boat',\n",
       " 'Chalet',\n",
       " 'Villa',\n",
       " 'Bungalow',\n",
       " 'Cabin',\n",
       " 'Hut',\n",
       " nan]"
      ]
     },
     "execution_count": 26,
     "metadata": {},
     "output_type": "execute_result"
    }
   ],
   "source": [
    "# unique values in property type\n",
    "train_copy['Property Type'].unique().tolist()"
   ]
  },
  {
   "cell_type": "code",
   "execution_count": 27,
   "metadata": {},
   "outputs": [
    {
     "data": {
      "text/plain": [
       "['Entire home/apt', 'Private room', 'Shared room']"
      ]
     },
     "execution_count": 27,
     "metadata": {},
     "output_type": "execute_result"
    }
   ],
   "source": [
    "# Room Type\n",
    "# all Entire home/apt will be converted to Private room\n",
    "train_copy['Room Type'].unique().tolist()"
   ]
  },
  {
   "cell_type": "markdown",
   "metadata": {},
   "source": [
    "#### I will like to make prediction with the review scores rating being in continuous form so as to see the effect of 1 change in reviews scores rating on price"
   ]
  },
  {
   "cell_type": "code",
   "execution_count": 28,
   "metadata": {},
   "outputs": [
    {
     "data": {
      "text/plain": [
       "[87.0,\n",
       " 85.0,\n",
       " 90.0,\n",
       " nan,\n",
       " 100.0,\n",
       " 93.0,\n",
       " 80.0,\n",
       " 95.0,\n",
       " 91.0,\n",
       " 86.0,\n",
       " 96.0,\n",
       " 94.0,\n",
       " 98.0,\n",
       " 89.0,\n",
       " 40.0,\n",
       " 82.0,\n",
       " 88.0,\n",
       " 76.0,\n",
       " 97.0,\n",
       " 77.0,\n",
       " 84.0,\n",
       " 92.0,\n",
       " 70.0,\n",
       " 81.0,\n",
       " 72.0,\n",
       " 99.0,\n",
       " 65.0,\n",
       " 83.0,\n",
       " 73.0,\n",
       " 74.0,\n",
       " 79.0,\n",
       " 60.0,\n",
       " 75.0,\n",
       " 53.0,\n",
       " 30.0,\n",
       " 67.0,\n",
       " 78.0,\n",
       " 71.0,\n",
       " 69.0,\n",
       " 20.0,\n",
       " 50.0,\n",
       " 68.0,\n",
       " 43.0,\n",
       " 58.0,\n",
       " 64.0,\n",
       " 62.0,\n",
       " 57.0,\n",
       " 66.0,\n",
       " 47.0,\n",
       " 55.0,\n",
       " 49.0]"
      ]
     },
     "execution_count": 28,
     "metadata": {},
     "output_type": "execute_result"
    }
   ],
   "source": [
    "train_copy['Review Scores Rating'].unique().tolist()"
   ]
  },
  {
   "cell_type": "markdown",
   "metadata": {},
   "source": [
    "**Preprocessing on Host Since**\n",
    "* Use the year values of 'Host Since' and convert it to age of Host to see if there's an effect in the number of years a host has been on airbnb in determining price of a home.\n",
    "* Assumes it's year 2015 and so the oldest host will have an age of 8 and so on"
   ]
  },
  {
   "cell_type": "code",
   "execution_count": 29,
   "metadata": {},
   "outputs": [
    {
     "data": {
      "text/html": [
       "<div>\n",
       "<style scoped>\n",
       "    .dataframe tbody tr th:only-of-type {\n",
       "        vertical-align: middle;\n",
       "    }\n",
       "\n",
       "    .dataframe tbody tr th {\n",
       "        vertical-align: top;\n",
       "    }\n",
       "\n",
       "    .dataframe thead th {\n",
       "        text-align: right;\n",
       "    }\n",
       "</style>\n",
       "<table border=\"1\" class=\"dataframe\">\n",
       "  <thead>\n",
       "    <tr style=\"text-align: right;\">\n",
       "      <th></th>\n",
       "      <th>Host Id</th>\n",
       "      <th>Host Since</th>\n",
       "      <th>Name</th>\n",
       "      <th>Borough</th>\n",
       "      <th>Property Type</th>\n",
       "      <th>Review Scores Rating (bin)</th>\n",
       "      <th>Room Type</th>\n",
       "      <th>Zipcode</th>\n",
       "      <th>Beds</th>\n",
       "      <th>Number of Records</th>\n",
       "      <th>Number Of Reviews</th>\n",
       "      <th>Price</th>\n",
       "      <th>Review Scores Rating</th>\n",
       "    </tr>\n",
       "  </thead>\n",
       "  <tbody>\n",
       "    <tr>\n",
       "      <th>14983</th>\n",
       "      <td>8235445</td>\n",
       "      <td>2013-08-18</td>\n",
       "      <td>Downtown Brooklyn Living</td>\n",
       "      <td>Brooklyn</td>\n",
       "      <td>Apartment</td>\n",
       "      <td>85.0</td>\n",
       "      <td>Entire home/apt</td>\n",
       "      <td>11201.0</td>\n",
       "      <td>4.0</td>\n",
       "      <td>1</td>\n",
       "      <td>28</td>\n",
       "      <td>163</td>\n",
       "      <td>87.0</td>\n",
       "    </tr>\n",
       "  </tbody>\n",
       "</table>\n",
       "</div>"
      ],
      "text/plain": [
       "       Host Id Host Since                      Name   Borough Property Type  \\\n",
       "14983  8235445 2013-08-18  Downtown Brooklyn Living  Brooklyn     Apartment   \n",
       "\n",
       "       Review Scores Rating (bin)        Room Type  Zipcode  Beds  \\\n",
       "14983                        85.0  Entire home/apt  11201.0   4.0   \n",
       "\n",
       "       Number of Records  Number Of Reviews  Price  Review Scores Rating  \n",
       "14983                  1                 28    163                  87.0  "
      ]
     },
     "execution_count": 29,
     "metadata": {},
     "output_type": "execute_result"
    }
   ],
   "source": [
    "train_copy.head(1)"
   ]
  },
  {
   "cell_type": "code",
   "execution_count": 30,
   "metadata": {},
   "outputs": [
    {
     "data": {
      "text/html": [
       "<div>\n",
       "<style scoped>\n",
       "    .dataframe tbody tr th:only-of-type {\n",
       "        vertical-align: middle;\n",
       "    }\n",
       "\n",
       "    .dataframe tbody tr th {\n",
       "        vertical-align: top;\n",
       "    }\n",
       "\n",
       "    .dataframe thead th {\n",
       "        text-align: right;\n",
       "    }\n",
       "</style>\n",
       "<table border=\"1\" class=\"dataframe\">\n",
       "  <thead>\n",
       "    <tr style=\"text-align: right;\">\n",
       "      <th></th>\n",
       "      <th>Host Since</th>\n",
       "      <th>Borough</th>\n",
       "      <th>Property Type</th>\n",
       "      <th>Room Type</th>\n",
       "      <th>Beds</th>\n",
       "      <th>Number Of Reviews</th>\n",
       "      <th>Price</th>\n",
       "      <th>Review Scores Rating</th>\n",
       "    </tr>\n",
       "  </thead>\n",
       "  <tbody>\n",
       "    <tr>\n",
       "      <th>14983</th>\n",
       "      <td>2013-08-18</td>\n",
       "      <td>Brooklyn</td>\n",
       "      <td>Apartment</td>\n",
       "      <td>Entire home/apt</td>\n",
       "      <td>4.0</td>\n",
       "      <td>28</td>\n",
       "      <td>163</td>\n",
       "      <td>87.0</td>\n",
       "    </tr>\n",
       "    <tr>\n",
       "      <th>14303</th>\n",
       "      <td>2013-07-13</td>\n",
       "      <td>Manhattan</td>\n",
       "      <td>Apartment</td>\n",
       "      <td>Entire home/apt</td>\n",
       "      <td>3.0</td>\n",
       "      <td>32</td>\n",
       "      <td>206</td>\n",
       "      <td>85.0</td>\n",
       "    </tr>\n",
       "    <tr>\n",
       "      <th>5560</th>\n",
       "      <td>2012-02-02</td>\n",
       "      <td>Manhattan</td>\n",
       "      <td>Apartment</td>\n",
       "      <td>Private room</td>\n",
       "      <td>1.0</td>\n",
       "      <td>4</td>\n",
       "      <td>90</td>\n",
       "      <td>90.0</td>\n",
       "    </tr>\n",
       "    <tr>\n",
       "      <th>6603</th>\n",
       "      <td>2012-04-23</td>\n",
       "      <td>Brooklyn</td>\n",
       "      <td>Apartment</td>\n",
       "      <td>Entire home/apt</td>\n",
       "      <td>1.0</td>\n",
       "      <td>0</td>\n",
       "      <td>110</td>\n",
       "      <td>NaN</td>\n",
       "    </tr>\n",
       "  </tbody>\n",
       "</table>\n",
       "</div>"
      ],
      "text/plain": [
       "      Host Since    Borough Property Type        Room Type  Beds  \\\n",
       "14983 2013-08-18   Brooklyn     Apartment  Entire home/apt   4.0   \n",
       "14303 2013-07-13  Manhattan     Apartment  Entire home/apt   3.0   \n",
       "5560  2012-02-02  Manhattan     Apartment     Private room   1.0   \n",
       "6603  2012-04-23   Brooklyn     Apartment  Entire home/apt   1.0   \n",
       "\n",
       "       Number Of Reviews  Price  Review Scores Rating  \n",
       "14983                 28    163                  87.0  \n",
       "14303                 32    206                  85.0  \n",
       "5560                   4     90                  90.0  \n",
       "6603                   0    110                   NaN  "
      ]
     },
     "execution_count": 30,
     "metadata": {},
     "output_type": "execute_result"
    }
   ],
   "source": [
    "# remove irrelevant features\n",
    "train_copy.drop(['Host Id', 'Name', 'Review Scores Rating (bin)', 'Zipcode', 'Number of Records'], axis=1, inplace=True)\n",
    "train_copy.head(4)"
   ]
  },
  {
   "cell_type": "markdown",
   "metadata": {},
   "source": [
    "##### Convert Host Since to Years and then no. of years a host has been on Airbnb"
   ]
  },
  {
   "cell_type": "code",
   "execution_count": 31,
   "metadata": {},
   "outputs": [
    {
     "data": {
      "text/html": [
       "<div>\n",
       "<style scoped>\n",
       "    .dataframe tbody tr th:only-of-type {\n",
       "        vertical-align: middle;\n",
       "    }\n",
       "\n",
       "    .dataframe tbody tr th {\n",
       "        vertical-align: top;\n",
       "    }\n",
       "\n",
       "    .dataframe thead th {\n",
       "        text-align: right;\n",
       "    }\n",
       "</style>\n",
       "<table border=\"1\" class=\"dataframe\">\n",
       "  <thead>\n",
       "    <tr style=\"text-align: right;\">\n",
       "      <th></th>\n",
       "      <th>Host Since</th>\n",
       "      <th>Borough</th>\n",
       "      <th>Property Type</th>\n",
       "      <th>Room Type</th>\n",
       "      <th>Beds</th>\n",
       "      <th>Number Of Reviews</th>\n",
       "      <th>Price</th>\n",
       "      <th>Review Scores Rating</th>\n",
       "    </tr>\n",
       "  </thead>\n",
       "  <tbody>\n",
       "    <tr>\n",
       "      <th>14983</th>\n",
       "      <td>2013.0</td>\n",
       "      <td>Brooklyn</td>\n",
       "      <td>Apartment</td>\n",
       "      <td>Entire home/apt</td>\n",
       "      <td>4.0</td>\n",
       "      <td>28</td>\n",
       "      <td>163</td>\n",
       "      <td>87.0</td>\n",
       "    </tr>\n",
       "    <tr>\n",
       "      <th>14303</th>\n",
       "      <td>2013.0</td>\n",
       "      <td>Manhattan</td>\n",
       "      <td>Apartment</td>\n",
       "      <td>Entire home/apt</td>\n",
       "      <td>3.0</td>\n",
       "      <td>32</td>\n",
       "      <td>206</td>\n",
       "      <td>85.0</td>\n",
       "    </tr>\n",
       "    <tr>\n",
       "      <th>5560</th>\n",
       "      <td>2012.0</td>\n",
       "      <td>Manhattan</td>\n",
       "      <td>Apartment</td>\n",
       "      <td>Private room</td>\n",
       "      <td>1.0</td>\n",
       "      <td>4</td>\n",
       "      <td>90</td>\n",
       "      <td>90.0</td>\n",
       "    </tr>\n",
       "    <tr>\n",
       "      <th>6603</th>\n",
       "      <td>2012.0</td>\n",
       "      <td>Brooklyn</td>\n",
       "      <td>Apartment</td>\n",
       "      <td>Entire home/apt</td>\n",
       "      <td>1.0</td>\n",
       "      <td>0</td>\n",
       "      <td>110</td>\n",
       "      <td>NaN</td>\n",
       "    </tr>\n",
       "    <tr>\n",
       "      <th>30233</th>\n",
       "      <td>2015.0</td>\n",
       "      <td>Brooklyn</td>\n",
       "      <td>Apartment</td>\n",
       "      <td>Private room</td>\n",
       "      <td>1.0</td>\n",
       "      <td>3</td>\n",
       "      <td>70</td>\n",
       "      <td>100.0</td>\n",
       "    </tr>\n",
       "  </tbody>\n",
       "</table>\n",
       "</div>"
      ],
      "text/plain": [
       "       Host Since    Borough Property Type        Room Type  Beds  \\\n",
       "14983      2013.0   Brooklyn     Apartment  Entire home/apt   4.0   \n",
       "14303      2013.0  Manhattan     Apartment  Entire home/apt   3.0   \n",
       "5560       2012.0  Manhattan     Apartment     Private room   1.0   \n",
       "6603       2012.0   Brooklyn     Apartment  Entire home/apt   1.0   \n",
       "30233      2015.0   Brooklyn     Apartment     Private room   1.0   \n",
       "\n",
       "       Number Of Reviews  Price  Review Scores Rating  \n",
       "14983                 28    163                  87.0  \n",
       "14303                 32    206                  85.0  \n",
       "5560                   4     90                  90.0  \n",
       "6603                   0    110                   NaN  \n",
       "30233                  3     70                 100.0  "
      ]
     },
     "execution_count": 31,
     "metadata": {},
     "output_type": "execute_result"
    }
   ],
   "source": [
    "# Convert Host Since to Years (named it Age already)\n",
    "train_copy['Host Since'] = train_copy['Host Since'].map(lambda x: x.year)\n",
    "train_copy.head()"
   ]
  },
  {
   "cell_type": "code",
   "execution_count": 32,
   "metadata": {},
   "outputs": [
    {
     "data": {
      "text/html": [
       "<div>\n",
       "<style scoped>\n",
       "    .dataframe tbody tr th:only-of-type {\n",
       "        vertical-align: middle;\n",
       "    }\n",
       "\n",
       "    .dataframe tbody tr th {\n",
       "        vertical-align: top;\n",
       "    }\n",
       "\n",
       "    .dataframe thead th {\n",
       "        text-align: right;\n",
       "    }\n",
       "</style>\n",
       "<table border=\"1\" class=\"dataframe\">\n",
       "  <thead>\n",
       "    <tr style=\"text-align: right;\">\n",
       "      <th></th>\n",
       "      <th>Host Since</th>\n",
       "      <th>Borough</th>\n",
       "      <th>Property Type</th>\n",
       "      <th>Room Type</th>\n",
       "      <th>Beds</th>\n",
       "      <th>Number Of Reviews</th>\n",
       "      <th>Price</th>\n",
       "      <th>Review Scores Rating</th>\n",
       "    </tr>\n",
       "  </thead>\n",
       "  <tbody>\n",
       "    <tr>\n",
       "      <th>14983</th>\n",
       "      <td>2013.0</td>\n",
       "      <td>Brooklyn</td>\n",
       "      <td>Apartment</td>\n",
       "      <td>Entire home/apt</td>\n",
       "      <td>4.0</td>\n",
       "      <td>28</td>\n",
       "      <td>163</td>\n",
       "      <td>87.0</td>\n",
       "    </tr>\n",
       "    <tr>\n",
       "      <th>14303</th>\n",
       "      <td>2013.0</td>\n",
       "      <td>Manhattan</td>\n",
       "      <td>Apartment</td>\n",
       "      <td>Entire home/apt</td>\n",
       "      <td>3.0</td>\n",
       "      <td>32</td>\n",
       "      <td>206</td>\n",
       "      <td>85.0</td>\n",
       "    </tr>\n",
       "    <tr>\n",
       "      <th>5560</th>\n",
       "      <td>2012.0</td>\n",
       "      <td>Manhattan</td>\n",
       "      <td>Apartment</td>\n",
       "      <td>Private room</td>\n",
       "      <td>1.0</td>\n",
       "      <td>4</td>\n",
       "      <td>90</td>\n",
       "      <td>90.0</td>\n",
       "    </tr>\n",
       "    <tr>\n",
       "      <th>6603</th>\n",
       "      <td>2012.0</td>\n",
       "      <td>Brooklyn</td>\n",
       "      <td>Apartment</td>\n",
       "      <td>Entire home/apt</td>\n",
       "      <td>1.0</td>\n",
       "      <td>0</td>\n",
       "      <td>110</td>\n",
       "      <td>NaN</td>\n",
       "    </tr>\n",
       "    <tr>\n",
       "      <th>30233</th>\n",
       "      <td>2015.0</td>\n",
       "      <td>Brooklyn</td>\n",
       "      <td>Apartment</td>\n",
       "      <td>Private room</td>\n",
       "      <td>1.0</td>\n",
       "      <td>3</td>\n",
       "      <td>70</td>\n",
       "      <td>100.0</td>\n",
       "    </tr>\n",
       "  </tbody>\n",
       "</table>\n",
       "</div>"
      ],
      "text/plain": [
       "       Host Since    Borough Property Type        Room Type  Beds  \\\n",
       "14983      2013.0   Brooklyn     Apartment  Entire home/apt   4.0   \n",
       "14303      2013.0  Manhattan     Apartment  Entire home/apt   3.0   \n",
       "5560       2012.0  Manhattan     Apartment     Private room   1.0   \n",
       "6603       2012.0   Brooklyn     Apartment  Entire home/apt   1.0   \n",
       "30233      2015.0   Brooklyn     Apartment     Private room   1.0   \n",
       "\n",
       "       Number Of Reviews  Price  Review Scores Rating  \n",
       "14983                 28    163                  87.0  \n",
       "14303                 32    206                  85.0  \n",
       "5560                   4     90                  90.0  \n",
       "6603                   0    110                   NaN  \n",
       "30233                  3     70                 100.0  "
      ]
     },
     "execution_count": 32,
     "metadata": {},
     "output_type": "execute_result"
    }
   ],
   "source": [
    "# fill up Age attribute NAs with the mode value 2015 to allow for easier calculation later\n",
    "train_copy['Host Since'].fillna(train_copy['Host Since'].mode()[0], inplace=True)\n",
    "train_copy.head()"
   ]
  },
  {
   "cell_type": "code",
   "execution_count": 33,
   "metadata": {},
   "outputs": [
    {
     "data": {
      "text/html": [
       "<div>\n",
       "<style scoped>\n",
       "    .dataframe tbody tr th:only-of-type {\n",
       "        vertical-align: middle;\n",
       "    }\n",
       "\n",
       "    .dataframe tbody tr th {\n",
       "        vertical-align: top;\n",
       "    }\n",
       "\n",
       "    .dataframe thead th {\n",
       "        text-align: right;\n",
       "    }\n",
       "</style>\n",
       "<table border=\"1\" class=\"dataframe\">\n",
       "  <thead>\n",
       "    <tr style=\"text-align: right;\">\n",
       "      <th></th>\n",
       "      <th>Host Since</th>\n",
       "      <th>Borough</th>\n",
       "      <th>Property Type</th>\n",
       "      <th>Room Type</th>\n",
       "      <th>Beds</th>\n",
       "      <th>Number Of Reviews</th>\n",
       "      <th>Price</th>\n",
       "      <th>Review Scores Rating</th>\n",
       "    </tr>\n",
       "  </thead>\n",
       "  <tbody>\n",
       "    <tr>\n",
       "      <th>14983</th>\n",
       "      <td>2013</td>\n",
       "      <td>Brooklyn</td>\n",
       "      <td>Apartment</td>\n",
       "      <td>Entire home/apt</td>\n",
       "      <td>4.0</td>\n",
       "      <td>28</td>\n",
       "      <td>163</td>\n",
       "      <td>87.0</td>\n",
       "    </tr>\n",
       "    <tr>\n",
       "      <th>14303</th>\n",
       "      <td>2013</td>\n",
       "      <td>Manhattan</td>\n",
       "      <td>Apartment</td>\n",
       "      <td>Entire home/apt</td>\n",
       "      <td>3.0</td>\n",
       "      <td>32</td>\n",
       "      <td>206</td>\n",
       "      <td>85.0</td>\n",
       "    </tr>\n",
       "    <tr>\n",
       "      <th>5560</th>\n",
       "      <td>2012</td>\n",
       "      <td>Manhattan</td>\n",
       "      <td>Apartment</td>\n",
       "      <td>Private room</td>\n",
       "      <td>1.0</td>\n",
       "      <td>4</td>\n",
       "      <td>90</td>\n",
       "      <td>90.0</td>\n",
       "    </tr>\n",
       "  </tbody>\n",
       "</table>\n",
       "</div>"
      ],
      "text/plain": [
       "       Host Since    Borough Property Type        Room Type  Beds  \\\n",
       "14983        2013   Brooklyn     Apartment  Entire home/apt   4.0   \n",
       "14303        2013  Manhattan     Apartment  Entire home/apt   3.0   \n",
       "5560         2012  Manhattan     Apartment     Private room   1.0   \n",
       "\n",
       "       Number Of Reviews  Price  Review Scores Rating  \n",
       "14983                 28    163                  87.0  \n",
       "14303                 32    206                  85.0  \n",
       "5560                   4     90                  90.0  "
      ]
     },
     "execution_count": 33,
     "metadata": {},
     "output_type": "execute_result"
    }
   ],
   "source": [
    "# convert values in Age attribute to integer\n",
    "train_copy['Host Since'] = train_copy['Host Since'].fillna(0.0).astype(int)\n",
    "train_copy.head(3)"
   ]
  },
  {
   "cell_type": "code",
   "execution_count": 34,
   "metadata": {},
   "outputs": [
    {
     "data": {
      "text/html": [
       "<div>\n",
       "<style scoped>\n",
       "    .dataframe tbody tr th:only-of-type {\n",
       "        vertical-align: middle;\n",
       "    }\n",
       "\n",
       "    .dataframe tbody tr th {\n",
       "        vertical-align: top;\n",
       "    }\n",
       "\n",
       "    .dataframe thead th {\n",
       "        text-align: right;\n",
       "    }\n",
       "</style>\n",
       "<table border=\"1\" class=\"dataframe\">\n",
       "  <thead>\n",
       "    <tr style=\"text-align: right;\">\n",
       "      <th></th>\n",
       "      <th>Host Since</th>\n",
       "      <th>Borough</th>\n",
       "      <th>Property Type</th>\n",
       "      <th>Room Type</th>\n",
       "      <th>Beds</th>\n",
       "      <th>Number Of Reviews</th>\n",
       "      <th>Price</th>\n",
       "      <th>Review Scores Rating</th>\n",
       "    </tr>\n",
       "  </thead>\n",
       "  <tbody>\n",
       "    <tr>\n",
       "      <th>14983</th>\n",
       "      <td>2</td>\n",
       "      <td>Brooklyn</td>\n",
       "      <td>Apartment</td>\n",
       "      <td>Entire home/apt</td>\n",
       "      <td>4.0</td>\n",
       "      <td>28</td>\n",
       "      <td>163</td>\n",
       "      <td>87.0</td>\n",
       "    </tr>\n",
       "    <tr>\n",
       "      <th>14303</th>\n",
       "      <td>2</td>\n",
       "      <td>Manhattan</td>\n",
       "      <td>Apartment</td>\n",
       "      <td>Entire home/apt</td>\n",
       "      <td>3.0</td>\n",
       "      <td>32</td>\n",
       "      <td>206</td>\n",
       "      <td>85.0</td>\n",
       "    </tr>\n",
       "    <tr>\n",
       "      <th>5560</th>\n",
       "      <td>3</td>\n",
       "      <td>Manhattan</td>\n",
       "      <td>Apartment</td>\n",
       "      <td>Private room</td>\n",
       "      <td>1.0</td>\n",
       "      <td>4</td>\n",
       "      <td>90</td>\n",
       "      <td>90.0</td>\n",
       "    </tr>\n",
       "  </tbody>\n",
       "</table>\n",
       "</div>"
      ],
      "text/plain": [
       "       Host Since    Borough Property Type        Room Type  Beds  \\\n",
       "14983           2   Brooklyn     Apartment  Entire home/apt   4.0   \n",
       "14303           2  Manhattan     Apartment  Entire home/apt   3.0   \n",
       "5560            3  Manhattan     Apartment     Private room   1.0   \n",
       "\n",
       "       Number Of Reviews  Price  Review Scores Rating  \n",
       "14983                 28    163                  87.0  \n",
       "14303                 32    206                  85.0  \n",
       "5560                   4     90                  90.0  "
      ]
     },
     "execution_count": 34,
     "metadata": {},
     "output_type": "execute_result"
    }
   ],
   "source": [
    "# convert the years to number of years\n",
    "train_copy['Host Since'] = 2015 - train_copy['Host Since']\n",
    "train_copy.head(3)"
   ]
  },
  {
   "cell_type": "code",
   "execution_count": 35,
   "metadata": {},
   "outputs": [
    {
     "data": {
      "text/plain": [
       "Host Since                 0\n",
       "Borough                    0\n",
       "Property Type              2\n",
       "Room Type                  0\n",
       "Beds                      55\n",
       "Number Of Reviews          0\n",
       "Price                      0\n",
       "Review Scores Rating    5603\n",
       "dtype: int64"
      ]
     },
     "execution_count": 35,
     "metadata": {},
     "output_type": "execute_result"
    }
   ],
   "source": [
    "train_copy.isnull().sum()"
   ]
  },
  {
   "cell_type": "markdown",
   "metadata": {},
   "source": [
    "##### Merging values of some attributes to one. This will reduce noise and also for better performance in modelling."
   ]
  },
  {
   "cell_type": "code",
   "execution_count": 36,
   "metadata": {},
   "outputs": [
    {
     "data": {
      "text/plain": [
       "['Apartment', 'House', 'Mini_house', 'Conveyance', nan]"
      ]
     },
     "execution_count": 36,
     "metadata": {},
     "output_type": "execute_result"
    }
   ],
   "source": [
    "# For Property Type\n",
    "# House, Condominium, Townhouse, Villa, Bungalow, Chalet, Castle will be converted to House (They are all similar to being just a house). \n",
    "# Dorm, Camper/RV, Treehouse, Tent, Hut and Lighthouse will be converted to Mini_house.\n",
    "# Apartment, Bed & Breakfast, Other, Loft will be converted to Apartment.\n",
    "# Boat, Cabin will be converted to Conveyance\n",
    "#df['Propety_Type'] = \n",
    "train_copy['Property Type'].replace({'Condominium' : 'House', 'Townhouse' : 'House', 'Villa' : 'House', 'Bungalow' : 'House', 'Chalet' : 'House', 'Castle' : 'House',\n",
    "                                               'Dorm' : 'Mini_house', 'Camper/RV' : 'Mini_house', 'Treehouse' : 'Mini_house', 'Tent' : 'Mini_house', 'Hut' : 'Mini_house', 'Lighthouse' : 'Mini_house',\n",
    "                                               'Bed' : 'Apartment', 'Bed & Breakfast' : 'Apartment', 'Other' : 'Apartment', 'Loft': 'Apartment',\n",
    "                                               'Boat' : 'Conveyance', 'Cabin' : 'Conveyance'}, inplace=True)\n",
    "train_copy['Property Type'].unique().tolist()"
   ]
  },
  {
   "cell_type": "code",
   "execution_count": 37,
   "metadata": {},
   "outputs": [
    {
     "data": {
      "text/plain": [
       "['Private room', 'Shared room']"
      ]
     },
     "execution_count": 37,
     "metadata": {},
     "output_type": "execute_result"
    }
   ],
   "source": [
    "# For Room Type\n",
    "# all Entire home/apt will be converted to Private room\n",
    "train_copy['Room Type'].replace({'Entire home/apt' : 'Private room'}, inplace=True)\n",
    "train_copy['Room Type'].unique().tolist()"
   ]
  },
  {
   "cell_type": "code",
   "execution_count": 38,
   "metadata": {
    "scrolled": false
   },
   "outputs": [
    {
     "data": {
      "text/plain": [
       "Price                   1.000000\n",
       "Beds                    0.311338\n",
       "Review Scores Rating    0.055657\n",
       "Host Since              0.022829\n",
       "Number Of Reviews      -0.036072\n",
       "Name: Price, dtype: float64"
      ]
     },
     "execution_count": 38,
     "metadata": {},
     "output_type": "execute_result"
    }
   ],
   "source": [
    "# Checking correlation between predictors and the target (train set)\n",
    "trainCorr = train_copy.corr()\n",
    "trainCorr.Price.sort_values(ascending=False)"
   ]
  },
  {
   "cell_type": "code",
   "execution_count": 40,
   "metadata": {},
   "outputs": [
    {
     "name": "stderr",
     "output_type": "stream",
     "text": [
      "C:\\Users\\USER\\AppData\\Local\\Continuum\\anaconda3\\lib\\site-packages\\ipykernel_launcher.py:6: FutureWarning: pandas.scatter_matrix is deprecated, use pandas.plotting.scatter_matrix instead\n",
      "  \n"
     ]
    },
    {
     "data": {
      "image/png": "[encoded data removed]",
      "text/plain": [
       "<Figure size 864x576 with 25 Axes>"
      ]
     },
     "metadata": {
      "needs_background": "light"
     },
     "output_type": "display_data"
    }
   ],
   "source": [
    "# scatter matrix on the train set\n",
    "from pandas import scatter_matrix\n",
    "\n",
    "attributes = ['Price', 'Beds', 'Review Scores Rating', 'Host Since', 'Number Of Reviews']\n",
    "\n",
    "scatter_matrix(train_copy[attributes], figsize=(12,8))\n",
    "plt.show()"
   ]
  },
  {
   "cell_type": "code",
   "execution_count": 41,
   "metadata": {},
   "outputs": [
    {
     "data": {
      "image/png": "[encoded data removed]",
      "text/plain": [
       "<Figure size 432x288 with 1 Axes>"
      ]
     },
     "metadata": {
      "needs_background": "light"
     },
     "output_type": "display_data"
    }
   ],
   "source": [
    "# look deeper into Beds (train set)\n",
    "train_copy.plot(kind='scatter', x='Beds', y='Price', alpha=.1)\n",
    "plt.show()"
   ]
  },
  {
   "cell_type": "markdown",
   "metadata": {},
   "source": [
    "##### Impute Missing Values"
   ]
  },
  {
   "cell_type": "code",
   "execution_count": 42,
   "metadata": {},
   "outputs": [
    {
     "data": {
      "text/html": [
       "<div>\n",
       "<style scoped>\n",
       "    .dataframe tbody tr th:only-of-type {\n",
       "        vertical-align: middle;\n",
       "    }\n",
       "\n",
       "    .dataframe tbody tr th {\n",
       "        vertical-align: top;\n",
       "    }\n",
       "\n",
       "    .dataframe thead th {\n",
       "        text-align: right;\n",
       "    }\n",
       "</style>\n",
       "<table border=\"1\" class=\"dataframe\">\n",
       "  <thead>\n",
       "    <tr style=\"text-align: right;\">\n",
       "      <th></th>\n",
       "      <th>Host Since</th>\n",
       "      <th>Borough</th>\n",
       "      <th>Property Type</th>\n",
       "      <th>Room Type</th>\n",
       "      <th>Beds</th>\n",
       "      <th>Number Of Reviews</th>\n",
       "      <th>Price</th>\n",
       "      <th>Review Scores Rating</th>\n",
       "    </tr>\n",
       "  </thead>\n",
       "  <tbody>\n",
       "    <tr>\n",
       "      <th>14983</th>\n",
       "      <td>2</td>\n",
       "      <td>1</td>\n",
       "      <td>1.0</td>\n",
       "      <td>1</td>\n",
       "      <td>4.0</td>\n",
       "      <td>28</td>\n",
       "      <td>163</td>\n",
       "      <td>87.0</td>\n",
       "    </tr>\n",
       "    <tr>\n",
       "      <th>14303</th>\n",
       "      <td>2</td>\n",
       "      <td>2</td>\n",
       "      <td>1.0</td>\n",
       "      <td>1</td>\n",
       "      <td>3.0</td>\n",
       "      <td>32</td>\n",
       "      <td>206</td>\n",
       "      <td>85.0</td>\n",
       "    </tr>\n",
       "    <tr>\n",
       "      <th>5560</th>\n",
       "      <td>3</td>\n",
       "      <td>2</td>\n",
       "      <td>1.0</td>\n",
       "      <td>1</td>\n",
       "      <td>1.0</td>\n",
       "      <td>4</td>\n",
       "      <td>90</td>\n",
       "      <td>90.0</td>\n",
       "    </tr>\n",
       "    <tr>\n",
       "      <th>6603</th>\n",
       "      <td>3</td>\n",
       "      <td>1</td>\n",
       "      <td>1.0</td>\n",
       "      <td>1</td>\n",
       "      <td>1.0</td>\n",
       "      <td>0</td>\n",
       "      <td>110</td>\n",
       "      <td>NaN</td>\n",
       "    </tr>\n",
       "    <tr>\n",
       "      <th>30233</th>\n",
       "      <td>0</td>\n",
       "      <td>1</td>\n",
       "      <td>1.0</td>\n",
       "      <td>1</td>\n",
       "      <td>1.0</td>\n",
       "      <td>3</td>\n",
       "      <td>70</td>\n",
       "      <td>100.0</td>\n",
       "    </tr>\n",
       "  </tbody>\n",
       "</table>\n",
       "</div>"
      ],
      "text/plain": [
       "       Host Since  Borough  Property Type  Room Type  Beds  Number Of Reviews  \\\n",
       "14983           2        1            1.0          1   4.0                 28   \n",
       "14303           2        2            1.0          1   3.0                 32   \n",
       "5560            3        2            1.0          1   1.0                  4   \n",
       "6603            3        1            1.0          1   1.0                  0   \n",
       "30233           0        1            1.0          1   1.0                  3   \n",
       "\n",
       "       Price  Review Scores Rating  \n",
       "14983    163                  87.0  \n",
       "14303    206                  85.0  \n",
       "5560      90                  90.0  \n",
       "6603     110                   NaN  \n",
       "30233     70                 100.0  "
      ]
     },
     "execution_count": 42,
     "metadata": {},
     "output_type": "execute_result"
    }
   ],
   "source": [
    "# Label encode all categorical variables to prepare for estimating missing values\n",
    "train_copy['Borough'].replace({'Brooklyn' : 1, 'Manhattan' : 2, 'Queens' : 3, 'Bronx' : 4, 'Staten Island' : 5}, inplace=True)\n",
    "train_copy['Room Type'].replace({'Private room' : 1, 'Shared room' : 2}, inplace=True)\n",
    "train_copy['Property Type'].replace({'Apartment' : 1, 'House' : 2, 'Mini_house' : 3, 'Conveyance' : 4}, inplace=True)\n",
    "train_copy.head()"
   ]
  },
  {
   "cell_type": "code",
   "execution_count": 43,
   "metadata": {},
   "outputs": [],
   "source": [
    "# Fill up missing values with mode and median.\n",
    "# Mode for Property Type as it is a categorical variable\n",
    "# Mode for Beds (it's the same value as the median)\n",
    "# Median for Review Scores Rating. Due to the high amount of outliers, median is better for central tendency.\n",
    "train_copy['Property Type'].fillna(train_copy['Property Type'].mode()[0], inplace=True)\n",
    "train_copy['Beds'].fillna(train_copy['Beds'].mode()[0], inplace=True)\n",
    "train_copy['Review Scores Rating'].fillna(train_copy['Review Scores Rating'].median(), inplace=True)"
   ]
  },
  {
   "cell_type": "code",
   "execution_count": 44,
   "metadata": {},
   "outputs": [
    {
     "data": {
      "text/plain": [
       "Host Since              0\n",
       "Borough                 0\n",
       "Property Type           0\n",
       "Room Type               0\n",
       "Beds                    0\n",
       "Number Of Reviews       0\n",
       "Price                   0\n",
       "Review Scores Rating    0\n",
       "dtype: int64"
      ]
     },
     "execution_count": 44,
     "metadata": {},
     "output_type": "execute_result"
    }
   ],
   "source": [
    "# check for null values in the data set\n",
    "train_copy.isnull().sum()"
   ]
  },
  {
   "cell_type": "markdown",
   "metadata": {},
   "source": [
    "##### Identifying and removing outliers"
   ]
  },
  {
   "cell_type": "code",
   "execution_count": 45,
   "metadata": {},
   "outputs": [
    {
     "name": "stdout",
     "output_type": "stream",
     "text": [
      "(18607, 8)\n"
     ]
    }
   ],
   "source": [
    "# Identify and remove possible outliers from the data\n",
    "# converting Train set to arrays\n",
    "trainA = train_copy.values # trainA means train set arrays\n",
    "\n",
    "# import relevant library\n",
    "from sklearn.neighbors import LocalOutlierFactor\n",
    "\n",
    "# instantiate function\n",
    "lof = LocalOutlierFactor()\n",
    "ohat = lof.fit_predict(trainA)\n",
    "\n",
    "# select non outliers\n",
    "mask = ohat != -1\n",
    "trainNO = trainA[mask, :] #trainNO means train set with no outliers\n",
    "\n",
    "print(trainNO.shape)"
   ]
  },
  {
   "cell_type": "code",
   "execution_count": 46,
   "metadata": {},
   "outputs": [
    {
     "data": {
      "text/html": [
       "<div>\n",
       "<style scoped>\n",
       "    .dataframe tbody tr th:only-of-type {\n",
       "        vertical-align: middle;\n",
       "    }\n",
       "\n",
       "    .dataframe tbody tr th {\n",
       "        vertical-align: top;\n",
       "    }\n",
       "\n",
       "    .dataframe thead th {\n",
       "        text-align: right;\n",
       "    }\n",
       "</style>\n",
       "<table border=\"1\" class=\"dataframe\">\n",
       "  <thead>\n",
       "    <tr style=\"text-align: right;\">\n",
       "      <th></th>\n",
       "      <th>Host Since</th>\n",
       "      <th>Borough</th>\n",
       "      <th>Property Type</th>\n",
       "      <th>Room Type</th>\n",
       "      <th>Beds</th>\n",
       "      <th>Number Of Reviews</th>\n",
       "      <th>Price</th>\n",
       "      <th>Review Scores Rating</th>\n",
       "    </tr>\n",
       "  </thead>\n",
       "  <tbody>\n",
       "    <tr>\n",
       "      <th>0</th>\n",
       "      <td>2.0</td>\n",
       "      <td>1.0</td>\n",
       "      <td>1.0</td>\n",
       "      <td>1.0</td>\n",
       "      <td>4.0</td>\n",
       "      <td>28.0</td>\n",
       "      <td>163.0</td>\n",
       "      <td>87.0</td>\n",
       "    </tr>\n",
       "    <tr>\n",
       "      <th>1</th>\n",
       "      <td>2.0</td>\n",
       "      <td>2.0</td>\n",
       "      <td>1.0</td>\n",
       "      <td>1.0</td>\n",
       "      <td>3.0</td>\n",
       "      <td>32.0</td>\n",
       "      <td>206.0</td>\n",
       "      <td>85.0</td>\n",
       "    </tr>\n",
       "    <tr>\n",
       "      <th>2</th>\n",
       "      <td>3.0</td>\n",
       "      <td>2.0</td>\n",
       "      <td>1.0</td>\n",
       "      <td>1.0</td>\n",
       "      <td>1.0</td>\n",
       "      <td>4.0</td>\n",
       "      <td>90.0</td>\n",
       "      <td>90.0</td>\n",
       "    </tr>\n",
       "    <tr>\n",
       "      <th>3</th>\n",
       "      <td>3.0</td>\n",
       "      <td>1.0</td>\n",
       "      <td>1.0</td>\n",
       "      <td>1.0</td>\n",
       "      <td>1.0</td>\n",
       "      <td>0.0</td>\n",
       "      <td>110.0</td>\n",
       "      <td>94.0</td>\n",
       "    </tr>\n",
       "  </tbody>\n",
       "</table>\n",
       "</div>"
      ],
      "text/plain": [
       "   Host Since  Borough  Property Type  Room Type  Beds  Number Of Reviews  \\\n",
       "0         2.0      1.0            1.0        1.0   4.0               28.0   \n",
       "1         2.0      2.0            1.0        1.0   3.0               32.0   \n",
       "2         3.0      2.0            1.0        1.0   1.0                4.0   \n",
       "3         3.0      1.0            1.0        1.0   1.0                0.0   \n",
       "\n",
       "   Price  Review Scores Rating  \n",
       "0  163.0                  87.0  \n",
       "1  206.0                  85.0  \n",
       "2   90.0                  90.0  \n",
       "3  110.0                  94.0  "
      ]
     },
     "execution_count": 46,
     "metadata": {},
     "output_type": "execute_result"
    }
   ],
   "source": [
    "# we can convert it back to pandas dataframe\n",
    "trainNO = pd.DataFrame(trainNO, columns=list(train_copy.columns))\n",
    "trainNO.head(4)"
   ]
  },
  {
   "cell_type": "code",
   "execution_count": 47,
   "metadata": {},
   "outputs": [
    {
     "data": {
      "text/plain": [
       "0    163.0\n",
       "1    206.0\n",
       "2     90.0\n",
       "3    110.0\n",
       "4     70.0\n",
       "Name: Price, dtype: float64"
      ]
     },
     "execution_count": 47,
     "metadata": {},
     "output_type": "execute_result"
    }
   ],
   "source": [
    "# Split out predictors from target variable\n",
    "trainX = trainNO.drop(['Price'], axis=1)\n",
    "trainY = trainNO['Price']\n",
    "trainY.head()"
   ]
  },
  {
   "cell_type": "markdown",
   "metadata": {},
   "source": [
    "### CREATE PIPELINE FOR DIFFERENT TRANSFORMATONS ON TRAIN DATASET COPY"
   ]
  },
  {
   "cell_type": "markdown",
   "metadata": {},
   "source": [
    "##### Pipeline for Numerical Variables\n",
    "1. simpleImputer for misssing values (median)\n",
    "2. StandardScaler for feature scaling\n",
    "\n",
    "##### Pipeline for Categorical Variables\n",
    "1. simpleImputer for misssing values (mode)\n",
    "2. OneHotEncoder for creating dummy variables"
   ]
  },
  {
   "cell_type": "code",
   "execution_count": 48,
   "metadata": {},
   "outputs": [
    {
     "data": {
      "text/html": [
       "<div>\n",
       "<style scoped>\n",
       "    .dataframe tbody tr th:only-of-type {\n",
       "        vertical-align: middle;\n",
       "    }\n",
       "\n",
       "    .dataframe tbody tr th {\n",
       "        vertical-align: top;\n",
       "    }\n",
       "\n",
       "    .dataframe thead th {\n",
       "        text-align: right;\n",
       "    }\n",
       "</style>\n",
       "<table border=\"1\" class=\"dataframe\">\n",
       "  <thead>\n",
       "    <tr style=\"text-align: right;\">\n",
       "      <th></th>\n",
       "      <th>Beds</th>\n",
       "      <th>Number Of Reviews</th>\n",
       "      <th>Review Scores Rating</th>\n",
       "      <th>Host Since</th>\n",
       "    </tr>\n",
       "  </thead>\n",
       "  <tbody>\n",
       "    <tr>\n",
       "      <th>0</th>\n",
       "      <td>4.0</td>\n",
       "      <td>28.0</td>\n",
       "      <td>87.0</td>\n",
       "      <td>2.0</td>\n",
       "    </tr>\n",
       "    <tr>\n",
       "      <th>1</th>\n",
       "      <td>3.0</td>\n",
       "      <td>32.0</td>\n",
       "      <td>85.0</td>\n",
       "      <td>2.0</td>\n",
       "    </tr>\n",
       "    <tr>\n",
       "      <th>2</th>\n",
       "      <td>1.0</td>\n",
       "      <td>4.0</td>\n",
       "      <td>90.0</td>\n",
       "      <td>3.0</td>\n",
       "    </tr>\n",
       "    <tr>\n",
       "      <th>3</th>\n",
       "      <td>1.0</td>\n",
       "      <td>0.0</td>\n",
       "      <td>94.0</td>\n",
       "      <td>3.0</td>\n",
       "    </tr>\n",
       "    <tr>\n",
       "      <th>4</th>\n",
       "      <td>1.0</td>\n",
       "      <td>3.0</td>\n",
       "      <td>100.0</td>\n",
       "      <td>0.0</td>\n",
       "    </tr>\n",
       "  </tbody>\n",
       "</table>\n",
       "</div>"
      ],
      "text/plain": [
       "   Beds  Number Of Reviews  Review Scores Rating  Host Since\n",
       "0   4.0               28.0                  87.0         2.0\n",
       "1   3.0               32.0                  85.0         2.0\n",
       "2   1.0                4.0                  90.0         3.0\n",
       "3   1.0                0.0                  94.0         3.0\n",
       "4   1.0                3.0                 100.0         0.0"
      ]
     },
     "execution_count": 48,
     "metadata": {},
     "output_type": "execute_result"
    }
   ],
   "source": [
    "# split out numerical predictors from trainX\n",
    "numFeats = ['Beds', 'Number Of Reviews', 'Review Scores Rating', 'Host Since'] #numFeats means numerical feature columns\n",
    "trainNum = trainX.loc[:, numFeats]\n",
    "trainNum.head() # trainNum means trainset numerical predictors"
   ]
  },
  {
   "cell_type": "code",
   "execution_count": 49,
   "metadata": {},
   "outputs": [
    {
     "data": {
      "text/html": [
       "<div>\n",
       "<style scoped>\n",
       "    .dataframe tbody tr th:only-of-type {\n",
       "        vertical-align: middle;\n",
       "    }\n",
       "\n",
       "    .dataframe tbody tr th {\n",
       "        vertical-align: top;\n",
       "    }\n",
       "\n",
       "    .dataframe thead th {\n",
       "        text-align: right;\n",
       "    }\n",
       "</style>\n",
       "<table border=\"1\" class=\"dataframe\">\n",
       "  <thead>\n",
       "    <tr style=\"text-align: right;\">\n",
       "      <th></th>\n",
       "      <th>Borough</th>\n",
       "      <th>Property Type</th>\n",
       "      <th>Room Type</th>\n",
       "    </tr>\n",
       "  </thead>\n",
       "  <tbody>\n",
       "    <tr>\n",
       "      <th>0</th>\n",
       "      <td>1.0</td>\n",
       "      <td>1.0</td>\n",
       "      <td>1.0</td>\n",
       "    </tr>\n",
       "    <tr>\n",
       "      <th>1</th>\n",
       "      <td>2.0</td>\n",
       "      <td>1.0</td>\n",
       "      <td>1.0</td>\n",
       "    </tr>\n",
       "    <tr>\n",
       "      <th>2</th>\n",
       "      <td>2.0</td>\n",
       "      <td>1.0</td>\n",
       "      <td>1.0</td>\n",
       "    </tr>\n",
       "    <tr>\n",
       "      <th>3</th>\n",
       "      <td>1.0</td>\n",
       "      <td>1.0</td>\n",
       "      <td>1.0</td>\n",
       "    </tr>\n",
       "    <tr>\n",
       "      <th>4</th>\n",
       "      <td>1.0</td>\n",
       "      <td>1.0</td>\n",
       "      <td>1.0</td>\n",
       "    </tr>\n",
       "  </tbody>\n",
       "</table>\n",
       "</div>"
      ],
      "text/plain": [
       "   Borough  Property Type  Room Type\n",
       "0      1.0            1.0        1.0\n",
       "1      2.0            1.0        1.0\n",
       "2      2.0            1.0        1.0\n",
       "3      1.0            1.0        1.0\n",
       "4      1.0            1.0        1.0"
      ]
     },
     "execution_count": 49,
     "metadata": {},
     "output_type": "execute_result"
    }
   ],
   "source": [
    "# split out categorical predictors from trainX\n",
    "catFeats = trainX.columns.drop(numFeats) # catFeats means categorical f\n",
    "trainCat = trainX.loc[:, catFeats]\n",
    "trainCat.head() # trainCat means train set's categorical predictors"
   ]
  },
  {
   "cell_type": "markdown",
   "metadata": {},
   "source": [
    "#### numpipe > catpipe > columntransformer > pipeline w/ model"
   ]
  },
  {
   "cell_type": "code",
   "execution_count": 50,
   "metadata": {},
   "outputs": [],
   "source": [
    "# Pipeline for numerical predictors\n",
    "\n",
    "# import relevant libraries\n",
    "from sklearn.pipeline import Pipeline\n",
    "from sklearn.preprocessing import StandardScaler\n",
    "from sklearn.impute import SimpleImputer\n",
    "\n",
    "# instantiate Pipeline\n",
    "numPipe = Pipeline([('ImputeNum', SimpleImputer(strategy='median')), ('Scaler', StandardScaler())])"
   ]
  },
  {
   "cell_type": "code",
   "execution_count": 51,
   "metadata": {},
   "outputs": [],
   "source": [
    "# Pipeline for categorical predictors\n",
    "\n",
    "# import relevant library\n",
    "from sklearn.preprocessing import OneHotEncoder\n",
    "\n",
    "# instantiate Pipeline\n",
    "catPipe = Pipeline([('ImputeCat', SimpleImputer(strategy='most_frequent')), ('OneHot', OneHotEncoder())])"
   ]
  },
  {
   "cell_type": "code",
   "execution_count": 52,
   "metadata": {},
   "outputs": [],
   "source": [
    "# Combine the two pipelines using Sklearn's ColumnTransformer\n",
    "\n",
    "from sklearn.compose import ColumnTransformer\n",
    "\n",
    "fullPipe = ColumnTransformer([('Nums', numPipe, numFeats), ('Cats', catPipe, catFeats)])"
   ]
  },
  {
   "cell_type": "code",
   "execution_count": 53,
   "metadata": {},
   "outputs": [
    {
     "data": {
      "text/plain": [
       "array([[ 2.77330438,  0.68339773, -0.76841777, ...,  0.        ,\n",
       "         1.        ,  0.        ],\n",
       "       [ 1.67173805,  0.86318165, -1.04278475, ...,  0.        ,\n",
       "         1.        ,  0.        ],\n",
       "       [-0.5313946 , -0.39530577, -0.35686729, ...,  0.        ,\n",
       "         1.        ,  0.        ],\n",
       "       ...,\n",
       "       [-0.5313946 , -0.48519773,  1.01496762, ...,  0.        ,\n",
       "         1.        ,  0.        ],\n",
       "       [-0.5313946 , -0.57508968,  0.19186667, ...,  0.        ,\n",
       "         1.        ,  0.        ],\n",
       "       [-0.5313946 , -0.57508968,  0.19186667, ...,  0.        ,\n",
       "         1.        ,  0.        ]])"
      ]
     },
     "execution_count": 53,
     "metadata": {},
     "output_type": "execute_result"
    }
   ],
   "source": [
    "# run pipeline on trainX set\n",
    "fullPipe.fit(trainX, trainY)\n",
    "trainXPrep = fullPipe.transform(trainX) # trainXPrep means prepared train predictors\n",
    "trainXPrep"
   ]
  },
  {
   "cell_type": "markdown",
   "metadata": {},
   "source": [
    "### We will create a full pipeline that includes:\n",
    "1. A transformer for the full data preparation.\n",
    "2. The ColumnTransformer used to house the categorical and numerical variables and merge them together.\n",
    "3. Use it to spot check some models on fitting the transformed data.\n",
    "\n",
    "Then we run the pipeline on the Train data set before running it on our test set"
   ]
  },
  {
   "cell_type": "code",
   "execution_count": 54,
   "metadata": {},
   "outputs": [],
   "source": [
    "# Build a custom sklearn transformer with 3 functions to prepare the data (drop features, replace 1, replace 2 and convert host to age.)\n",
    "\n",
    "# import relevant libraries\n",
    "from sklearn.base import BaseEstimator, TransformerMixin\n",
    "import pandas as pd\n",
    "import numpy as np\n",
    "\n",
    "# assign column index\n",
    "host_in, hostsince_in, name_in, borough_in, property_in, reviewbin_in, room_in, zip_in, beds_in, records_in, review_in, price_in, rating_in = range(0, 13, 1)\n",
    "\n",
    "class TidyData(BaseEstimator, TransformerMixin):\n",
    "    def __init__(self, age_missing_values = True): # for hyperparameter if age has missing values\n",
    "        self.age_missing_values = age_missing_values\n",
    "    def fit(self, X, y=None):\n",
    "        return self  # nothing else to do\n",
    "    def transform(self, X):\n",
    "        # to convert year format in Host Since variable to number of years\n",
    "        X.iloc[:, hostsince_in] = X.iloc[:, hostsince_in].map(lambda x: x.year) # create the variable\n",
    "        if self.age_missing_values:\n",
    "            X.iloc[:, hostsince_in].fillna(X.iloc[:, hostsince_in].mode()[0], inplace=True) # fill missing values, if any, with the mode value\n",
    "        X.iloc[:, hostsince_in] = X.iloc[:, hostsince_in].fillna(0.0).astype(int) # convert values to integers\n",
    "        X.iloc[:, hostsince_in] = 2015 - X.iloc[:, hostsince_in] # convert year to number of years (age)\n",
    "        # to reduce unique values of Property Type and Room Type variables\n",
    "        X.iloc[:, property_in].replace({'Condominium' : 'House', 'Townhouse' : 'House', 'Villa' : 'House', 'Bungalow' : 'House', 'Chalet' : 'House', 'Castle' : 'House',\n",
    "                                               'Dorm' : 'Mini_house', 'Camper/RV' : 'Mini_house', 'Treehouse' : 'Mini_house', 'Tent' : 'Mini_house', 'Hut' : 'Mini_house', 'Lighthouse' : 'Mini_house',\n",
    "                                               'Bed' : 'Apartment', 'Bed & Breakfast' : 'Apartment', 'Other' : 'Apartment', 'Loft': 'Apartment',\n",
    "                                               'Boat' : 'Conveyance', 'Cabin' : 'Conveyance'}, inplace=True) # for Property Type\n",
    "        X.iloc[:, room_in].replace({'Entire home/apt' : 'Private room'}, inplace=True) # for Room Type\n",
    "        # Label encode all categorical variables to prepare for estimating missing values\n",
    "        X.iloc[:, borough_in].replace({'Brooklyn' : 1, 'Manhattan' : 2, 'Queens' : 3, 'Bronx' : 4, 'Staten Island' : 5}, inplace=True)\n",
    "        X.iloc[:, room_in].replace({'Private room' : 1, 'Shared room' : 2}, inplace=True)\n",
    "        X.iloc[:, property_in].replace({'Apartment' : 1, 'House' : 2, 'Mini_house' : 3, 'Conveyance' : 4}, inplace=True)\n",
    "        # Drop irrelevant features\n",
    "        X.drop(['Host Id', 'Name', 'Review Scores Rating (bin)', 'Zipcode', 'Number of Records'], axis=1, inplace=True)\n",
    "\n",
    "        #x_df = pd.concat([X, num_years], axis=1)\n",
    "        # return all variables as pandas DataFrame\n",
    "        return X\n"
   ]
  },
  {
   "cell_type": "code",
   "execution_count": 55,
   "metadata": {},
   "outputs": [],
   "source": [
    "# create another copy of the train set to run through the pipeline and spot check algorithms\n",
    "trainCopy = Train.copy()"
   ]
  },
  {
   "cell_type": "code",
   "execution_count": 57,
   "metadata": {},
   "outputs": [
    {
     "data": {
      "text/html": [
       "<div>\n",
       "<style scoped>\n",
       "    .dataframe tbody tr th:only-of-type {\n",
       "        vertical-align: middle;\n",
       "    }\n",
       "\n",
       "    .dataframe tbody tr th {\n",
       "        vertical-align: top;\n",
       "    }\n",
       "\n",
       "    .dataframe thead th {\n",
       "        text-align: right;\n",
       "    }\n",
       "</style>\n",
       "<table border=\"1\" class=\"dataframe\">\n",
       "  <thead>\n",
       "    <tr style=\"text-align: right;\">\n",
       "      <th></th>\n",
       "      <th>Host Id</th>\n",
       "      <th>Host Since</th>\n",
       "      <th>Name</th>\n",
       "      <th>Borough</th>\n",
       "      <th>Property Type</th>\n",
       "      <th>Review Scores Rating (bin)</th>\n",
       "      <th>Room Type</th>\n",
       "      <th>Zipcode</th>\n",
       "      <th>Beds</th>\n",
       "      <th>Number of Records</th>\n",
       "      <th>Number Of Reviews</th>\n",
       "      <th>Review Scores Rating</th>\n",
       "    </tr>\n",
       "  </thead>\n",
       "  <tbody>\n",
       "    <tr>\n",
       "      <th>14983</th>\n",
       "      <td>8235445</td>\n",
       "      <td>2013-08-18</td>\n",
       "      <td>Downtown Brooklyn Living</td>\n",
       "      <td>Brooklyn</td>\n",
       "      <td>Apartment</td>\n",
       "      <td>85.0</td>\n",
       "      <td>Entire home/apt</td>\n",
       "      <td>11201.0</td>\n",
       "      <td>4.0</td>\n",
       "      <td>1</td>\n",
       "      <td>28</td>\n",
       "      <td>87.0</td>\n",
       "    </tr>\n",
       "    <tr>\n",
       "      <th>14303</th>\n",
       "      <td>7452455</td>\n",
       "      <td>2013-07-13</td>\n",
       "      <td>MANHATTAN STUDIO 10 MIN TO DOWNTOWN</td>\n",
       "      <td>Manhattan</td>\n",
       "      <td>Apartment</td>\n",
       "      <td>85.0</td>\n",
       "      <td>Entire home/apt</td>\n",
       "      <td>10035.0</td>\n",
       "      <td>3.0</td>\n",
       "      <td>1</td>\n",
       "      <td>32</td>\n",
       "      <td>85.0</td>\n",
       "    </tr>\n",
       "    <tr>\n",
       "      <th>5560</th>\n",
       "      <td>1689781</td>\n",
       "      <td>2012-02-02</td>\n",
       "      <td>1 bedroom by Riverbank Park</td>\n",
       "      <td>Manhattan</td>\n",
       "      <td>Apartment</td>\n",
       "      <td>90.0</td>\n",
       "      <td>Private room</td>\n",
       "      <td>10031.0</td>\n",
       "      <td>1.0</td>\n",
       "      <td>1</td>\n",
       "      <td>4</td>\n",
       "      <td>90.0</td>\n",
       "    </tr>\n",
       "    <tr>\n",
       "      <th>6603</th>\n",
       "      <td>2202858</td>\n",
       "      <td>2012-04-23</td>\n",
       "      <td>Bright One Bed Apt</td>\n",
       "      <td>Brooklyn</td>\n",
       "      <td>Apartment</td>\n",
       "      <td>NaN</td>\n",
       "      <td>Entire home/apt</td>\n",
       "      <td>11225.0</td>\n",
       "      <td>1.0</td>\n",
       "      <td>1</td>\n",
       "      <td>0</td>\n",
       "      <td>NaN</td>\n",
       "    </tr>\n",
       "    <tr>\n",
       "      <th>30233</th>\n",
       "      <td>41938451</td>\n",
       "      <td>2015-08-19</td>\n",
       "      <td>Clean, Modern, Brooklyn Apt</td>\n",
       "      <td>Brooklyn</td>\n",
       "      <td>Apartment</td>\n",
       "      <td>100.0</td>\n",
       "      <td>Private room</td>\n",
       "      <td>11213.0</td>\n",
       "      <td>1.0</td>\n",
       "      <td>1</td>\n",
       "      <td>3</td>\n",
       "      <td>100.0</td>\n",
       "    </tr>\n",
       "  </tbody>\n",
       "</table>\n",
       "</div>"
      ],
      "text/plain": [
       "        Host Id Host Since                                 Name    Borough  \\\n",
       "14983   8235445 2013-08-18             Downtown Brooklyn Living   Brooklyn   \n",
       "14303   7452455 2013-07-13  MANHATTAN STUDIO 10 MIN TO DOWNTOWN  Manhattan   \n",
       "5560    1689781 2012-02-02          1 bedroom by Riverbank Park  Manhattan   \n",
       "6603    2202858 2012-04-23                   Bright One Bed Apt   Brooklyn   \n",
       "30233  41938451 2015-08-19          Clean, Modern, Brooklyn Apt   Brooklyn   \n",
       "\n",
       "      Property Type  Review Scores Rating (bin)        Room Type  Zipcode  \\\n",
       "14983     Apartment                        85.0  Entire home/apt  11201.0   \n",
       "14303     Apartment                        85.0  Entire home/apt  10035.0   \n",
       "5560      Apartment                        90.0     Private room  10031.0   \n",
       "6603      Apartment                         NaN  Entire home/apt  11225.0   \n",
       "30233     Apartment                       100.0     Private room  11213.0   \n",
       "\n",
       "       Beds  Number of Records  Number Of Reviews  Review Scores Rating  \n",
       "14983   4.0                  1                 28                  87.0  \n",
       "14303   3.0                  1                 32                  85.0  \n",
       "5560    1.0                  1                  4                  90.0  \n",
       "6603    1.0                  1                  0                   NaN  \n",
       "30233   1.0                  1                  3                 100.0  "
      ]
     },
     "execution_count": 57,
     "metadata": {},
     "output_type": "execute_result"
    }
   ],
   "source": [
    "# split our predictors and target\n",
    "trainCopyX = trainCopy.drop(['Price'], axis=1)\n",
    "trainCopyY = trainCopy['Price']\n",
    "trainCopyX.head()"
   ]
  },
  {
   "cell_type": "code",
   "execution_count": 58,
   "metadata": {},
   "outputs": [
    {
     "data": {
      "text/plain": [
       "array([[ 2.46463775,  0.73115252, -0.72547473, ...,  0.        ,\n",
       "         1.        ,  0.        ],\n",
       "       [ 1.4691889 ,  0.91403077, -0.98853887, ...,  0.        ,\n",
       "         1.        ,  0.        ],\n",
       "       [-0.52170879, -0.36611697, -0.33087852, ...,  0.        ,\n",
       "         1.        ,  0.        ],\n",
       "       ...,\n",
       "       [-0.52170879, -0.4575561 ,  0.98444218, ...,  0.        ,\n",
       "         1.        ,  0.        ],\n",
       "       [-0.52170879, -0.54899522,  0.19524976, ...,  0.        ,\n",
       "         1.        ,  0.        ],\n",
       "       [-0.52170879, -0.54899522,  0.19524976, ...,  0.        ,\n",
       "         1.        ,  0.        ]])"
      ]
     },
     "execution_count": 58,
     "metadata": {},
     "output_type": "execute_result"
    }
   ],
   "source": [
    "dataTransformer = Pipeline([('preparation', TidyData(age_missing_values=True)), ('transformer', fullPipe)])\n",
    "\n",
    "trainCopyTransformed = dataTransformer.fit_transform(trainCopyX)\n",
    "trainCopyTransformed"
   ]
  },
  {
   "cell_type": "markdown",
   "metadata": {},
   "source": [
    "### SPOT CHECK ALGORITHMS"
   ]
  },
  {
   "cell_type": "code",
   "execution_count": 59,
   "metadata": {},
   "outputs": [
    {
     "name": "stderr",
     "output_type": "stream",
     "text": [
      "C:\\Users\\USER\\AppData\\Local\\Continuum\\anaconda3\\lib\\site-packages\\sklearn\\model_selection\\_split.py:672: UserWarning: The least populated class in y has only 1 members, which is less than n_splits=10.\n",
      "  % (min_groups, self.n_splits)), UserWarning)\n",
      "C:\\Users\\USER\\AppData\\Local\\Continuum\\anaconda3\\lib\\site-packages\\sklearn\\model_selection\\_split.py:672: UserWarning: The least populated class in y has only 1 members, which is less than n_splits=10.\n",
      "  % (min_groups, self.n_splits)), UserWarning)\n",
      "C:\\Users\\USER\\AppData\\Local\\Continuum\\anaconda3\\lib\\site-packages\\sklearn\\model_selection\\_split.py:672: UserWarning: The least populated class in y has only 1 members, which is less than n_splits=10.\n",
      "  % (min_groups, self.n_splits)), UserWarning)\n"
     ]
    },
    {
     "name": "stdout",
     "output_type": "stream",
     "text": [
      "LR: 184.984843 (44.920462)\n"
     ]
    },
    {
     "name": "stderr",
     "output_type": "stream",
     "text": [
      "C:\\Users\\USER\\AppData\\Local\\Continuum\\anaconda3\\lib\\site-packages\\sklearn\\model_selection\\_split.py:672: UserWarning: The least populated class in y has only 1 members, which is less than n_splits=10.\n",
      "  % (min_groups, self.n_splits)), UserWarning)\n",
      "C:\\Users\\USER\\AppData\\Local\\Continuum\\anaconda3\\lib\\site-packages\\sklearn\\model_selection\\_split.py:672: UserWarning: The least populated class in y has only 1 members, which is less than n_splits=10.\n",
      "  % (min_groups, self.n_splits)), UserWarning)\n",
      "C:\\Users\\USER\\AppData\\Local\\Continuum\\anaconda3\\lib\\site-packages\\sklearn\\model_selection\\_split.py:672: UserWarning: The least populated class in y has only 1 members, which is less than n_splits=10.\n",
      "  % (min_groups, self.n_splits)), UserWarning)\n"
     ]
    },
    {
     "name": "stdout",
     "output_type": "stream",
     "text": [
      "Lasso: 185.116636 (44.966693)\n"
     ]
    },
    {
     "name": "stderr",
     "output_type": "stream",
     "text": [
      "C:\\Users\\USER\\AppData\\Local\\Continuum\\anaconda3\\lib\\site-packages\\sklearn\\model_selection\\_split.py:672: UserWarning: The least populated class in y has only 1 members, which is less than n_splits=10.\n",
      "  % (min_groups, self.n_splits)), UserWarning)\n",
      "C:\\Users\\USER\\AppData\\Local\\Continuum\\anaconda3\\lib\\site-packages\\sklearn\\model_selection\\_split.py:672: UserWarning: The least populated class in y has only 1 members, which is less than n_splits=10.\n",
      "  % (min_groups, self.n_splits)), UserWarning)\n",
      "C:\\Users\\USER\\AppData\\Local\\Continuum\\anaconda3\\lib\\site-packages\\sklearn\\model_selection\\_split.py:672: UserWarning: The least populated class in y has only 1 members, which is less than n_splits=10.\n",
      "  % (min_groups, self.n_splits)), UserWarning)\n"
     ]
    },
    {
     "name": "stdout",
     "output_type": "stream",
     "text": [
      "EN: 188.245308 (45.204419)\n"
     ]
    },
    {
     "name": "stderr",
     "output_type": "stream",
     "text": [
      "C:\\Users\\USER\\AppData\\Local\\Continuum\\anaconda3\\lib\\site-packages\\sklearn\\model_selection\\_split.py:672: UserWarning: The least populated class in y has only 1 members, which is less than n_splits=10.\n",
      "  % (min_groups, self.n_splits)), UserWarning)\n",
      "C:\\Users\\USER\\AppData\\Local\\Continuum\\anaconda3\\lib\\site-packages\\sklearn\\model_selection\\_split.py:672: UserWarning: The least populated class in y has only 1 members, which is less than n_splits=10.\n",
      "  % (min_groups, self.n_splits)), UserWarning)\n",
      "C:\\Users\\USER\\AppData\\Local\\Continuum\\anaconda3\\lib\\site-packages\\sklearn\\model_selection\\_split.py:672: UserWarning: The least populated class in y has only 1 members, which is less than n_splits=10.\n",
      "  % (min_groups, self.n_splits)), UserWarning)\n"
     ]
    },
    {
     "name": "stdout",
     "output_type": "stream",
     "text": [
      "KNN: 198.023628 (42.134260)\n"
     ]
    },
    {
     "name": "stderr",
     "output_type": "stream",
     "text": [
      "C:\\Users\\USER\\AppData\\Local\\Continuum\\anaconda3\\lib\\site-packages\\sklearn\\model_selection\\_split.py:672: UserWarning: The least populated class in y has only 1 members, which is less than n_splits=10.\n",
      "  % (min_groups, self.n_splits)), UserWarning)\n",
      "C:\\Users\\USER\\AppData\\Local\\Continuum\\anaconda3\\lib\\site-packages\\sklearn\\model_selection\\_split.py:672: UserWarning: The least populated class in y has only 1 members, which is less than n_splits=10.\n",
      "  % (min_groups, self.n_splits)), UserWarning)\n",
      "C:\\Users\\USER\\AppData\\Local\\Continuum\\anaconda3\\lib\\site-packages\\sklearn\\model_selection\\_split.py:672: UserWarning: The least populated class in y has only 1 members, which is less than n_splits=10.\n",
      "  % (min_groups, self.n_splits)), UserWarning)\n"
     ]
    },
    {
     "name": "stdout",
     "output_type": "stream",
     "text": [
      "SVR: 191.075275 (45.773358)\n"
     ]
    },
    {
     "name": "stderr",
     "output_type": "stream",
     "text": [
      "C:\\Users\\USER\\AppData\\Local\\Continuum\\anaconda3\\lib\\site-packages\\sklearn\\model_selection\\_split.py:672: UserWarning: The least populated class in y has only 1 members, which is less than n_splits=10.\n",
      "  % (min_groups, self.n_splits)), UserWarning)\n",
      "C:\\Users\\USER\\AppData\\Local\\Continuum\\anaconda3\\lib\\site-packages\\sklearn\\model_selection\\_split.py:672: UserWarning: The least populated class in y has only 1 members, which is less than n_splits=10.\n",
      "  % (min_groups, self.n_splits)), UserWarning)\n",
      "C:\\Users\\USER\\AppData\\Local\\Continuum\\anaconda3\\lib\\site-packages\\sklearn\\model_selection\\_split.py:672: UserWarning: The least populated class in y has only 1 members, which is less than n_splits=10.\n",
      "  % (min_groups, self.n_splits)), UserWarning)\n"
     ]
    },
    {
     "name": "stdout",
     "output_type": "stream",
     "text": [
      "CART: 237.574207 (49.338832)\n"
     ]
    }
   ],
   "source": [
    "# import relevant libraries\n",
    "from sklearn.model_selection import RepeatedStratifiedKFold\n",
    "from sklearn.model_selection import cross_val_score\n",
    "from sklearn.linear_model import LinearRegression\n",
    "from sklearn.linear_model import Lasso\n",
    "from sklearn.linear_model import ElasticNet\n",
    "from sklearn.tree import DecisionTreeRegressor\n",
    "from sklearn.svm import SVR\n",
    "from sklearn.neighbors import KNeighborsRegressor\n",
    "from sklearn.metrics import r2_score, mean_squared_error, mean_absolute_error\n",
    "\n",
    "# define the pipeline\n",
    "models = []\n",
    "\n",
    "models.append(('LR', LinearRegression()))\n",
    "models.append(('Lasso', Lasso()))\n",
    "models.append(('EN', ElasticNet()))\n",
    "models.append(('KNN', KNeighborsRegressor()))\n",
    "models.append(('SVR', SVR()))\n",
    "models.append(('CART', DecisionTreeRegressor()))\n",
    "\n",
    "# empty lists to store model names and results\n",
    "results = []\n",
    "names = []\n",
    "\n",
    "# Kfold and cross validation parameters\n",
    "seed = 234\n",
    "num_fold = 10\n",
    "num_repeat = 3\n",
    "scoring = 'neg_mean_squared_error'\n",
    "\n",
    "for name, model in models:\n",
    "    kfold = RepeatedStratifiedKFold(n_splits=num_fold, n_repeats=num_repeat, random_state=seed)\n",
    "    cv_results = cross_val_score(model, trainCopyTransformed, trainCopyY, cv=kfold, scoring=scoring, n_jobs=-1)\n",
    "    \n",
    "    # output to evaluate results\n",
    "    rmse = np.sqrt(-cv_results)\n",
    "    \n",
    "    # append each model results into empty lists created\n",
    "    results.append(rmse)\n",
    "    names.append(name)\n",
    "    \n",
    "    see_results = '%s: %f (%f)' % (name, rmse.mean(), rmse.std())\n",
    "    print(see_results)"
   ]
  },
  {
   "cell_type": "markdown",
   "metadata": {},
   "source": [
    "**Linear Regression performed the best with RepeatedStratifiedKFold cross validation**"
   ]
  },
  {
   "cell_type": "code",
   "execution_count": 60,
   "metadata": {},
   "outputs": [
    {
     "data": {
      "image/png": "[encoded data removed]",
      "text/plain": [
       "<Figure size 432x288 with 1 Axes>"
      ]
     },
     "metadata": {
      "needs_background": "light"
     },
     "output_type": "display_data"
    }
   ],
   "source": [
    "# Compare Algorithms\n",
    "fig = plt.figure()\n",
    "fig.suptitle('Algorithm Comparison')\n",
    "ax = fig.add_subplot(111)\n",
    "plt.boxplot(results)\n",
    "ax.set_xticklabels(names)\n",
    "plt.show()"
   ]
  },
  {
   "cell_type": "code",
   "execution_count": 61,
   "metadata": {},
   "outputs": [
    {
     "name": "stderr",
     "output_type": "stream",
     "text": [
      "C:\\Users\\USER\\AppData\\Local\\Continuum\\anaconda3\\lib\\site-packages\\sklearn\\model_selection\\_split.py:297: FutureWarning: Setting a random_state has no effect since shuffle is False. This will raise an error in 0.24. You should leave random_state to its default (None), or set shuffle=True.\n",
      "  FutureWarning\n"
     ]
    },
    {
     "name": "stdout",
     "output_type": "stream",
     "text": [
      "LR: 185.577978 (42.146054)\n"
     ]
    },
    {
     "name": "stderr",
     "output_type": "stream",
     "text": [
      "C:\\Users\\USER\\AppData\\Local\\Continuum\\anaconda3\\lib\\site-packages\\sklearn\\model_selection\\_split.py:297: FutureWarning: Setting a random_state has no effect since shuffle is False. This will raise an error in 0.24. You should leave random_state to its default (None), or set shuffle=True.\n",
      "  FutureWarning\n"
     ]
    },
    {
     "name": "stdout",
     "output_type": "stream",
     "text": [
      "Lasso: 185.722977 (42.158973)\n"
     ]
    },
    {
     "name": "stderr",
     "output_type": "stream",
     "text": [
      "C:\\Users\\USER\\AppData\\Local\\Continuum\\anaconda3\\lib\\site-packages\\sklearn\\model_selection\\_split.py:297: FutureWarning: Setting a random_state has no effect since shuffle is False. This will raise an error in 0.24. You should leave random_state to its default (None), or set shuffle=True.\n",
      "  FutureWarning\n"
     ]
    },
    {
     "name": "stdout",
     "output_type": "stream",
     "text": [
      "EN: 188.945314 (41.984100)\n"
     ]
    },
    {
     "name": "stderr",
     "output_type": "stream",
     "text": [
      "C:\\Users\\USER\\AppData\\Local\\Continuum\\anaconda3\\lib\\site-packages\\sklearn\\model_selection\\_split.py:297: FutureWarning: Setting a random_state has no effect since shuffle is False. This will raise an error in 0.24. You should leave random_state to its default (None), or set shuffle=True.\n",
      "  FutureWarning\n"
     ]
    },
    {
     "name": "stdout",
     "output_type": "stream",
     "text": [
      "KNN: 201.981927 (33.236707)\n"
     ]
    },
    {
     "name": "stderr",
     "output_type": "stream",
     "text": [
      "C:\\Users\\USER\\AppData\\Local\\Continuum\\anaconda3\\lib\\site-packages\\sklearn\\model_selection\\_split.py:297: FutureWarning: Setting a random_state has no effect since shuffle is False. This will raise an error in 0.24. You should leave random_state to its default (None), or set shuffle=True.\n",
      "  FutureWarning\n"
     ]
    },
    {
     "name": "stdout",
     "output_type": "stream",
     "text": [
      "SVR: 191.865163 (42.229279)\n"
     ]
    },
    {
     "name": "stderr",
     "output_type": "stream",
     "text": [
      "C:\\Users\\USER\\AppData\\Local\\Continuum\\anaconda3\\lib\\site-packages\\sklearn\\model_selection\\_split.py:297: FutureWarning: Setting a random_state has no effect since shuffle is False. This will raise an error in 0.24. You should leave random_state to its default (None), or set shuffle=True.\n",
      "  FutureWarning\n"
     ]
    },
    {
     "name": "stdout",
     "output_type": "stream",
     "text": [
      "CART: 215.704516 (37.991186)\n"
     ]
    }
   ],
   "source": [
    "# To use KFold instead of RepeatedStratifiedKFold\n",
    "from sklearn.model_selection import KFold\n",
    "\n",
    "# define models\n",
    "k_models = []\n",
    "\n",
    "k_models.append(('LR', LinearRegression()))\n",
    "k_models.append(('Lasso', Lasso()))\n",
    "k_models.append(('EN', ElasticNet()))\n",
    "k_models.append(('KNN', KNeighborsRegressor()))\n",
    "k_models.append(('SVR', SVR()))\n",
    "k_models.append(('CART', DecisionTreeRegressor()))\n",
    "\n",
    "# empty lists to store model names and results\n",
    "k_results = []\n",
    "k_names = []\n",
    "\n",
    "# Kfold and cross validation parameters\n",
    "seed = 234\n",
    "num_fold = 10\n",
    "scoring = 'neg_mean_squared_error'\n",
    "\n",
    "for k_name, k_model in k_models:\n",
    "    kfold_cv = KFold(n_splits=num_fold, random_state=seed)\n",
    "    k_cv_results = cross_val_score(k_model, trainCopyTransformed, trainCopyY, cv=kfold_cv, scoring=scoring)\n",
    "    \n",
    "    \n",
    "    # output to evaluate results\n",
    "    k_rmse = np.sqrt(-k_cv_results)\n",
    "    \n",
    "        # append each model results into empty lists created\n",
    "    k_results.append(k_rmse)\n",
    "    k_names.append(k_name)\n",
    "    \n",
    "    see_k_results = '%s: %f (%f)' % (k_name, k_rmse.mean(), k_rmse.std())\n",
    "    print(see_k_results)"
   ]
  },
  {
   "cell_type": "markdown",
   "metadata": {},
   "source": [
    "**Linear Regression still performed the best.**"
   ]
  },
  {
   "cell_type": "code",
   "execution_count": 62,
   "metadata": {
    "scrolled": true
   },
   "outputs": [
    {
     "data": {
      "image/png": "[encoded data removed]",
      "text/plain": [
       "<Figure size 432x288 with 1 Axes>"
      ]
     },
     "metadata": {
      "needs_background": "light"
     },
     "output_type": "display_data"
    }
   ],
   "source": [
    "# Compare Algorithms\n",
    "fig = plt.figure()\n",
    "fig.suptitle('Algorithm Comparison')\n",
    "ax = fig.add_subplot(111)\n",
    "plt.boxplot(k_results)\n",
    "ax.set_xticklabels(k_names)\n",
    "plt.show()"
   ]
  },
  {
   "cell_type": "code",
   "execution_count": 63,
   "metadata": {},
   "outputs": [
    {
     "name": "stderr",
     "output_type": "stream",
     "text": [
      "C:\\Users\\USER\\AppData\\Local\\Continuum\\anaconda3\\lib\\site-packages\\sklearn\\model_selection\\_split.py:297: FutureWarning: Setting a random_state has no effect since shuffle is False. This will raise an error in 0.24. You should leave random_state to its default (None), or set shuffle=True.\n",
      "  FutureWarning\n"
     ]
    },
    {
     "name": "stdout",
     "output_type": "stream",
     "text": [
      "RF: 200.236930 (40.722899)\n"
     ]
    },
    {
     "name": "stderr",
     "output_type": "stream",
     "text": [
      "C:\\Users\\USER\\AppData\\Local\\Continuum\\anaconda3\\lib\\site-packages\\sklearn\\model_selection\\_split.py:297: FutureWarning: Setting a random_state has no effect since shuffle is False. This will raise an error in 0.24. You should leave random_state to its default (None), or set shuffle=True.\n",
      "  FutureWarning\n"
     ]
    },
    {
     "name": "stdout",
     "output_type": "stream",
     "text": [
      "GB: 183.175743 (42.261592)\n"
     ]
    }
   ],
   "source": [
    "# Try some Ensemble Techniques\n",
    "from sklearn.ensemble import RandomForestRegressor\n",
    "from sklearn.ensemble import GradientBoostingRegressor\n",
    "\n",
    "\n",
    "e_models = []\n",
    "\n",
    "e_models.append(('RF', RandomForestRegressor()))\n",
    "e_models.append(('GB', GradientBoostingRegressor()))\n",
    "\n",
    "# empty lists to store model names and results\n",
    "e_results = []\n",
    "e_names = []\n",
    "\n",
    "# Kfold and cross validation parameters\n",
    "seed = 234\n",
    "num_fold = 10\n",
    "scoring = 'neg_mean_squared_error'\n",
    "\n",
    "for e_name, e_model in e_models:\n",
    "    kfold = KFold(n_splits=num_fold, random_state=seed)\n",
    "    e_cv_results = cross_val_score(e_model, trainCopyTransformed, trainCopyY, cv=kfold, scoring=scoring)\n",
    "    \n",
    "    # output to evaluate results\n",
    "    e_rmse = np.sqrt(-e_cv_results)\n",
    "    \n",
    "    # append each model results into empty lists created\n",
    "    e_results.append(e_rmse)\n",
    "    e_names.append(e_name)\n",
    "    \n",
    "    see_e_results = '%s: %f (%f)' % (e_name, e_rmse.mean(), e_rmse.std())\n",
    "    print(see_e_results)"
   ]
  },
  {
   "cell_type": "markdown",
   "metadata": {},
   "source": [
    "**GradientBoostingRegressor performed best so far with 183.18 in RMSE score**"
   ]
  },
  {
   "cell_type": "code",
   "execution_count": 64,
   "metadata": {},
   "outputs": [
    {
     "data": {
      "image/png": "[encoded data removed]",
      "text/plain": [
       "<Figure size 432x288 with 1 Axes>"
      ]
     },
     "metadata": {
      "needs_background": "light"
     },
     "output_type": "display_data"
    }
   ],
   "source": [
    "# Compare Algorithms\n",
    "fig = plt.figure()\n",
    "fig.suptitle('Algorithm Comparison')\n",
    "ax = fig.add_subplot(111)\n",
    "plt.boxplot(e_results)\n",
    "ax.set_xticklabels(e_names)\n",
    "plt.show()"
   ]
  },
  {
   "cell_type": "markdown",
   "metadata": {},
   "source": [
    "### Fine Tune the best Model with GridSeearchCV"
   ]
  },
  {
   "cell_type": "code",
   "execution_count": 65,
   "metadata": {},
   "outputs": [
    {
     "name": "stderr",
     "output_type": "stream",
     "text": [
      "C:\\Users\\USER\\AppData\\Local\\Continuum\\anaconda3\\lib\\site-packages\\sklearn\\model_selection\\_split.py:297: FutureWarning: Setting a random_state has no effect since shuffle is False. This will raise an error in 0.24. You should leave random_state to its default (None), or set shuffle=True.\n",
      "  FutureWarning\n"
     ]
    },
    {
     "name": "stdout",
     "output_type": "stream",
     "text": [
      "Best: -35067.317209 using {'loss': 'ls', 'max_features': 'log2', 'n_estimators': 300}\n",
      "-35217.779679 (16891.350560) with: {'loss': 'ls', 'max_features': 'sqrt', 'n_estimators': 100}\n",
      "-35218.889668 (16718.337552) with: {'loss': 'ls', 'max_features': 'sqrt', 'n_estimators': 150}\n",
      "-35243.022485 (16899.100820) with: {'loss': 'ls', 'max_features': 'sqrt', 'n_estimators': 200}\n",
      "-35116.523597 (16963.546686) with: {'loss': 'ls', 'max_features': 'sqrt', 'n_estimators': 250}\n",
      "-35144.783906 (16874.731167) with: {'loss': 'ls', 'max_features': 'sqrt', 'n_estimators': 300}\n",
      "-35143.207686 (16900.032341) with: {'loss': 'ls', 'max_features': 'log2', 'n_estimators': 100}\n",
      "-35188.679914 (16973.869863) with: {'loss': 'ls', 'max_features': 'log2', 'n_estimators': 150}\n",
      "-35210.930069 (16783.294715) with: {'loss': 'ls', 'max_features': 'log2', 'n_estimators': 200}\n",
      "-35273.418187 (16891.072544) with: {'loss': 'ls', 'max_features': 'log2', 'n_estimators': 250}\n",
      "-35067.317209 (16836.412355) with: {'loss': 'ls', 'max_features': 'log2', 'n_estimators': 300}\n",
      "-45064.344981 (16588.172138) with: {'loss': 'quantile', 'max_features': 'sqrt', 'n_estimators': 100}\n",
      "-45330.549218 (16681.428249) with: {'loss': 'quantile', 'max_features': 'sqrt', 'n_estimators': 150}\n",
      "-45199.930157 (16528.816560) with: {'loss': 'quantile', 'max_features': 'sqrt', 'n_estimators': 200}\n",
      "-45406.199732 (16472.933754) with: {'loss': 'quantile', 'max_features': 'sqrt', 'n_estimators': 250}\n",
      "-45382.559577 (16507.594850) with: {'loss': 'quantile', 'max_features': 'sqrt', 'n_estimators': 300}\n",
      "-45043.967487 (16478.930110) with: {'loss': 'quantile', 'max_features': 'log2', 'n_estimators': 100}\n",
      "-45376.053751 (16363.115212) with: {'loss': 'quantile', 'max_features': 'log2', 'n_estimators': 150}\n",
      "-45583.060971 (16382.329470) with: {'loss': 'quantile', 'max_features': 'log2', 'n_estimators': 200}\n",
      "-45346.874432 (16481.689819) with: {'loss': 'quantile', 'max_features': 'log2', 'n_estimators': 250}\n",
      "-45523.019236 (16218.630552) with: {'loss': 'quantile', 'max_features': 'log2', 'n_estimators': 300}\n",
      "-36604.250551 (17299.013307) with: {'loss': 'huber', 'max_features': 'sqrt', 'n_estimators': 100}\n",
      "-36389.835654 (17340.999064) with: {'loss': 'huber', 'max_features': 'sqrt', 'n_estimators': 150}\n",
      "-36464.126531 (17342.908028) with: {'loss': 'huber', 'max_features': 'sqrt', 'n_estimators': 200}\n",
      "-36205.284062 (17355.165632) with: {'loss': 'huber', 'max_features': 'sqrt', 'n_estimators': 250}\n",
      "-36191.436995 (17378.271390) with: {'loss': 'huber', 'max_features': 'sqrt', 'n_estimators': 300}\n",
      "-36655.025109 (17334.301437) with: {'loss': 'huber', 'max_features': 'log2', 'n_estimators': 100}\n",
      "-36458.579177 (17358.542296) with: {'loss': 'huber', 'max_features': 'log2', 'n_estimators': 150}\n",
      "-36326.224609 (17311.386603) with: {'loss': 'huber', 'max_features': 'log2', 'n_estimators': 200}\n",
      "-36268.851307 (17300.877185) with: {'loss': 'huber', 'max_features': 'log2', 'n_estimators': 250}\n",
      "-36183.404177 (17351.385187) with: {'loss': 'huber', 'max_features': 'log2', 'n_estimators': 300}\n"
     ]
    }
   ],
   "source": [
    "# import relevant libraries\n",
    "from sklearn.model_selection import GridSearchCV\n",
    "\n",
    "# set parameters\n",
    "estimators = [100, 150, 200, 250, 300]\n",
    "loss = ['ls', 'quantile', 'huber']\n",
    "max_feat = ['sqrt', 'log2']\n",
    "param_grid = dict(loss=loss, n_estimators=estimators, max_features=max_feat)\n",
    "\n",
    "# instantiate model\n",
    "model = GradientBoostingRegressor()\n",
    "\n",
    "# Kfold and cross validation parameters\n",
    "seed = 234\n",
    "num_fold = 10\n",
    "scoring = 'neg_mean_squared_error'\n",
    "\n",
    "# gridsearchCV\n",
    "kfold = KFold(n_splits=num_fold, random_state=seed)\n",
    "grid = GridSearchCV(estimator=model, param_grid=param_grid, scoring=scoring, cv=kfold)\n",
    "grid_result = grid.fit(trainCopyTransformed, trainCopyY)\n",
    "\n",
    "# print result\n",
    "print(\"Best: %f using %s\" % (grid_result.best_score_, grid_result.best_params_))\n",
    "means = grid_result.cv_results_['mean_test_score']\n",
    "stds = grid_result.cv_results_['std_test_score']\n",
    "params = grid_result.cv_results_['params']\n",
    "for mean, stdev, param in zip(means, stds, params):\n",
    "    print(\"%f (%f) with: %r\" % (mean, stdev, param))"
   ]
  },
  {
   "cell_type": "markdown",
   "metadata": {},
   "source": [
    "**Now we will perform data transformation and model training (with the best hyperparameter combo) through a single pipeline on the data (the original training set).**"
   ]
  },
  {
   "cell_type": "code",
   "execution_count": 66,
   "metadata": {},
   "outputs": [
    {
     "data": {
      "text/html": [
       "<div>\n",
       "<style scoped>\n",
       "    .dataframe tbody tr th:only-of-type {\n",
       "        vertical-align: middle;\n",
       "    }\n",
       "\n",
       "    .dataframe tbody tr th {\n",
       "        vertical-align: top;\n",
       "    }\n",
       "\n",
       "    .dataframe thead th {\n",
       "        text-align: right;\n",
       "    }\n",
       "</style>\n",
       "<table border=\"1\" class=\"dataframe\">\n",
       "  <thead>\n",
       "    <tr style=\"text-align: right;\">\n",
       "      <th></th>\n",
       "      <th>Host Id</th>\n",
       "      <th>Host Since</th>\n",
       "      <th>Name</th>\n",
       "      <th>Borough</th>\n",
       "      <th>Property Type</th>\n",
       "      <th>Review Scores Rating (bin)</th>\n",
       "      <th>Room Type</th>\n",
       "      <th>Zipcode</th>\n",
       "      <th>Beds</th>\n",
       "      <th>Number of Records</th>\n",
       "      <th>Number Of Reviews</th>\n",
       "      <th>Review Scores Rating</th>\n",
       "    </tr>\n",
       "  </thead>\n",
       "  <tbody>\n",
       "    <tr>\n",
       "      <th>14983</th>\n",
       "      <td>8235445</td>\n",
       "      <td>2013-08-18</td>\n",
       "      <td>Downtown Brooklyn Living</td>\n",
       "      <td>Brooklyn</td>\n",
       "      <td>Apartment</td>\n",
       "      <td>85.0</td>\n",
       "      <td>Entire home/apt</td>\n",
       "      <td>11201.0</td>\n",
       "      <td>4.0</td>\n",
       "      <td>1</td>\n",
       "      <td>28</td>\n",
       "      <td>87.0</td>\n",
       "    </tr>\n",
       "    <tr>\n",
       "      <th>14303</th>\n",
       "      <td>7452455</td>\n",
       "      <td>2013-07-13</td>\n",
       "      <td>MANHATTAN STUDIO 10 MIN TO DOWNTOWN</td>\n",
       "      <td>Manhattan</td>\n",
       "      <td>Apartment</td>\n",
       "      <td>85.0</td>\n",
       "      <td>Entire home/apt</td>\n",
       "      <td>10035.0</td>\n",
       "      <td>3.0</td>\n",
       "      <td>1</td>\n",
       "      <td>32</td>\n",
       "      <td>85.0</td>\n",
       "    </tr>\n",
       "    <tr>\n",
       "      <th>5560</th>\n",
       "      <td>1689781</td>\n",
       "      <td>2012-02-02</td>\n",
       "      <td>1 bedroom by Riverbank Park</td>\n",
       "      <td>Manhattan</td>\n",
       "      <td>Apartment</td>\n",
       "      <td>90.0</td>\n",
       "      <td>Private room</td>\n",
       "      <td>10031.0</td>\n",
       "      <td>1.0</td>\n",
       "      <td>1</td>\n",
       "      <td>4</td>\n",
       "      <td>90.0</td>\n",
       "    </tr>\n",
       "    <tr>\n",
       "      <th>6603</th>\n",
       "      <td>2202858</td>\n",
       "      <td>2012-04-23</td>\n",
       "      <td>Bright One Bed Apt</td>\n",
       "      <td>Brooklyn</td>\n",
       "      <td>Apartment</td>\n",
       "      <td>NaN</td>\n",
       "      <td>Entire home/apt</td>\n",
       "      <td>11225.0</td>\n",
       "      <td>1.0</td>\n",
       "      <td>1</td>\n",
       "      <td>0</td>\n",
       "      <td>NaN</td>\n",
       "    </tr>\n",
       "    <tr>\n",
       "      <th>30233</th>\n",
       "      <td>41938451</td>\n",
       "      <td>2015-08-19</td>\n",
       "      <td>Clean, Modern, Brooklyn Apt</td>\n",
       "      <td>Brooklyn</td>\n",
       "      <td>Apartment</td>\n",
       "      <td>100.0</td>\n",
       "      <td>Private room</td>\n",
       "      <td>11213.0</td>\n",
       "      <td>1.0</td>\n",
       "      <td>1</td>\n",
       "      <td>3</td>\n",
       "      <td>100.0</td>\n",
       "    </tr>\n",
       "  </tbody>\n",
       "</table>\n",
       "</div>"
      ],
      "text/plain": [
       "        Host Id Host Since                                 Name    Borough  \\\n",
       "14983   8235445 2013-08-18             Downtown Brooklyn Living   Brooklyn   \n",
       "14303   7452455 2013-07-13  MANHATTAN STUDIO 10 MIN TO DOWNTOWN  Manhattan   \n",
       "5560    1689781 2012-02-02          1 bedroom by Riverbank Park  Manhattan   \n",
       "6603    2202858 2012-04-23                   Bright One Bed Apt   Brooklyn   \n",
       "30233  41938451 2015-08-19          Clean, Modern, Brooklyn Apt   Brooklyn   \n",
       "\n",
       "      Property Type  Review Scores Rating (bin)        Room Type  Zipcode  \\\n",
       "14983     Apartment                        85.0  Entire home/apt  11201.0   \n",
       "14303     Apartment                        85.0  Entire home/apt  10035.0   \n",
       "5560      Apartment                        90.0     Private room  10031.0   \n",
       "6603      Apartment                         NaN  Entire home/apt  11225.0   \n",
       "30233     Apartment                       100.0     Private room  11213.0   \n",
       "\n",
       "       Beds  Number of Records  Number Of Reviews  Review Scores Rating  \n",
       "14983   4.0                  1                 28                  87.0  \n",
       "14303   3.0                  1                 32                  85.0  \n",
       "5560    1.0                  1                  4                  90.0  \n",
       "6603    1.0                  1                  0                   NaN  \n",
       "30233   1.0                  1                  3                 100.0  "
      ]
     },
     "execution_count": 66,
     "metadata": {},
     "output_type": "execute_result"
    }
   ],
   "source": [
    "# subset predictors from target\n",
    "trainX = Train.drop(['Price'], axis=1)\n",
    "trainY = Train['Price']\n",
    "trainX.head()"
   ]
  },
  {
   "cell_type": "code",
   "execution_count": 67,
   "metadata": {},
   "outputs": [
    {
     "data": {
      "text/plain": [
       "Pipeline(steps=[('preparation', TidyData()),\n",
       "                ('transformer',\n",
       "                 ColumnTransformer(transformers=[('Nums',\n",
       "                                                  Pipeline(steps=[('ImputeNum',\n",
       "                                                                   SimpleImputer(strategy='median')),\n",
       "                                                                  ('Scaler',\n",
       "                                                                   StandardScaler())]),\n",
       "                                                  ['Beds', 'Number Of Reviews',\n",
       "                                                   'Review Scores Rating',\n",
       "                                                   'Host Since']),\n",
       "                                                 ('Cats',\n",
       "                                                  Pipeline(steps=[('ImputeCat',\n",
       "                                                                   SimpleImputer(strategy='most_frequent')),\n",
       "                                                                  ('OneHot',\n",
       "                                                                   OneHotEncoder())]),\n",
       "                                                  Index(['Borough', 'Property Type', 'Room Type'], dtype='object'))])),\n",
       "                ('model',\n",
       "                 GradientBoostingRegressor(max_features='log2',\n",
       "                                           n_estimators=300))])"
      ]
     },
     "execution_count": 67,
     "metadata": {},
     "output_type": "execute_result"
    }
   ],
   "source": [
    "# model pipeline\n",
    "final_model_pipeline = Pipeline([('preparation', TidyData(age_missing_values=True)),\n",
    "                                 ('transformer', fullPipe),\n",
    "                                 ('model', GradientBoostingRegressor(loss='ls', max_features='log2', n_estimators=300))])\n",
    "\n",
    "final_model_pipeline.fit(trainX, trainY)"
   ]
  },
  {
   "cell_type": "code",
   "execution_count": 68,
   "metadata": {},
   "outputs": [
    {
     "data": {
      "text/html": [
       "<div>\n",
       "<style scoped>\n",
       "    .dataframe tbody tr th:only-of-type {\n",
       "        vertical-align: middle;\n",
       "    }\n",
       "\n",
       "    .dataframe tbody tr th {\n",
       "        vertical-align: top;\n",
       "    }\n",
       "\n",
       "    .dataframe thead th {\n",
       "        text-align: right;\n",
       "    }\n",
       "</style>\n",
       "<table border=\"1\" class=\"dataframe\">\n",
       "  <thead>\n",
       "    <tr style=\"text-align: right;\">\n",
       "      <th></th>\n",
       "      <th>Host Id</th>\n",
       "      <th>Host Since</th>\n",
       "      <th>Name</th>\n",
       "      <th>Borough</th>\n",
       "      <th>Property Type</th>\n",
       "      <th>Review Scores Rating (bin)</th>\n",
       "      <th>Room Type</th>\n",
       "      <th>Zipcode</th>\n",
       "      <th>Beds</th>\n",
       "      <th>Number of Records</th>\n",
       "      <th>Number Of Reviews</th>\n",
       "      <th>Review Scores Rating</th>\n",
       "    </tr>\n",
       "  </thead>\n",
       "  <tbody>\n",
       "    <tr>\n",
       "      <th>20546</th>\n",
       "      <td>16861530</td>\n",
       "      <td>2014-06-16</td>\n",
       "      <td>Tigui's Room 2</td>\n",
       "      <td>Queens</td>\n",
       "      <td>Apartment</td>\n",
       "      <td>NaN</td>\n",
       "      <td>Private room</td>\n",
       "      <td>11106.0</td>\n",
       "      <td>2.0</td>\n",
       "      <td>1</td>\n",
       "      <td>0</td>\n",
       "      <td>NaN</td>\n",
       "    </tr>\n",
       "    <tr>\n",
       "      <th>5032</th>\n",
       "      <td>1492900</td>\n",
       "      <td>2011-12-11</td>\n",
       "      <td>1-bedroom Greenwich Village</td>\n",
       "      <td>Manhattan</td>\n",
       "      <td>Apartment</td>\n",
       "      <td>95.0</td>\n",
       "      <td>Entire home/apt</td>\n",
       "      <td>10003.0</td>\n",
       "      <td>1.0</td>\n",
       "      <td>1</td>\n",
       "      <td>10</td>\n",
       "      <td>98.0</td>\n",
       "    </tr>\n",
       "    <tr>\n",
       "      <th>2600</th>\n",
       "      <td>567226</td>\n",
       "      <td>2011-05-08</td>\n",
       "      <td>Feels like home with park view</td>\n",
       "      <td>Manhattan</td>\n",
       "      <td>Apartment</td>\n",
       "      <td>95.0</td>\n",
       "      <td>Entire home/apt</td>\n",
       "      <td>10034.0</td>\n",
       "      <td>1.0</td>\n",
       "      <td>1</td>\n",
       "      <td>13</td>\n",
       "      <td>95.0</td>\n",
       "    </tr>\n",
       "    <tr>\n",
       "      <th>13703</th>\n",
       "      <td>6885157</td>\n",
       "      <td>2013-06-12</td>\n",
       "      <td>nice room in bedstuy 6</td>\n",
       "      <td>Brooklyn</td>\n",
       "      <td>Apartment</td>\n",
       "      <td>80.0</td>\n",
       "      <td>Private room</td>\n",
       "      <td>11216.0</td>\n",
       "      <td>1.0</td>\n",
       "      <td>1</td>\n",
       "      <td>26</td>\n",
       "      <td>83.0</td>\n",
       "    </tr>\n",
       "    <tr>\n",
       "      <th>6681</th>\n",
       "      <td>2248340</td>\n",
       "      <td>2012-04-29</td>\n",
       "      <td>Luxury Penthouse with Terrace</td>\n",
       "      <td>Brooklyn</td>\n",
       "      <td>Apartment</td>\n",
       "      <td>95.0</td>\n",
       "      <td>Entire home/apt</td>\n",
       "      <td>11211.0</td>\n",
       "      <td>2.0</td>\n",
       "      <td>1</td>\n",
       "      <td>3</td>\n",
       "      <td>99.0</td>\n",
       "    </tr>\n",
       "  </tbody>\n",
       "</table>\n",
       "</div>"
      ],
      "text/plain": [
       "        Host Id Host Since                            Name    Borough  \\\n",
       "20546  16861530 2014-06-16                  Tigui's Room 2     Queens   \n",
       "5032    1492900 2011-12-11     1-bedroom Greenwich Village  Manhattan   \n",
       "2600     567226 2011-05-08  Feels like home with park view  Manhattan   \n",
       "13703   6885157 2013-06-12          nice room in bedstuy 6   Brooklyn   \n",
       "6681    2248340 2012-04-29   Luxury Penthouse with Terrace   Brooklyn   \n",
       "\n",
       "      Property Type  Review Scores Rating (bin)        Room Type  Zipcode  \\\n",
       "20546     Apartment                         NaN     Private room  11106.0   \n",
       "5032      Apartment                        95.0  Entire home/apt  10003.0   \n",
       "2600      Apartment                        95.0  Entire home/apt  10034.0   \n",
       "13703     Apartment                        80.0     Private room  11216.0   \n",
       "6681      Apartment                        95.0  Entire home/apt  11211.0   \n",
       "\n",
       "       Beds  Number of Records  Number Of Reviews  Review Scores Rating  \n",
       "20546   2.0                  1                  0                   NaN  \n",
       "5032    1.0                  1                 10                  98.0  \n",
       "2600    1.0                  1                 13                  95.0  \n",
       "13703   1.0                  1                 26                  83.0  \n",
       "6681    2.0                  1                  3                  99.0  "
      ]
     },
     "execution_count": 68,
     "metadata": {},
     "output_type": "execute_result"
    }
   ],
   "source": [
    "# Take out target variable from the final test set\n",
    "Test = Test.drop(['Price'], axis=1)\n",
    "Test.head()"
   ]
  },
  {
   "cell_type": "code",
   "execution_count": 69,
   "metadata": {},
   "outputs": [
    {
     "data": {
      "text/plain": [
       "array([167.87978034, 176.43298349, 173.63368101, ..., 124.14629972,\n",
       "       212.08477108, 126.80228127])"
      ]
     },
     "execution_count": 69,
     "metadata": {},
     "output_type": "execute_result"
    }
   ],
   "source": [
    "final_model_pipeline.predict(Test)"
   ]
  },
  {
   "cell_type": "code",
   "execution_count": 70,
   "metadata": {},
   "outputs": [
    {
     "data": {
      "text/plain": [
       "['airbnbModel.sav']"
      ]
     },
     "execution_count": 70,
     "metadata": {},
     "output_type": "execute_result"
    }
   ],
   "source": [
    "# save the final model\n",
    "import joblib as jb\n",
    "\n",
    "jb.dump(final_model_pipeline, 'airbnbModel.sav', compress=1)"
   ]
  },
  {
   "cell_type": "markdown",
   "metadata": {},
   "source": [
    "### DONE"
   ]
  }
 ],
 "metadata": {
  "kernelspec": {
   "display_name": "Python 3",
   "language": "python",
   "name": "python3"
  },
  "language_info": {
   "codemirror_mode": {
    "name": "ipython",
    "version": 3
   },
   "file_extension": ".py",
   "mimetype": "text/x-python",
   "name": "python",
   "nbconvert_exporter": "python",
   "pygments_lexer": "ipython3",
   "version": "3.7.1"
  }
 },
 "nbformat": 4,
 "nbformat_minor": 2
}
